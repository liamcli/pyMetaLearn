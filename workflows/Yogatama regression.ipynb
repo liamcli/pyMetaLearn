{
 "metadata": {
  "name": "",
  "signature": "sha256:e8a71587962b8364c313d4d1e52d2c5739ed1e00d6add97b0a0fb63215f5b8e6"
 },
 "nbformat": 3,
 "nbformat_minor": 0,
 "worksheets": [
  {
   "cells": [
    {
     "cell_type": "code",
     "collapsed": false,
     "input": [
      "# Compare the prediction of Y-values over 57 datasets for the 2-hyperparameter SVM problem between\n",
      "# Unscaled Y-values\n",
      "# Y-values normalized to zero mean and unit standard deviation "
     ],
     "language": "python",
     "metadata": {},
     "outputs": []
    },
    {
     "cell_type": "code",
     "collapsed": false,
     "input": [
      "from collections import defaultdict\n",
      "import cPickle\n",
      "import numpy as np\n",
      "import pandas as pd\n",
      "\n",
      "import sklearn.ensemble\n",
      "\n",
      "import pyMetaLearn.optimizers.metalearn_optimizer.learn_distances as learn_distances"
     ],
     "language": "python",
     "metadata": {},
     "outputs": [],
     "prompt_number": 1
    },
    {
     "cell_type": "code",
     "collapsed": false,
     "input": [
      "with open('regression_dataset.pkl') as fh:\n",
      "    X, Y, metafeatures = cPickle.load(fh)\n",
      "\n",
      "Y[~np.isfinite(Y)] = 1\n",
      "rs = np.random.RandomState(42)\n",
      "mae, mae_std, mse, mse_std, rho, rho_std, mean_ranks = \\\n",
      "    learn_distances.train_rf(X, Y, metafeatures, {'n_estimators': 100, 'max_features': 0.2, 'n_jobs': 1})\n",
      "    \n",
      "print \"MAE\", mae, mae_std\n",
      "print \"MSE\", mse, mse_std"
     ],
     "language": "python",
     "metadata": {},
     "outputs": [
      {
       "output_type": "stream",
       "stream": "stdout",
       "text": [
        "Metafeatures (57, 46)\n",
        "X (22743, 48)\n",
        "Y (22743, 1)\n",
        "Dataset Mae MSE Rho\n",
        "vehicle"
       ]
      },
      {
       "output_type": "stream",
       "stream": "stdout",
       "text": [
        " 0.173239793091 0.0338902188713 0.417633299071\n",
        "anneal.ORIG"
       ]
      },
      {
       "output_type": "stream",
       "stream": "stdout",
       "text": [
        " 0.0522043528787 0.00574433348123 0.704403763741\n",
        "segment"
       ]
      },
      {
       "output_type": "stream",
       "stream": "stdout",
       "text": [
        " 0.144411230334 0.0261859793806 0.795985378546\n",
        "pendigits"
       ]
      },
      {
       "output_type": "stream",
       "stream": "stdout",
       "text": [
        " 0.248079043184 0.0783439226493 0.558047314382\n",
        "mushroom"
       ]
      },
      {
       "output_type": "stream",
       "stream": "stdout",
       "text": [
        " 0.11241878008 0.0180949187363 0.801036341348\n",
        "labor"
       ]
      },
      {
       "output_type": "stream",
       "stream": "stdout",
       "text": [
        " 0.0797931061678 0.00932574488568 0.687883605804\n",
        "abalone"
       ]
      },
      {
       "output_type": "stream",
       "stream": "stdout",
       "text": [
        " 0.214217339157 0.0553509644801 0.0715362733978\n",
        "diabetes"
       ]
      },
      {
       "output_type": "stream",
       "stream": "stdout",
       "text": [
        " 0.0425677923595 0.00257893939918 -0.116527149644\n",
        "car"
       ]
      },
      {
       "output_type": "stream",
       "stream": "stdout",
       "text": [
        " 0.0657477796678 0.00531162948519 0.651327640976\n",
        "autos"
       ]
      },
      {
       "output_type": "stream",
       "stream": "stdout",
       "text": [
        " 0.135827907952 0.0250942728926 0.629950596263\n",
        "mfeat-fourier"
       ]
      },
      {
       "output_type": "stream",
       "stream": "stdout",
       "text": [
        " 0.339766094944 0.16586164469 -0.273813167808\n",
        "primary-tumor"
       ]
      },
      {
       "output_type": "stream",
       "stream": "stdout",
       "text": [
        " 0.153980879231 0.029751792408 0.581650143606\n",
        "waveform-5000"
       ]
      },
      {
       "output_type": "stream",
       "stream": "stdout",
       "text": [
        " 0.166792306869 0.0403497914441 0.344285057792\n",
        "credit-a"
       ]
      },
      {
       "output_type": "stream",
       "stream": "stdout",
       "text": [
        " 0.110955543031 0.0169266293772 0.0316056163126\n",
        "letter"
       ]
      },
      {
       "output_type": "stream",
       "stream": "stdout",
       "text": [
        " 0.264089944572 0.0920139626679 0.335857200448\n",
        "postoperative-patient-data"
       ]
      },
      {
       "output_type": "stream",
       "stream": "stdout",
       "text": [
        " 0.0644087609399 0.00757726467884 -0.188470428647\n",
        "vowel"
       ]
      },
      {
       "output_type": "stream",
       "stream": "stdout",
       "text": [
        " 0.280692401813 0.119888712379 0.010383384781\n",
        "eucalyptus"
       ]
      },
      {
       "output_type": "stream",
       "stream": "stdout",
       "text": [
        " 0.0672771991596 0.00608375638135 0.735517653636\n",
        "cylinder-bands"
       ]
      },
      {
       "output_type": "stream",
       "stream": "stdout",
       "text": [
        " 0.0282172666702 0.00104689754694 0.725288088493\n",
        "ionosphere"
       ]
      },
      {
       "output_type": "stream",
       "stream": "stdout",
       "text": [
        " 0.11531106725 0.0197836924019 0.295575118034\n",
        "mfeat-karhunen"
       ]
      },
      {
       "output_type": "stream",
       "stream": "stdout",
       "text": [
        " 0.234596904191 0.0662554050063 0.563715826648\n",
        "balance-scale"
       ]
      },
      {
       "output_type": "stream",
       "stream": "stdout",
       "text": [
        " 0.173416446846 0.0339124336835 0.589610866977\n",
        "mfeat-morphological"
       ]
      },
      {
       "output_type": "stream",
       "stream": "stdout",
       "text": [
        " 0.0922940589263 0.0105472497878 0.738778862558\n",
        "liver-disorders"
       ]
      },
      {
       "output_type": "stream",
       "stream": "stdout",
       "text": [
        " 0.0466099020721 0.00272058357133 0.384359658715\n",
        "dermatology"
       ]
      },
      {
       "output_type": "stream",
       "stream": "stdout",
       "text": [
        " 0.12506679993 0.0214894558401 0.804304131351\n",
        "vote"
       ]
      },
      {
       "output_type": "stream",
       "stream": "stdout",
       "text": [
        " 0.0716957172606 0.0068000365641 0.688652931142\n",
        "breast-cancer"
       ]
      },
      {
       "output_type": "stream",
       "stream": "stdout",
       "text": [
        " 0.0249418021715 0.000868360533855 -0.17996768823\n",
        "credit-g"
       ]
      },
      {
       "output_type": "stream",
       "stream": "stdout",
       "text": [
        " 0.0342320656192 0.00159006858994 -0.564133653166\n",
        "soybean"
       ]
      },
      {
       "output_type": "stream",
       "stream": "stdout",
       "text": [
        " 0.165399735732 0.0410990612675 0.573679350326\n",
        "arrhythmia"
       ]
      },
      {
       "output_type": "stream",
       "stream": "stdout",
       "text": [
        " 0.0675982334304 0.00680311359278 0.0804781577266\n",
        "nursery"
       ]
      },
      {
       "output_type": "stream",
       "stream": "stdout",
       "text": [
        " 0.233786163969 0.0634173569318 0.405625033931\n",
        "hepatitis"
       ]
      },
      {
       "output_type": "stream",
       "stream": "stdout",
       "text": [
        " 0.0691435964349 0.00615144637219 -0.116149100434\n",
        "cmc"
       ]
      },
      {
       "output_type": "stream",
       "stream": "stdout",
       "text": [
        " 0.0526103886435 0.00371086567394 0.463009168977\n",
        "heart-c"
       ]
      },
      {
       "output_type": "stream",
       "stream": "stdout",
       "text": [
        " 0.0689168201786 0.00626676438014 0.477414055319\n",
        "glass"
       ]
      },
      {
       "output_type": "stream",
       "stream": "stdout",
       "text": [
        " 0.0930192266413 0.0117406964908 0.42260751357\n",
        "braziltourism"
       ]
      },
      {
       "output_type": "stream",
       "stream": "stdout",
       "text": [
        " 0.0552252279932 0.0038864597546 -0.455421659267\n",
        "iris"
       ]
      },
      {
       "output_type": "stream",
       "stream": "stdout",
       "text": [
        " 0.202665858794 0.0604668078525 0.266928433043\n",
        "heart-statlog"
       ]
      },
      {
       "output_type": "stream",
       "stream": "stdout",
       "text": [
        " 0.0768997686249 0.00731318979114 0.396160163921\n",
        "page-blocks"
       ]
      },
      {
       "output_type": "stream",
       "stream": "stdout",
       "text": [
        " 0.0941443807906 0.0155500955399 0.548556403373\n",
        "breast-w"
       ]
      },
      {
       "output_type": "stream",
       "stream": "stdout",
       "text": [
        " 0.0838658371628 0.0106386730246 0.347083863474\n",
        "heart-h"
       ]
      },
      {
       "output_type": "stream",
       "stream": "stdout",
       "text": [
        " 0.0405857696834 0.00256539810975 0.375918677873\n",
        "yeast"
       ]
      },
      {
       "output_type": "stream",
       "stream": "stdout",
       "text": [
        " 0.106009245342 0.0159542681151 0.210120821656\n",
        "tae"
       ]
      },
      {
       "output_type": "stream",
       "stream": "stdout",
       "text": [
        " 0.136608546237 0.0236157810154 0.119679001578\n",
        "haberman"
       ]
      },
      {
       "output_type": "stream",
       "stream": "stdout",
       "text": [
        " 0.0387521422032 0.00208709974856 -0.0687936345445\n",
        "mfeat-pixel"
       ]
      },
      {
       "output_type": "stream",
       "stream": "stdout",
       "text": [
        " 0.271702618703 0.0903656494435 0.444496951613\n",
        "optdigits"
       ]
      },
      {
       "output_type": "stream",
       "stream": "stdout",
       "text": [
        " 0.168666982923 0.0346953452219 0.694916605844\n",
        "mfeat-factors"
       ]
      },
      {
       "output_type": "stream",
       "stream": "stdout",
       "text": [
        " 0.43948503894 0.236608718036 0.615234824941\n",
        "satimage"
       ]
      },
      {
       "output_type": "stream",
       "stream": "stdout",
       "text": [
        " 0.264793275179 0.097738223228 0.20428687407\n",
        "lymph"
       ]
      },
      {
       "output_type": "stream",
       "stream": "stdout",
       "text": [
        " 0.0834577334 0.00819621243664 0.688190771213\n",
        "audiology"
       ]
      },
      {
       "output_type": "stream",
       "stream": "stdout",
       "text": [
        " 0.134011963204 0.0229661320318 0.554592196362\n",
        "ecoli"
       ]
      },
      {
       "output_type": "stream",
       "stream": "stdout",
       "text": [
        " 0.164100225877 0.0342720144546 0.205034086707\n",
        "tic-tac-toe"
       ]
      },
      {
       "output_type": "stream",
       "stream": "stdout",
       "text": [
        " 0.0851744778457 0.00918911041763 0.762276119271\n",
        "spambase"
       ]
      },
      {
       "output_type": "stream",
       "stream": "stdout",
       "text": [
        " 0.054389912813 0.00488655156395 0.607659443651\n",
        "zoo"
       ]
      },
      {
       "output_type": "stream",
       "stream": "stdout",
       "text": [
        " 0.12233992793 0.0184272538449 0.741566064323\n",
        "sonar"
       ]
      },
      {
       "output_type": "stream",
       "stream": "stdout",
       "text": [
        " 0.112588520138 0.0158856119241 0.0104596675918\n",
        "mfeat-zernike"
       ]
      },
      {
       "output_type": "stream",
       "stream": "stdout",
       "text": [
        " 0.373993545454 0.165219946789 0.36374667217\n",
        "kr-vs-kp"
       ]
      },
      {
       "output_type": "stream",
       "stream": "stdout",
       "text": [
        " 0.086552194827 0.00947721677783 0.68836210284\n",
        "MAE"
       ]
      },
      {
       "output_type": "stream",
       "stream": "stdout",
       "text": [
        " 0.133497186762 0.0905020566066\n",
        "MSE 0.0339049776429 0.0339049776429\n"
       ]
      }
     ],
     "prompt_number": 33
    },
    {
     "cell_type": "code",
     "collapsed": false,
     "input": [
      "with open('regression_dataset.pkl') as fh:\n",
      "    X, Y, metafeatures = cPickle.load(fh)"
     ],
     "language": "python",
     "metadata": {},
     "outputs": [],
     "prompt_number": 3
    },
    {
     "cell_type": "code",
     "collapsed": false,
     "input": [
      "Y_ = pd.Series()\n",
      "means = dict()\n",
      "stds = dict()\n",
      "# Subtract the mean and divide by std\n",
      "for idx in range(metafeatures.shape[0]):\n",
      "    dataset_indices = list()\n",
      "    leave_out_dataset = metafeatures.index[idx]\n",
      "    \n",
      "    for sample_name in Y.index:\n",
      "        if leave_out_dataset in sample_name:\n",
      "            dataset_indices.append(sample_name)\n",
      "            \n",
      "    mean = np.mean(Y.loc[dataset_indices])\n",
      "    std = np.std(Y.loc[dataset_indices])\n",
      "    means[leave_out_dataset] = mean\n",
      "    stds[leave_out_dataset] = std\n",
      "    data = (Y.loc[dataset_indices].values.reshape((-1)) - mean.values) / std.values\n",
      "    Y_ = Y_.append(pd.Series(data, index=dataset_indices))\n",
      "    \n",
      "loo_mae = []\n",
      "loo_mse = []\n",
      "loo_mae_denorm = []\n",
      "loo_mse_denorm = []\n",
      "predicted_means = []\n",
      "real_means = []\n",
      "for idx in range(metafeatures.shape[0]):    \n",
      "    leave_out_dataset = metafeatures.index[idx]\n",
      "    \n",
      "    train = []\n",
      "    valid = []\n",
      "    per_dataset_y = defaultdict(list)\n",
      "    for sample_name in X.index:\n",
      "        if leave_out_dataset in sample_name:\n",
      "            valid.append(sample_name)\n",
      "        else:\n",
      "            train.append(sample_name)\n",
      "            \n",
      "        dataset_name = sample_name.rsplit(\"_\", 1)[0]\n",
      "        per_dataset_y[dataset_name] = Y_[sample_name]\n",
      "\n",
      "    X_train = X.loc[train].values\n",
      "    Y_train = Y_.loc[train].values.reshape((-1,))\n",
      "    Y_train[~np.isfinite(Y_train)] = 1\n",
      "    X_valid = X.loc[valid].values\n",
      "    Y_valid = Y_.loc[valid].values.reshape((-1,))\n",
      "    Y_valid[~np.isfinite(Y_valid)] = 1\n",
      "    \n",
      "    rs = np.random.RandomState(42)\n",
      "    indices = np.arange(X_train.shape[0])\n",
      "    rs.shuffle(indices)\n",
      "    X_train = X_train[indices]\n",
      "    Y_train = Y_train[indices]\n",
      "    \n",
      "    rf = sklearn.ensemble.RandomForestRegressor(n_estimators=100, max_features=0.2, n_jobs=1)\n",
      "    X_mean_train = metafeatures.loc[metafeatures.index != leave_out_dataset].values\n",
      "    X_mean_test = metafeatures.loc[leave_out_dataset].values.reshape((1, -1))\n",
      "    Y_mean_train = np.array([means[dataset_name] for dataset_name in metafeatures.index[metafeatures.index != leave_out_dataset]])\n",
      "    Y_mean_train = Y_mean_train.reshape((-1, ))\n",
      "    Y_mean_test = np.array([means[leave_out_dataset]]).reshape((1, ))\n",
      "    rf.fit(X_mean_train, Y_mean_train)\n",
      "    prediction = rf.predict(X_mean_test)\n",
      "    predicted_means.append(prediction)\n",
      "    real_means.append(Y_mean_test)\n",
      "    \n",
      "    rf = sklearn.ensemble.RandomForestRegressor(n_estimators=100, max_features=0.2, n_jobs=1)\n",
      "    rf.fit(X_train, Y_train)\n",
      "    predictions = rf.predict(X_valid)\n",
      "    mae = sklearn.metrics.mean_absolute_error(predictions, Y_valid)\n",
      "    mse = sklearn.metrics.mean_squared_error(predictions, Y_valid)\n",
      "    loo_mae.append(mae)\n",
      "    loo_mse.append(mse)\n",
      "    \n",
      "    predictions = (predictions * stds[leave_out_dataset].values) + means[leave_out_dataset].values\n",
      "    y = (Y_valid * stds[leave_out_dataset].values) + means[leave_out_dataset].values\n",
      "    mae_denorm = sklearn.metrics.mean_absolute_error(predictions, y)\n",
      "    mse_denorm = sklearn.metrics.mean_squared_error(predictions, y)\n",
      "    loo_mae_denorm.append(mae_denorm)\n",
      "    loo_mse_denorm.append(mse_denorm)\n",
      "    \n",
      "    print predicted_means[-1], real_means[-1]\n",
      "    print leave_out_dataset, mae, mse, mae_denorm, mse_denorm\n",
      "    \n",
      "print predicted_means\n",
      "print real_means\n",
      "mae = np.mean(loo_mae)\n",
      "mae_std = np.std(loo_mae)\n",
      "mse = np.mean(loo_mse)\n",
      "mse_std = np.std(loo_mse)\n",
      "mae_denorm = np.mean(loo_mae_denorm)\n",
      "mae_std_denorm = np.std(loo_mae_denorm)\n",
      "mse_denorm = np.mean(loo_mse_denorm)\n",
      "mse_std_denorm = np.std(loo_mse_denorm)\n",
      "print \"MAE\", mae, mae_std\n",
      "print \"MSE\", mse, mse_std\n",
      "print \"MAE denorm\", mae_denorm, mae_std_denorm\n",
      "print \"MSE denorm\", mse_denorm, mse_std_denorm"
     ],
     "language": "python",
     "metadata": {},
     "outputs": [
      {
       "output_type": "stream",
       "stream": "stdout",
       "text": [
        "[ 0.45296006] [ 0.54998061]\n",
        "vehicle 0.671964483425 0.53905921762 0.140911966295 0.0237049797516\n",
        "[ 0.23030636]"
       ]
      },
      {
       "output_type": "stream",
       "stream": "stdout",
       "text": [
        " [ 0.15816309]\n",
        "anneal.ORIG 0.671821694258 0.580182457294 0.0397765694837 0.00203381382469\n",
        "[ 0.42638824]"
       ]
      },
      {
       "output_type": "stream",
       "stream": "stdout",
       "text": [
        " [ 0.35037115]\n",
        "segment 0.488412985559 0.325631490769 0.138692385917 0.0262577332435\n",
        "[ 0.41716161]"
       ]
      },
      {
       "output_type": "stream",
       "stream": "stdout",
       "text": [
        " [ 0.49701765]\n",
        "pendigits 0.632606724382 0.560829267366 0.250482790531 0.0879263099902\n",
        "[ 0.22500878]"
       ]
      },
      {
       "output_type": "stream",
       "stream": "stdout",
       "text": [
        " [ 0.09241907]\n",
        "mushroom 0.447229415057 0.328296011045 0.0796228624678 0.0104059194248\n",
        "[ 0.23880363]"
       ]
      },
      {
       "output_type": "stream",
       "stream": "stdout",
       "text": [
        " [ 0.20923138]\n",
        "labor 0.592529974489 0.440431230487 0.081241750577 0.00827972671541\n",
        "[ 0.54443981]"
       ]
      },
      {
       "output_type": "stream",
       "stream": "stdout",
       "text": [
        " [ 0.76949252]\n",
        "abalone 0.773407297499 0.779490389828 0.0310807936696 0.00125886290021\n",
        "[ 0.3101456]"
       ]
      },
      {
       "output_type": "stream",
       "stream": "stdout",
       "text": [
        " [ 0.33895713]\n",
        "diabetes 0.818575986956 1.24001696949 0.0255784486197 0.00121075989775\n",
        "[ 0.22371385]"
       ]
      },
      {
       "output_type": "stream",
       "stream": "stdout",
       "text": [
        " [ 0.16358846]\n",
        "car 0.738471769583 0.696329756777 0.0922086707626 0.0108565211355\n",
        "[ 0.46897575]"
       ]
      },
      {
       "output_type": "stream",
       "stream": "stdout",
       "text": [
        " [ 0.64398244]\n",
        "autos 0.48540023425 0.547241803853 0.0141925249734 0.000467841385169\n",
        "[ 0.49985]"
       ]
      },
      {
       "output_type": "stream",
       "stream": "stdout",
       "text": [
        " [ 0.27563493]\n",
        "mfeat-fourier 1.22220452793 2.00733045169 0.206182367273 0.0571260426314\n",
        "[ 0.48760585]"
       ]
      },
      {
       "output_type": "stream",
       "stream": "stdout",
       "text": [
        " [ 0.65334384]\n",
        "primary-tumor 0.460074765391 0.323680533794 0.0366232802138 0.00205104049377\n",
        "[ 0.34144529]"
       ]
      },
      {
       "output_type": "stream",
       "stream": "stdout",
       "text": [
        " [ 0.33309008]\n",
        "waveform-5000 0.539433537781 0.446334407355 0.130861420736 0.0262668347219\n",
        "[ 0.30363107]"
       ]
      },
      {
       "output_type": "stream",
       "stream": "stdout",
       "text": [
        " [ 0.39753202]\n",
        "credit-a 0.583485548727 0.55041010835 0.0394918679802 0.00252139882229\n",
        "[ 0.45834856]"
       ]
      },
      {
       "output_type": "stream",
       "stream": "stdout",
       "text": [
        " [ 0.31491991]\n",
        "letter 0.579902954093 0.474226982431 0.191714024638 0.0518302599848\n",
        "[ 0.31159651]"
       ]
      },
      {
       "output_type": "stream",
       "stream": "stdout",
       "text": [
        " [ 0.34139497]\n",
        "postoperative-patient-data 0.908073010679 1.19308607481 0.0503592072474 0.00366934046772\n",
        "[ 0.47107025]"
       ]
      },
      {
       "output_type": "stream",
       "stream": "stdout",
       "text": [
        " [ 0.22057047]\n",
        "vowel 1.01647350386 1.30393206128 0.19339203822 0.047199784978\n",
        "[ 0.4974926]"
       ]
      },
      {
       "output_type": "stream",
       "stream": "stdout",
       "text": [
        " [ 0.59838895]\n",
        "eucalyptus 0.597758582066 0.442299741128 0.0554778783181 0.00380982241347\n",
        "[ 0.36384393]"
       ]
      },
      {
       "output_type": "stream",
       "stream": "stdout",
       "text": [
        " [ 0.39324015]\n",
        "cylinder-bands 0.495342225595 0.423636774871 0.0236208089509 0.000963324231817\n",
        "[ 0.2999078]"
       ]
      },
      {
       "output_type": "stream",
       "stream": "stdout",
       "text": [
        " [ 0.19411625]\n",
        "ionosphere 0.856475521923 0.937086723667 0.103495786911 0.0136834376063\n",
        "[ 0.38879369]"
       ]
      },
      {
       "output_type": "stream",
       "stream": "stdout",
       "text": [
        " [ 0.40016762]\n",
        "mfeat-karhunen 0.667042105091 0.595202102363 0.247864478176 0.0821838615584\n",
        "[ 0.31242418]"
       ]
      },
      {
       "output_type": "stream",
       "stream": "stdout",
       "text": [
        " [ 0.12281216]\n",
        "balance-scale 0.518235353088 0.423148221284 0.0442356055625 0.00308306300909\n",
        "[ 0.53440201]"
       ]
      },
      {
       "output_type": "stream",
       "stream": "stdout",
       "text": [
        " [ 0.65377296]\n",
        "mfeat-morphological 0.789209063516 0.803429241174 0.129550889762 0.0216493222946\n",
        "[ 0.3553973]"
       ]
      },
      {
       "output_type": "stream",
       "stream": "stdout",
       "text": [
        " [ 0.3853002]\n",
        "liver-disorders 0.628666480663 0.692310148187 0.0221026273347 0.000855751935071\n",
        "[ 0.36713476]"
       ]
      },
      {
       "output_type": "stream",
       "stream": "stdout",
       "text": [
        " [ 0.41281237]\n",
        "dermatology 0.382794331104 0.257021258024 0.111571148442 0.0218344298899\n",
        "[ 0.21916416]"
       ]
      },
      {
       "output_type": "stream",
       "stream": "stdout",
       "text": [
        " [ 0.13794842]\n",
        "vote 0.380947024638 0.286398844665 0.0485725067995 0.00465610885798\n",
        "[ 0.29625399]"
       ]
      },
      {
       "output_type": "stream",
       "stream": "stdout",
       "text": [
        " [ 0.30180699]\n",
        "breast-cancer 0.709909140493 0.909372385525 0.0129889855075 0.000304429469249\n",
        "[ 0.31083187]"
       ]
      },
      {
       "output_type": "stream",
       "stream": "stdout",
       "text": [
        " [ 0.31387863]\n",
        "credit-g 1.02220477165 1.46529409602 0.0219299883761 0.000674412785277\n",
        "[ 0.41942812]"
       ]
      },
      {
       "output_type": "stream",
       "stream": "stdout",
       "text": [
        " [ 0.37760683]\n",
        "soybean 0.335378080343 0.16443711734 0.099544671072 0.0144866022942\n",
        "[ 0.46123054]"
       ]
      },
      {
       "output_type": "stream",
       "stream": "stdout",
       "text": [
        " [ 0.45480239]\n",
        "arrhythmia 0.653965088434 1.04329254472 0.0100891099069 0.000248314843664\n",
        "[ 0.32783299]"
       ]
      },
      {
       "output_type": "stream",
       "stream": "stdout",
       "text": [
        " [ 0.17197512]\n",
        "nursery 0.476237815544 0.412894493766 0.119238163172 0.0258834337847\n",
        "[ 0.29401675]"
       ]
      },
      {
       "output_type": "stream",
       "stream": "stdout",
       "text": [
        " [ 0.21380946]\n",
        "hepatitis 0.959075623489 1.56799430905 0.0211405730574 0.000761854939376\n",
        "[ 0.43757063]"
       ]
      },
      {
       "output_type": "stream",
       "stream": "stdout",
       "text": [
        " [ 0.52247317]\n",
        "cmc 0.682632374134 0.611440525561 0.0298337778951 0.00116787661438\n",
        "[ 0.34589423]"
       ]
      },
      {
       "output_type": "stream",
       "stream": "stdout",
       "text": [
        " [ 0.40531024]\n",
        "heart-c 0.449202539786 0.31983661557 0.0314562843584 0.00156840644847\n",
        "[ 0.47437722]"
       ]
      },
      {
       "output_type": "stream",
       "stream": "stdout",
       "text": [
        " [ 0.45954533]\n",
        "glass 0.66273270142 0.557062085798 0.0770768206879 0.00753484606605\n",
        "[ 0.33487089]"
       ]
      },
      {
       "output_type": "stream",
       "stream": "stdout",
       "text": [
        " [ 0.24629618]\n",
        "braziltourism 1.01135295606 1.40129308023 0.0270132062257 0.000999713943016\n",
        "[ 0.35491712]"
       ]
      },
      {
       "output_type": "stream",
       "stream": "stdout",
       "text": [
        " [ 0.12338346]\n",
        "iris 0.596108475549 0.645925727662 0.0889380676279 0.0143782942824\n",
        "[ 0.32379095]"
       ]
      },
      {
       "output_type": "stream",
       "stream": "stdout",
       "text": [
        " [ 0.39434673]\n",
        "heart-statlog 0.665288382624 0.681724158734 0.043877050879 0.00296526604218\n",
        "[ 0.19250652]"
       ]
      },
      {
       "output_type": "stream",
       "stream": "stdout",
       "text": [
        " [ 0.08018418]\n",
        "page-blocks 0.690942387492 0.708919834237 0.0117886133109 0.000206366357712\n",
        "[ 0.22758575]"
       ]
      },
      {
       "output_type": "stream",
       "stream": "stdout",
       "text": [
        " [ 0.10798852]\n",
        "breast-w 0.569162285615 0.581383269669 0.0620694107834 0.00691425744486\n",
        "[ 0.29050415]"
       ]
      },
      {
       "output_type": "stream",
       "stream": "stdout",
       "text": [
        " [ 0.34418215]\n",
        "heart-h 0.459748994461 0.4439288949 0.0165117168932 0.00057260654136\n",
        "[ 0.51080868]"
       ]
      },
      {
       "output_type": "stream",
       "stream": "stdout",
       "text": [
        " [ 0.5373659]\n",
        "yeast 0.715997552343 0.637874351166 0.090043654013 0.0100883068948\n",
        "[ 0.45235155]"
       ]
      },
      {
       "output_type": "stream",
       "stream": "stdout",
       "text": [
        " [ 0.58067669]\n",
        "tae 0.71591502278 0.714694228041 0.0497979971573 0.00345796883861\n",
        "[ 0.32732042]"
       ]
      },
      {
       "output_type": "stream",
       "stream": "stdout",
       "text": [
        " [ 0.28250734]\n",
        "haberman 0.75889277726 0.801654997147 0.0173581915682 0.000419406946444\n",
        "[ 0.43997145]"
       ]
      },
      {
       "output_type": "stream",
       "stream": "stdout",
       "text": [
        " [ 0.37983046]\n",
        "mfeat-pixel 0.719050323311 0.823999635376 0.25308861115 0.102083053676\n",
        "[ 0.44804171]"
       ]
      },
      {
       "output_type": "stream",
       "stream": "stdout",
       "text": [
        " [ 0.45581735]\n",
        "optdigits 0.304224101992 0.166856783842 0.125752699649 0.0285096093925\n",
        "[ 0.41508533]"
       ]
      },
      {
       "output_type": "stream",
       "stream": "stdout",
       "text": [
        " [ 0.82314344]\n",
        "mfeat-factors 0.630077872467 0.908262859658 0.0960173090955 0.0210922135991\n",
        "[ 0.50298316]"
       ]
      },
      {
       "output_type": "stream",
       "stream": "stdout",
       "text": [
        " [ 0.22846143]\n",
        "satimage 0.628127891099 0.62458898125 0.129124909813 0.0263947908245\n",
        "[ 0.27836024]"
       ]
      },
      {
       "output_type": "stream",
       "stream": "stdout",
       "text": [
        " [ 0.29900859]\n",
        "lymph 0.605501334689 0.43601521311 0.0801064578247 0.00763143992507\n",
        "[ 0.46114461]"
       ]
      },
      {
       "output_type": "stream",
       "stream": "stdout",
       "text": [
        " [ 0.46100242]\n",
        "audiology 0.471482385748 0.33082920295 0.108193020022 0.0174209318102\n",
        "[ 0.34274425]"
       ]
      },
      {
       "output_type": "stream",
       "stream": "stdout",
       "text": [
        " [ 0.3177538]\n",
        "ecoli 0.865283846673 1.01508462183 0.164806189401 0.0368240957901\n",
        "[ 0.21461105]"
       ]
      },
      {
       "output_type": "stream",
       "stream": "stdout",
       "text": [
        " [ 0.19603749]\n",
        "tic-tac-toe 0.64038587306 0.54535459232 0.100749202073 0.0134982889156\n",
        "[ 0.26817495]"
       ]
      },
      {
       "output_type": "stream",
       "stream": "stdout",
       "text": [
        " [ 0.23018851]\n",
        "spambase 0.42943028422 0.275182917329 0.0393656833415 0.00231244665517\n",
        "[ 0.32441584]"
       ]
      },
      {
       "output_type": "stream",
       "stream": "stdout",
       "text": [
        " [ 0.30304338]\n",
        "zoo 0.490185417059 0.320909510267 0.120879534465 0.01951494679\n",
        "[ 0.32964105]"
       ]
      },
      {
       "output_type": "stream",
       "stream": "stdout",
       "text": [
        " [ 0.31031415]\n",
        "sonar 0.93269634207 1.13651979204 0.10911561565 0.0155550091503\n",
        "[ 0.44591475]"
       ]
      },
      {
       "output_type": "stream",
       "stream": "stdout",
       "text": [
        " [ 0.76321377]\n",
        "mfeat-zernike 0.714027534519 0.842853839787 0.162808757618 0.0438205551485\n",
        "[ 0.23151341]"
       ]
      },
      {
       "output_type": "stream",
       "stream": "stdout",
       "text": [
        " [ 0.16412628]\n",
        "kr-vs-kp 0.415634610706 0.265716388251 0.0792299344147 0.00965547233035\n",
        "[array([ 0.45296006]), array([ 0.23030636]), array([ 0.42638824]), array([ 0.41716161]), array([ 0.22500878]), array([ 0.23880363]), array([ 0.54443981]), array([ 0.3101456]), array([ 0.22371385]), array([ 0.46897575]), array([ 0.49985]), array([ 0.48760585]), array([ 0.34144529]), array([ 0.30363107]), array([ 0.45834856]), array([ 0.31159651]), array([ 0.47107025]), array([ 0.4974926]), array([ 0.36384393]), array([ 0.2999078]), array([ 0.38879369]), array([ 0.31242418]), array([ 0.53440201]), array([ 0.3553973]), array([ 0.36713476]), array([ 0.21916416]), array([ 0.29625399]), array([ 0.31083187]), array([ 0.41942812]), array([ 0.46123054]), array([ 0.32783299]), array([ 0.29401675]), array([ 0.43757063]), array([ 0.34589423]), array([ 0.47437722]), array([ 0.33487089]), array([ 0.35491712]), array([ 0.32379095]), array([ 0.19250652]), array([ 0.22758575]), array([ 0.29050415]), array([ 0.51080868]), array([ 0.45235155]), array([ 0.32732042]), array([ 0.43997145]), array([ 0.44804171]), array([ 0.41508533]), array([ 0.50298316]), array([ 0.27836024]), array([ 0.46114461]), array([ 0.34274425]), array([ 0.21461105]), array([ 0.26817495]), array([ 0.32441584]), array([ 0.32964105]), array([ 0.44591475]), array([ 0.23151341])]\n",
        "[array([ 0.54998061]), array([ 0.15816309]), array([ 0.35037115]), array([ 0.49701765]), array([ 0.09241907]), array([ 0.20923138]), array([ 0.76949252]), array([ 0.33895713]), array([ 0.16358846]), array([ 0.64398244]), array([ 0.27563493]), array([ 0.65334384]), array([ 0.33309008]), array([ 0.39753202]), array([ 0.31491991]), array([ 0.34139497]), array([ 0.22057047]), array([ 0.59838895]), array([ 0.39324015]), array([ 0.19411625]), array([ 0.40016762]), array([ 0.12281216]), array([ 0.65377296]), array([ 0.3853002]), array([ 0.41281237]), array([ 0.13794842]), array([ 0.30180699]), array([ 0.31387863]), array([ 0.37760683]), array([ 0.45480239]), array([ 0.17197512]), array([ 0.21380946]), array([ 0.52247317]), array([ 0.40531024]), array([ 0.45954533]), array([ 0.24629618]), array([ 0.12338346]), array([ 0.39434673]), array([ 0.08018418]), array([ 0.10798852]), array([ 0.34418215]), array([ 0.5373659]), array([ 0.58067669]), array([ 0.28250734]), array([ 0.37983046]), array([ 0.45581735]), array([ 0.82314344]), array([ 0.22846143]), array([ 0.29900859]), array([ 0.46100242]), array([ 0.3177538]), array([ 0.19603749]), array([ 0.23018851]), array([ 0.30304338]), array([ 0.31031415]), array([ 0.76321377]), array([ 0.16412628])]\n",
        "MAE 0.647849015591 0.187892683108\n",
        "MSE 0.676460338996 0.676460338996\n",
        "MAE denorm 0.0864708580153 0.0864708580153\n",
        "MSE denorm 0.0167145879072 0.0167145879072\n"
       ]
      }
     ],
     "prompt_number": 20
    },
    {
     "cell_type": "code",
     "collapsed": false,
     "input": [],
     "language": "python",
     "metadata": {},
     "outputs": []
    }
   ],
   "metadata": {}
  }
 ]
}