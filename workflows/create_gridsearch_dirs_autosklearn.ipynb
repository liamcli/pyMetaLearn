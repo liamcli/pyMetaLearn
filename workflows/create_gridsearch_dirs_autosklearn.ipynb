{
 "metadata": {
  "name": "",
  "signature": "sha256:4546de8c9665bbf67a043dcd53c612be450876ce33bb1e06020a3a21243dece6"
 },
 "nbformat": 3,
 "nbformat_minor": 0,
 "worksheets": [
  {
   "cells": [
    {
     "cell_type": "code",
     "collapsed": false,
     "input": [
      "from collections import defaultdict\n",
      "import glob\n",
      "import os\n",
      "\n",
      "import pyMetaLearn.openml.manage_openml_data"
     ],
     "language": "python",
     "metadata": {},
     "outputs": [
      {
       "output_type": "stream",
       "stream": "stderr",
       "text": [
        "/home/feurerm/thesis/virtualenvs/development/local/lib/python2.7/site-packages/matplotlib/__init__.py:740: UserWarning: Found matplotlib configuration in ~/.matplotlib/. To conform with the XDG base directory standard, this configuration location has been deprecated on Linux, and the new location is now '/home/feurerm/.config'/matplotlib/. Please move your configuration there to ensure that matplotlib will continue to find it in the future.\n",
        "  _get_xdg_config_dir())\n"
       ]
      }
     ],
     "prompt_number": 1
    },
    {
     "cell_type": "code",
     "collapsed": false,
     "input": [
      "# Specifiy the directory in which the HPOlib-experiment directories will be saved and from where the openml data should be loaded\n",
      "target_directory = \"/home/feurerm/thesis/experiments/2014_05_16_MiniAutoSklearn_meta\"\n",
      "local_directory = pyMetaLearn.openml.manage_openml_data.set_local_directory(\"/home/feurerm/thesis/datasets/openml/\")"
     ],
     "language": "python",
     "metadata": {},
     "outputs": [],
     "prompt_number": 2
    },
    {
     "cell_type": "code",
     "collapsed": false,
     "input": [
      "dataset_dir = os.path.join(local_directory, \"datasets\")\n",
      "dataset_file_list = glob.glob(os.path.join(dataset_dir, \"did*xml\"))"
     ],
     "language": "python",
     "metadata": {},
     "outputs": [],
     "prompt_number": 3
    },
    {
     "cell_type": "code",
     "collapsed": false,
     "input": [
      "# Specifiy the available optimizers and their location\n",
      "commands = [defaultdict(list) for i in range(3)]\n",
      "\n",
      "optimizers = {\"sequential\": \"/home/feurerm/HPOlib/Software/HPOlib/optimizers/sequential/\",\n",
      "              \"smac_2_06_01-dev\": \"/home/feurerm/HPOlib/Software/HPOlib/optimizers/smac/\",\n",
      "              \"hyperopt_august2013_mod\": \"/home/feurerm/HPOlib/Software/HPOlib/optimizers/tpe/hyperopt\",\n",
      "              \"random_hyperopt_august2013_mod\": \"/home/feurerm/HPOlib/Software/HPOlib/optimizers/tpe/random\"}\n"
     ],
     "language": "python",
     "metadata": {},
     "outputs": [],
     "prompt_number": 6
    },
    {
     "cell_type": "code",
     "collapsed": false,
     "input": [
      "for dataset_file in dataset_file_list:\n",
      "    # OpenML datasets all have a uniqe ID which is in the dataset name\n",
      "    did = os.path.split(dataset_file)[1]\n",
      "    did = int(did.replace(\"did\", \"\").replace(\".xml\", \"\"))\n",
      "    \n",
      "    task_file = os.path.join(pyMetaLearn\n",
      "                .openml.manage_openml_data.get_local_directory(),\n",
      "                \"custom_tasks\", \"did_%d.pkl\" % did)\n",
      "    if not os.path.exists(task_file):\n",
      "        print \"Skipping dataset %s because no task is specified\" % dataset_file\n",
      "        continue\n",
      "        \n",
      "    for fold in range(3):\n",
      "        experiment_dir = os.path.join(target_directory, \"did_%d_fold%s\" % (did, fold))\n",
      "        # Leave out datasets for which an experiment_dir was already created, by this we can easily add new experiments\n",
      "        if os.path.exists(experiment_dir):\n",
      "            print \"Skipping %s\" % experiment_dir\n",
      "            continue\n",
      "        print experiment_dir\n",
      "        os.mkdir(experiment_dir)\n",
      "        \n",
      "        # Now create the directories for the search spaces\n",
      "        directories = dict()\n",
      "        for optimizer in optimizers:\n",
      "            directories[optimizer] = os.path.join(experiment_dir, optimizer)\n",
      "            os.mkdir(directories[optimizer])\n",
      "            \n",
      "        with open(os.path.join(directories[\"smac_2_06_01-dev\"], \"params.pcs\"), \"w\") as fh:\n",
      "            fh.write(\"pca:keep_variance [0, 3] [3]i   # will be transformed to [0.7, 0.8, 0.9, 1.0]\\n\"\n",
      "                     \"pca:keep_variance | preprocessing in {'pca'}\\n\\n\"\n",
      "\n",
      "                     \"liblinear:penalty {l1, l2} [l1]\\n\"\n",
      "                     \"liblinear:loss {l1, l2} [l2]\\n\"\n",
      "                     \"{liblinear:penalty=l1, liblinear:loss=l1}\\n\"\n",
      "                     \"liblinear:LOG2_C [-5, 15] [1]\\n\"\n",
      "                     \"libsvm_svc:LOG2_C [-5, 15] [1]\\n\"\n",
      "                     \"libsvm_svc:LOG2_gamma [-15, 3] [1]\\n\"\n",
      "                     \"random_forest:criterion {gini, entropy} [gini]\\n\"\n",
      "                     \"random_forest:max_features [1, 10] [10]i # will be squared\\n\"\n",
      "                     \"random_forest:min_samples_split [0, 4] [1]i # will transformed to [1, 2, 4, 7, 10]\\n\"\n",
      "                     \"random_forest:n_estimators {100} [100]\\n\\n\"\n",
      "\n",
      "                     \"liblinear:LOG2_C | classifier in {liblinear}\\n\"\n",
      "                     \"liblinear:penalty | classifier in {liblinear}\\n\"\n",
      "                     \"liblinear:loss | classifier in {liblinear}\\n\"\n",
      "                     \"libsvm_svc:LOG2_C | classifier in {libsvm_svc}\\n\"\n",
      "                     \"libsvm_svc:LOG2_gamma | classifier in {libsvm_svc}\\n\"\n",
      "                     \"random_forest:max_features | classifier in {random_forest}\\n\"\n",
      "                     \"random_forest:min_samples_split | classifier in {random_forest}\\n\"\n",
      "                     \"random_forest:criterion | classifier in {random_forest}\\n\"\n",
      "                     \"random_forest:n_estimators| classifier in {random_forest}\\n\\n\"\n",
      "\n",
      "                     \"preprocessing {None, 'pca'} [None]\\n\"\n",
      "                     \"classifier {libsvm_svc, liblinear, random_forest} [random_forest]\\n\\n\"\n",
      "                     )\n",
      "            \n",
      "        # Will most likely not work\n",
      "        hyperopt_searchspace = (\"from hyperopt import hp\\n\"\n",
      "                                 \"from hyperopt.pyll import scope\\n\\n\"\n",
      "                                 \"pca = {'preprocessing': 'pca', 'name': 'pca', 'pca:keep_variance': scope.int(hp.quniform('pca:keep_variance', 0, 3, 1))}\\n\\n\"\n",
      "                                 \"penalty_and_loss = hp.choice('penalty_and_loss',\\n\"\n",
      "                                 \"                             [{'liblinear:penalty': 'l1', 'liblinear:loss': 'l2'},\\n\"\n",
      "                                 \"                              {'liblinear:penalty': 'l2', 'liblinear:loss': 'l1'},\\n\"\n",
      "                                 \"                              {'liblinear:penalty': 'l2', 'liblinear:loss': 'l2'}])\\n\"\n",
      "                                 \"liblinear_LOG2_C = scope.int(hp.quniform('liblinear:LOG2_C', -5, 15, 1))\\n\"\n",
      "                                 \"liblinear = {'classifier': 'liblinear', 'name': 'liblinear', 'liblinear:penalty_and_loss': penalty_and_loss, 'liblinear:LOG2_C': liblinear_LOG2_C}\\n\\n\"\n",
      "                                 \"libsvm_LOG2_C = scope.int(hp.quniform('libsvm_svc:LOG2_C', -5, 15, 1))\\n\"\n",
      "                                 \"libsvm_LOG2_gamma = scope.int(hp.quniform('libsvm_svc:LOG2_gamma', -15, 3, 1))\\n\"\n",
      "                                 \"libsvm_svc = {'classifier': 'libsvm_svc', 'name': 'libsvm_svc', 'libsvm_svc:LOG2_C': libsvm_LOG2_C, 'libsvm_svc:LOG2_gamma: libsvm_LOG2_gamma}\\n\"\n",
      "                                 \"criterion = hp.choice('random_forest:criterion', ['gini', 'entropy'])\\n\"\n",
      "                                 \"max_features = scope.int(hp.quniform('random_forest:max_features', 1, 10, 1))\\n\"\n",
      "                                 \"min_samples_split = scope.int(hp.quniform('random_forest:min_samples_split', 0, 4, 1))\\n\"\n",
      "                                 \"random_forest = {'classifier': 'random_forest', 'name': 'random_forest', 'random_forest:criterion': criterion, 'random_forest:max_features': max_features, 'random_forest:min_samples_split': min_samples_split, 'random_forest:n_estimators': 100}\\n\\n\"\n",
      "                                 \"preprocessors = {None: {}, 'pca': pca}\\n\"\n",
      "                                 \"classifiers = {'libsvm_svc': libsvm_svc,\\n\" \n",
      "                                 \"               'liblinear': liblinear,\\n\"\n",
      "                                 \"               'random_forest': random_forest}\\n\\n\"\n",
      "                                 \"space = {'classifier': hp.choice('classifier', classifiers.values()),\\n\"\n",
      "                                 \"         'preprocessing': hp.choice('preprocessing', preprocessors.values())}\\n\")\n",
      "        \n",
      "        with open(os.path.join(directories[\"hyperopt_august2013_mod\"], \"space.py\"), \"w\") as fh:\n",
      "            fh.write(hyperopt_searchspace)\n",
      "        with open(os.path.join(directories[\"hyperopt_august2013_mod\"], \"__init__.py\"), \"w\") as fh:\n",
      "            pass\n",
      "\n",
      "        # Random search\n",
      "        with open(os.path.join(directories[\"random_hyperopt_august2013_mod\"], \"space.py\"), \"w\") as fh:\n",
      "            fh.write(hyperopt_searchspace)\n",
      "        with open(os.path.join(directories[\"random_hyperopt_august2013_mod\"], \"__init__.py\"), \"w\") as fh:\n",
      "            pass\n",
      "                \n",
      "        # Write the config file\n",
      "        task_relative_to_openml_data_dir = \"/\".join(task_file.split(\"/\")[-2:])\n",
      "        with open(os.path.join(experiment_dir, \"config.cfg\"), \"w\") as fh:\n",
      "            content = \"[HPOLIB]\\n\"\n",
      "            content += \"function = python -m pyMetaLearn.target_algorithm.autosklearn\\n\"\n",
      "            content += \"number_of_jobs = 2810\\n\"\n",
      "            content += \"result_on_terminate = 1\\n\"\n",
      "            content += \"number_cv_folds = 10\\n\"\n",
      "            content += \"[EXPERIMENT]\\n\"\n",
      "            content += \"test_fold = %d\\n\" % fold\n",
      "            content += \"task_args_pkl = %s\\n\" % task_relative_to_openml_data_dir\n",
      "            content += \"openml_data_dir = %s\\n\" % local_directory\n",
      "            content += \"\\n\"\n",
      "            fh.write(content)\n",
      "            \n",
      "        # Add all the SGE commands to a list so we can write them to a file later\n",
      "        for optimizer in optimizers:\n",
      "            if optimizer != \"sequential\":\n",
      "                for seed in range(1000, 10001, 1000):\n",
      "                    commands[fold][optimizer].append(\"HPOlib-run -o %s -s %d --cwd %s \"\n",
      "                        \"--HPOLIB:temporary_output_directory %s --EXPERIMENT:openml_data_dir %s\\n\"\n",
      "                        % (optimizers[optimizer], seed, experiment_dir, \n",
      "                           \"/tmp/${JOB_ID}.${SGE_TASK_ID}.aad_core.q\",\n",
      "                           \"/tmp/${JOB_ID}.${SGE_TASK_ID}.aad_core.q/openml/\"))\n",
      "            else:\n",
      "                commands[fold][optimizer].append(\"HPOlib-run -o %s --cwd %s \"\n",
      "                        \"--HPOLIB:temporary_output_directory %s --EXPERIMENT:openml_data_dir %s\\n\"\n",
      "                        % (optimizers[optimizer], experiment_dir, \n",
      "                           \"/tmp/${JOB_ID}.${SGE_TASK_ID}.aad_core.q\",\n",
      "                           \"/tmp/${JOB_ID}.${SGE_TASK_ID}.aad_core.q/openml/\"))"
     ],
     "language": "python",
     "metadata": {},
     "outputs": [
      {
       "output_type": "stream",
       "stream": "stdout",
       "text": [
        "/home/feurerm/thesis/experiments/2014_05_16_MiniAutoSklearn_meta/did_54_fold0\n",
        "/home/feurerm/thesis/experiments/2014_05_16_MiniAutoSklearn_meta/did_54_fold1"
       ]
      },
      {
       "output_type": "stream",
       "stream": "stdout",
       "text": [
        "\n",
        "/home/feurerm/thesis/experiments/2014_05_16_MiniAutoSklearn_meta/did_54_fold2"
       ]
      },
      {
       "output_type": "stream",
       "stream": "stdout",
       "text": [
        "\n",
        "/home/feurerm/thesis/experiments/2014_05_16_MiniAutoSklearn_meta/did_2_fold0"
       ]
      },
      {
       "output_type": "stream",
       "stream": "stdout",
       "text": [
        "\n",
        "/home/feurerm/thesis/experiments/2014_05_16_MiniAutoSklearn_meta/did_2_fold1"
       ]
      },
      {
       "output_type": "stream",
       "stream": "stdout",
       "text": [
        "\n",
        "/home/feurerm/thesis/experiments/2014_05_16_MiniAutoSklearn_meta/did_2_fold2"
       ]
      },
      {
       "output_type": "stream",
       "stream": "stdout",
       "text": [
        "\n",
        "Skipping dataset /home/feurerm/thesis/datasets/openml/datasets/did120.xml because no task is specified\n",
        "/home/feurerm/thesis/experiments/2014_05_16_MiniAutoSklearn_meta/did_36_fold0\n",
        "/home/feurerm/thesis/experiments/2014_05_16_MiniAutoSklearn_meta/did_36_fold1"
       ]
      },
      {
       "output_type": "stream",
       "stream": "stdout",
       "text": [
        "\n",
        "/home/feurerm/thesis/experiments/2014_05_16_MiniAutoSklearn_meta/did_36_fold2"
       ]
      },
      {
       "output_type": "stream",
       "stream": "stdout",
       "text": [
        "\n",
        "/home/feurerm/thesis/experiments/2014_05_16_MiniAutoSklearn_meta/did_32_fold0\n",
        "/home/feurerm/thesis/experiments/2014_05_16_MiniAutoSklearn_meta/did_32_fold1"
       ]
      },
      {
       "output_type": "stream",
       "stream": "stdout",
       "text": [
        "\n",
        "/home/feurerm/thesis/experiments/2014_05_16_MiniAutoSklearn_meta/did_32_fold2\n",
        "/home/feurerm/thesis/experiments/2014_05_16_MiniAutoSklearn_meta/did_24_fold0"
       ]
      },
      {
       "output_type": "stream",
       "stream": "stdout",
       "text": [
        "\n",
        "/home/feurerm/thesis/experiments/2014_05_16_MiniAutoSklearn_meta/did_24_fold1\n",
        "/home/feurerm/thesis/experiments/2014_05_16_MiniAutoSklearn_meta/did_24_fold2"
       ]
      },
      {
       "output_type": "stream",
       "stream": "stdout",
       "text": [
        "\n",
        "Skipping dataset /home/feurerm/thesis/datasets/openml/datasets/did154.xml because no task is specified\n",
        "Skipping dataset /home/feurerm/thesis/datasets/openml/datasets/did125.xml because no task is specified\n",
        "/home/feurerm/thesis/experiments/2014_05_16_MiniAutoSklearn_meta/did_4_fold0\n",
        "/home/feurerm/thesis/experiments/2014_05_16_MiniAutoSklearn_meta/did_4_fold1"
       ]
      },
      {
       "output_type": "stream",
       "stream": "stdout",
       "text": [
        "\n",
        "/home/feurerm/thesis/experiments/2014_05_16_MiniAutoSklearn_meta/did_4_fold2"
       ]
      },
      {
       "output_type": "stream",
       "stream": "stdout",
       "text": [
        "\n",
        "Skipping dataset /home/feurerm/thesis/datasets/openml/datasets/did121.xml because no task is specified"
       ]
      },
      {
       "output_type": "stream",
       "stream": "stdout",
       "text": [
        "\n",
        "Skipping dataset /home/feurerm/thesis/datasets/openml/datasets/did166.xml because no task is specified\n",
        "/home/feurerm/thesis/experiments/2014_05_16_MiniAutoSklearn_meta/did_183_fold0\n",
        "/home/feurerm/thesis/experiments/2014_05_16_MiniAutoSklearn_meta/did_183_fold1"
       ]
      },
      {
       "output_type": "stream",
       "stream": "stdout",
       "text": [
        "\n",
        "/home/feurerm/thesis/experiments/2014_05_16_MiniAutoSklearn_meta/did_183_fold2\n",
        "Skipping dataset /home/feurerm/thesis/datasets/openml/datasets/did71.xml because no task is specified"
       ]
      },
      {
       "output_type": "stream",
       "stream": "stdout",
       "text": [
        "\n",
        "Skipping dataset /home/feurerm/thesis/datasets/openml/datasets/did138.xml because no task is specified\n",
        "Skipping dataset /home/feurerm/thesis/datasets/openml/datasets/did118.xml because no task is specified\n",
        "/home/feurerm/thesis/experiments/2014_05_16_MiniAutoSklearn_meta/did_37_fold0\n",
        "/home/feurerm/thesis/experiments/2014_05_16_MiniAutoSklearn_meta/did_37_fold1\n",
        "/home/feurerm/thesis/experiments/2014_05_16_MiniAutoSklearn_meta/did_37_fold2"
       ]
      },
      {
       "output_type": "stream",
       "stream": "stdout",
       "text": [
        "\n",
        "/home/feurerm/thesis/experiments/2014_05_16_MiniAutoSklearn_meta/did_21_fold0"
       ]
      },
      {
       "output_type": "stream",
       "stream": "stdout",
       "text": [
        "\n",
        "/home/feurerm/thesis/experiments/2014_05_16_MiniAutoSklearn_meta/did_21_fold1"
       ]
      },
      {
       "output_type": "stream",
       "stream": "stdout",
       "text": [
        "\n",
        "/home/feurerm/thesis/experiments/2014_05_16_MiniAutoSklearn_meta/did_21_fold2\n",
        "Skipping dataset /home/feurerm/thesis/datasets/openml/datasets/did135.xml because no task is specified"
       ]
      },
      {
       "output_type": "stream",
       "stream": "stdout",
       "text": [
        "\n",
        "Skipping dataset /home/feurerm/thesis/datasets/openml/datasets/did146.xml because no task is specified\n",
        "Skipping dataset /home/feurerm/thesis/datasets/openml/datasets/did176.xml because no task is specified\n",
        "/home/feurerm/thesis/experiments/2014_05_16_MiniAutoSklearn_meta/did_9_fold0\n",
        "/home/feurerm/thesis/experiments/2014_05_16_MiniAutoSklearn_meta/did_9_fold1"
       ]
      },
      {
       "output_type": "stream",
       "stream": "stdout",
       "text": [
        "\n",
        "/home/feurerm/thesis/experiments/2014_05_16_MiniAutoSklearn_meta/did_9_fold2\n",
        "Skipping dataset /home/feurerm/thesis/datasets/openml/datasets/did161.xml because no task is specified"
       ]
      },
      {
       "output_type": "stream",
       "stream": "stdout",
       "text": [
        "\n",
        "Skipping dataset /home/feurerm/thesis/datasets/openml/datasets/did46.xml because no task is specified\n",
        "/home/feurerm/thesis/experiments/2014_05_16_MiniAutoSklearn_meta/did_14_fold0\n",
        "/home/feurerm/thesis/experiments/2014_05_16_MiniAutoSklearn_meta/did_14_fold1\n",
        "/home/feurerm/thesis/experiments/2014_05_16_MiniAutoSklearn_meta/did_14_fold2"
       ]
      },
      {
       "output_type": "stream",
       "stream": "stdout",
       "text": [
        "\n",
        "Skipping dataset /home/feurerm/thesis/datasets/openml/datasets/did1.xml because no task is specified\n",
        "Skipping dataset /home/feurerm/thesis/datasets/openml/datasets/did144.xml because no task is specified"
       ]
      },
      {
       "output_type": "stream",
       "stream": "stdout",
       "text": [
        "\n",
        "Skipping dataset /home/feurerm/thesis/datasets/openml/datasets/did130.xml because no task is specified\n",
        "Skipping dataset /home/feurerm/thesis/datasets/openml/datasets/did129.xml because no task is specified\n",
        "/home/feurerm/thesis/experiments/2014_05_16_MiniAutoSklearn_meta/did_171_fold0\n",
        "/home/feurerm/thesis/experiments/2014_05_16_MiniAutoSklearn_meta/did_171_fold1\n",
        "/home/feurerm/thesis/experiments/2014_05_16_MiniAutoSklearn_meta/did_171_fold2"
       ]
      },
      {
       "output_type": "stream",
       "stream": "stdout",
       "text": [
        "\n",
        "/home/feurerm/thesis/experiments/2014_05_16_MiniAutoSklearn_meta/did_60_fold0\n",
        "/home/feurerm/thesis/experiments/2014_05_16_MiniAutoSklearn_meta/did_60_fold1"
       ]
      },
      {
       "output_type": "stream",
       "stream": "stdout",
       "text": [
        "\n",
        "/home/feurerm/thesis/experiments/2014_05_16_MiniAutoSklearn_meta/did_60_fold2\n",
        "/home/feurerm/thesis/experiments/2014_05_16_MiniAutoSklearn_meta/did_29_fold0"
       ]
      },
      {
       "output_type": "stream",
       "stream": "stdout",
       "text": [
        "\n",
        "/home/feurerm/thesis/experiments/2014_05_16_MiniAutoSklearn_meta/did_29_fold1\n",
        "/home/feurerm/thesis/experiments/2014_05_16_MiniAutoSklearn_meta/did_29_fold2"
       ]
      },
      {
       "output_type": "stream",
       "stream": "stdout",
       "text": [
        "\n",
        "/home/feurerm/thesis/experiments/2014_05_16_MiniAutoSklearn_meta/did_6_fold0\n",
        "/home/feurerm/thesis/experiments/2014_05_16_MiniAutoSklearn_meta/did_6_fold1"
       ]
      },
      {
       "output_type": "stream",
       "stream": "stdout",
       "text": [
        "\n",
        "/home/feurerm/thesis/experiments/2014_05_16_MiniAutoSklearn_meta/did_6_fold2"
       ]
      },
      {
       "output_type": "stream",
       "stream": "stdout",
       "text": [
        "\n",
        "Skipping dataset /home/feurerm/thesis/datasets/openml/datasets/did155.xml because no task is specified\n",
        "/home/feurerm/thesis/experiments/2014_05_16_MiniAutoSklearn_meta/did_34_fold0\n",
        "/home/feurerm/thesis/experiments/2014_05_16_MiniAutoSklearn_meta/did_34_fold1"
       ]
      },
      {
       "output_type": "stream",
       "stream": "stdout",
       "text": [
        "\n",
        "/home/feurerm/thesis/experiments/2014_05_16_MiniAutoSklearn_meta/did_34_fold2\n",
        "/home/feurerm/thesis/experiments/2014_05_16_MiniAutoSklearn_meta/did_58_fold0"
       ]
      },
      {
       "output_type": "stream",
       "stream": "stdout",
       "text": [
        "\n",
        "/home/feurerm/thesis/experiments/2014_05_16_MiniAutoSklearn_meta/did_58_fold1\n",
        "/home/feurerm/thesis/experiments/2014_05_16_MiniAutoSklearn_meta/did_58_fold2"
       ]
      },
      {
       "output_type": "stream",
       "stream": "stdout",
       "text": [
        "\n",
        "Skipping dataset /home/feurerm/thesis/datasets/openml/datasets/did131.xml because no task is specified"
       ]
      },
      {
       "output_type": "stream",
       "stream": "stdout",
       "text": [
        "\n",
        "/home/feurerm/thesis/experiments/2014_05_16_MiniAutoSklearn_meta/did_188_fold0\n",
        "/home/feurerm/thesis/experiments/2014_05_16_MiniAutoSklearn_meta/did_188_fold1\n",
        "/home/feurerm/thesis/experiments/2014_05_16_MiniAutoSklearn_meta/did_188_fold2"
       ]
      },
      {
       "output_type": "stream",
       "stream": "stdout",
       "text": [
        "\n",
        "/home/feurerm/thesis/experiments/2014_05_16_MiniAutoSklearn_meta/did_33_fold0\n",
        "/home/feurerm/thesis/experiments/2014_05_16_MiniAutoSklearn_meta/did_33_fold1\n",
        "/home/feurerm/thesis/experiments/2014_05_16_MiniAutoSklearn_meta/did_33_fold2"
       ]
      },
      {
       "output_type": "stream",
       "stream": "stdout",
       "text": [
        "\n",
        "Skipping dataset /home/feurerm/thesis/datasets/openml/datasets/did128.xml because no task is specified\n",
        "Skipping dataset /home/feurerm/thesis/datasets/openml/datasets/did159.xml because no task is specified\n",
        "/home/feurerm/thesis/experiments/2014_05_16_MiniAutoSklearn_meta/did_59_fold0\n",
        "/home/feurerm/thesis/experiments/2014_05_16_MiniAutoSklearn_meta/did_59_fold1"
       ]
      },
      {
       "output_type": "stream",
       "stream": "stdout",
       "text": [
        "\n",
        "/home/feurerm/thesis/experiments/2014_05_16_MiniAutoSklearn_meta/did_59_fold2"
       ]
      },
      {
       "output_type": "stream",
       "stream": "stdout",
       "text": [
        "\n",
        "Skipping dataset /home/feurerm/thesis/datasets/openml/datasets/did153.xml because no task is specified"
       ]
      },
      {
       "output_type": "stream",
       "stream": "stdout",
       "text": [
        "\n",
        "Skipping dataset /home/feurerm/thesis/datasets/openml/datasets/did156.xml because no task is specified\n",
        "Skipping dataset /home/feurerm/thesis/datasets/openml/datasets/did122.xml because no task is specified\n",
        "/home/feurerm/thesis/experiments/2014_05_16_MiniAutoSklearn_meta/did_16_fold0\n",
        "/home/feurerm/thesis/experiments/2014_05_16_MiniAutoSklearn_meta/did_16_fold1\n",
        "/home/feurerm/thesis/experiments/2014_05_16_MiniAutoSklearn_meta/did_16_fold2"
       ]
      },
      {
       "output_type": "stream",
       "stream": "stdout",
       "text": [
        "\n",
        "/home/feurerm/thesis/experiments/2014_05_16_MiniAutoSklearn_meta/did_11_fold0\n",
        "/home/feurerm/thesis/experiments/2014_05_16_MiniAutoSklearn_meta/did_11_fold1"
       ]
      },
      {
       "output_type": "stream",
       "stream": "stdout",
       "text": [
        "\n",
        "/home/feurerm/thesis/experiments/2014_05_16_MiniAutoSklearn_meta/did_11_fold2"
       ]
      },
      {
       "output_type": "stream",
       "stream": "stdout",
       "text": [
        "\n",
        "/home/feurerm/thesis/experiments/2014_05_16_MiniAutoSklearn_meta/did_18_fold0\n",
        "/home/feurerm/thesis/experiments/2014_05_16_MiniAutoSklearn_meta/did_18_fold1"
       ]
      },
      {
       "output_type": "stream",
       "stream": "stdout",
       "text": [
        "\n",
        "/home/feurerm/thesis/experiments/2014_05_16_MiniAutoSklearn_meta/did_18_fold2\n",
        "Skipping dataset /home/feurerm/thesis/datasets/openml/datasets/did126.xml because no task is specified"
       ]
      },
      {
       "output_type": "stream",
       "stream": "stdout",
       "text": [
        "\n",
        "Skipping dataset /home/feurerm/thesis/datasets/openml/datasets/did132.xml because no task is specified\n",
        "/home/feurerm/thesis/experiments/2014_05_16_MiniAutoSklearn_meta/did_8_fold0\n",
        "/home/feurerm/thesis/experiments/2014_05_16_MiniAutoSklearn_meta/did_8_fold1\n",
        "/home/feurerm/thesis/experiments/2014_05_16_MiniAutoSklearn_meta/did_8_fold2"
       ]
      },
      {
       "output_type": "stream",
       "stream": "stdout",
       "text": [
        "\n",
        "/home/feurerm/thesis/experiments/2014_05_16_MiniAutoSklearn_meta/did_35_fold0\n",
        "/home/feurerm/thesis/experiments/2014_05_16_MiniAutoSklearn_meta/did_35_fold1"
       ]
      },
      {
       "output_type": "stream",
       "stream": "stdout",
       "text": [
        "\n",
        "/home/feurerm/thesis/experiments/2014_05_16_MiniAutoSklearn_meta/did_35_fold2\n",
        "/home/feurerm/thesis/experiments/2014_05_16_MiniAutoSklearn_meta/did_56_fold0"
       ]
      },
      {
       "output_type": "stream",
       "stream": "stdout",
       "text": [
        "\n",
        "/home/feurerm/thesis/experiments/2014_05_16_MiniAutoSklearn_meta/did_56_fold1\n",
        "/home/feurerm/thesis/experiments/2014_05_16_MiniAutoSklearn_meta/did_56_fold2"
       ]
      },
      {
       "output_type": "stream",
       "stream": "stdout",
       "text": [
        "\n",
        "/home/feurerm/thesis/experiments/2014_05_16_MiniAutoSklearn_meta/did_13_fold0\n",
        "/home/feurerm/thesis/experiments/2014_05_16_MiniAutoSklearn_meta/did_13_fold1\n",
        "/home/feurerm/thesis/experiments/2014_05_16_MiniAutoSklearn_meta/did_13_fold2"
       ]
      },
      {
       "output_type": "stream",
       "stream": "stdout",
       "text": [
        "\n",
        "Skipping dataset /home/feurerm/thesis/datasets/openml/datasets/did47.xml because no task is specified\n",
        "/home/feurerm/thesis/experiments/2014_05_16_MiniAutoSklearn_meta/did_31_fold0"
       ]
      },
      {
       "output_type": "stream",
       "stream": "stdout",
       "text": [
        "\n",
        "/home/feurerm/thesis/experiments/2014_05_16_MiniAutoSklearn_meta/did_31_fold1"
       ]
      },
      {
       "output_type": "stream",
       "stream": "stdout",
       "text": [
        "\n",
        "/home/feurerm/thesis/experiments/2014_05_16_MiniAutoSklearn_meta/did_31_fold2"
       ]
      },
      {
       "output_type": "stream",
       "stream": "stdout",
       "text": [
        "\n",
        "/home/feurerm/thesis/experiments/2014_05_16_MiniAutoSklearn_meta/did_42_fold0\n",
        "/home/feurerm/thesis/experiments/2014_05_16_MiniAutoSklearn_meta/did_42_fold1"
       ]
      },
      {
       "output_type": "stream",
       "stream": "stdout",
       "text": [
        "\n",
        "/home/feurerm/thesis/experiments/2014_05_16_MiniAutoSklearn_meta/did_42_fold2\n",
        "/home/feurerm/thesis/experiments/2014_05_16_MiniAutoSklearn_meta/did_5_fold0"
       ]
      },
      {
       "output_type": "stream",
       "stream": "stdout",
       "text": [
        "\n",
        "/home/feurerm/thesis/experiments/2014_05_16_MiniAutoSklearn_meta/did_5_fold1"
       ]
      },
      {
       "output_type": "stream",
       "stream": "stdout",
       "text": [
        "\n",
        "/home/feurerm/thesis/experiments/2014_05_16_MiniAutoSklearn_meta/did_5_fold2\n",
        "/home/feurerm/thesis/experiments/2014_05_16_MiniAutoSklearn_meta/did_26_fold0"
       ]
      },
      {
       "output_type": "stream",
       "stream": "stdout",
       "text": [
        "\n",
        "/home/feurerm/thesis/experiments/2014_05_16_MiniAutoSklearn_meta/did_26_fold1\n",
        "/home/feurerm/thesis/experiments/2014_05_16_MiniAutoSklearn_meta/did_26_fold2"
       ]
      },
      {
       "output_type": "stream",
       "stream": "stdout",
       "text": [
        "\n",
        "/home/feurerm/thesis/experiments/2014_05_16_MiniAutoSklearn_meta/did_55_fold0\n",
        "/home/feurerm/thesis/experiments/2014_05_16_MiniAutoSklearn_meta/did_55_fold1"
       ]
      },
      {
       "output_type": "stream",
       "stream": "stdout",
       "text": [
        "\n",
        "/home/feurerm/thesis/experiments/2014_05_16_MiniAutoSklearn_meta/did_55_fold2"
       ]
      },
      {
       "output_type": "stream",
       "stream": "stdout",
       "text": [
        "\n",
        "Skipping dataset /home/feurerm/thesis/datasets/openml/datasets/did150.xml because no task is specified"
       ]
      },
      {
       "output_type": "stream",
       "stream": "stdout",
       "text": [
        "\n",
        "Skipping dataset /home/feurerm/thesis/datasets/openml/datasets/did70.xml because no task is specified\n",
        "Skipping dataset /home/feurerm/thesis/datasets/openml/datasets/did72.xml because no task is specified\n",
        "/home/feurerm/thesis/experiments/2014_05_16_MiniAutoSklearn_meta/did_23_fold0\n",
        "/home/feurerm/thesis/experiments/2014_05_16_MiniAutoSklearn_meta/did_23_fold1"
       ]
      },
      {
       "output_type": "stream",
       "stream": "stdout",
       "text": [
        "\n",
        "/home/feurerm/thesis/experiments/2014_05_16_MiniAutoSklearn_meta/did_23_fold2"
       ]
      },
      {
       "output_type": "stream",
       "stream": "stdout",
       "text": [
        "\n",
        "Skipping dataset /home/feurerm/thesis/datasets/openml/datasets/did75.xml because no task is specified"
       ]
      },
      {
       "output_type": "stream",
       "stream": "stdout",
       "text": [
        "\n",
        "Skipping dataset /home/feurerm/thesis/datasets/openml/datasets/did151.xml because no task is specified\n",
        "/home/feurerm/thesis/experiments/2014_05_16_MiniAutoSklearn_meta/did_49_fold0\n",
        "/home/feurerm/thesis/experiments/2014_05_16_MiniAutoSklearn_meta/did_49_fold1\n",
        "/home/feurerm/thesis/experiments/2014_05_16_MiniAutoSklearn_meta/did_49_fold2"
       ]
      },
      {
       "output_type": "stream",
       "stream": "stdout",
       "text": [
        "\n",
        "/home/feurerm/thesis/experiments/2014_05_16_MiniAutoSklearn_meta/did_41_fold0\n",
        "/home/feurerm/thesis/experiments/2014_05_16_MiniAutoSklearn_meta/did_41_fold1\n",
        "/home/feurerm/thesis/experiments/2014_05_16_MiniAutoSklearn_meta/did_41_fold2"
       ]
      },
      {
       "output_type": "stream",
       "stream": "stdout",
       "text": [
        "\n",
        "Skipping dataset /home/feurerm/thesis/datasets/openml/datasets/did168.xml because no task is specified\n",
        "Skipping dataset /home/feurerm/thesis/datasets/openml/datasets/did116.xml because no task is specified\n",
        "Skipping dataset /home/feurerm/thesis/datasets/openml/datasets/did184.xml because no task is specified\n",
        "Skipping dataset /home/feurerm/thesis/datasets/openml/datasets/did45.xml because no task is specified\n",
        "Skipping dataset /home/feurerm/thesis/datasets/openml/datasets/did76.xml because no task is specified\n",
        "/home/feurerm/thesis/experiments/2014_05_16_MiniAutoSklearn_meta/did_186_fold0\n",
        "/home/feurerm/thesis/experiments/2014_05_16_MiniAutoSklearn_meta/did_186_fold1"
       ]
      },
      {
       "output_type": "stream",
       "stream": "stdout",
       "text": [
        "\n",
        "/home/feurerm/thesis/experiments/2014_05_16_MiniAutoSklearn_meta/did_186_fold2\n",
        "/home/feurerm/thesis/experiments/2014_05_16_MiniAutoSklearn_meta/did_61_fold0"
       ]
      },
      {
       "output_type": "stream",
       "stream": "stdout",
       "text": [
        "\n",
        "/home/feurerm/thesis/experiments/2014_05_16_MiniAutoSklearn_meta/did_61_fold1"
       ]
      },
      {
       "output_type": "stream",
       "stream": "stdout",
       "text": [
        "\n",
        "/home/feurerm/thesis/experiments/2014_05_16_MiniAutoSklearn_meta/did_61_fold2\n",
        "Skipping dataset /home/feurerm/thesis/datasets/openml/datasets/did179.xml because no task is specified\n",
        "/home/feurerm/thesis/experiments/2014_05_16_MiniAutoSklearn_meta/did_53_fold0\n",
        "/home/feurerm/thesis/experiments/2014_05_16_MiniAutoSklearn_meta/did_53_fold1"
       ]
      },
      {
       "output_type": "stream",
       "stream": "stdout",
       "text": [
        "\n",
        "/home/feurerm/thesis/experiments/2014_05_16_MiniAutoSklearn_meta/did_53_fold2\n",
        "Skipping dataset /home/feurerm/thesis/datasets/openml/datasets/did74.xml because no task is specified"
       ]
      },
      {
       "output_type": "stream",
       "stream": "stdout",
       "text": [
        "\n",
        "/home/feurerm/thesis/experiments/2014_05_16_MiniAutoSklearn_meta/did_30_fold0\n",
        "/home/feurerm/thesis/experiments/2014_05_16_MiniAutoSklearn_meta/did_30_fold1\n",
        "/home/feurerm/thesis/experiments/2014_05_16_MiniAutoSklearn_meta/did_30_fold2"
       ]
      },
      {
       "output_type": "stream",
       "stream": "stdout",
       "text": [
        "\n",
        "Skipping dataset /home/feurerm/thesis/datasets/openml/datasets/did160.xml because no task is specified\n",
        "/home/feurerm/thesis/experiments/2014_05_16_MiniAutoSklearn_meta/did_15_fold0\n",
        "/home/feurerm/thesis/experiments/2014_05_16_MiniAutoSklearn_meta/did_15_fold1\n",
        "/home/feurerm/thesis/experiments/2014_05_16_MiniAutoSklearn_meta/did_15_fold2"
       ]
      },
      {
       "output_type": "stream",
       "stream": "stdout",
       "text": [
        "\n",
        "Skipping dataset /home/feurerm/thesis/datasets/openml/datasets/did77.xml because no task is specified\n",
        "/home/feurerm/thesis/experiments/2014_05_16_MiniAutoSklearn_meta/did_51_fold0\n",
        "/home/feurerm/thesis/experiments/2014_05_16_MiniAutoSklearn_meta/did_51_fold1"
       ]
      },
      {
       "output_type": "stream",
       "stream": "stdout",
       "text": [
        "\n",
        "/home/feurerm/thesis/experiments/2014_05_16_MiniAutoSklearn_meta/did_51_fold2\n",
        "Skipping dataset /home/feurerm/thesis/datasets/openml/datasets/did167.xml because no task is specified"
       ]
      },
      {
       "output_type": "stream",
       "stream": "stdout",
       "text": [
        "\n",
        "Skipping dataset /home/feurerm/thesis/datasets/openml/datasets/did174.xml because no task is specified\n",
        "Skipping dataset /home/feurerm/thesis/datasets/openml/datasets/did117.xml because no task is specified\n",
        "Skipping dataset /home/feurerm/thesis/datasets/openml/datasets/did175.xml because no task is specified\n",
        "Skipping dataset /home/feurerm/thesis/datasets/openml/datasets/did147.xml because no task is specified\n",
        "/home/feurerm/thesis/experiments/2014_05_16_MiniAutoSklearn_meta/did_181_fold0\n",
        "/home/feurerm/thesis/experiments/2014_05_16_MiniAutoSklearn_meta/did_181_fold1"
       ]
      },
      {
       "output_type": "stream",
       "stream": "stdout",
       "text": [
        "\n",
        "/home/feurerm/thesis/experiments/2014_05_16_MiniAutoSklearn_meta/did_181_fold2"
       ]
      },
      {
       "output_type": "stream",
       "stream": "stdout",
       "text": [
        "\n",
        "/home/feurerm/thesis/experiments/2014_05_16_MiniAutoSklearn_meta/did_48_fold0"
       ]
      },
      {
       "output_type": "stream",
       "stream": "stdout",
       "text": [
        "\n",
        "/home/feurerm/thesis/experiments/2014_05_16_MiniAutoSklearn_meta/did_48_fold1"
       ]
      },
      {
       "output_type": "stream",
       "stream": "stdout",
       "text": [
        "\n",
        "/home/feurerm/thesis/experiments/2014_05_16_MiniAutoSklearn_meta/did_48_fold2"
       ]
      },
      {
       "output_type": "stream",
       "stream": "stdout",
       "text": [
        "\n",
        "Skipping dataset /home/feurerm/thesis/datasets/openml/datasets/did164.xml because no task is specified\n",
        "Skipping dataset /home/feurerm/thesis/datasets/openml/datasets/did180.xml because no task is specified\n",
        "/home/feurerm/thesis/experiments/2014_05_16_MiniAutoSklearn_meta/did_43_fold0\n",
        "/home/feurerm/thesis/experiments/2014_05_16_MiniAutoSklearn_meta/did_43_fold1"
       ]
      },
      {
       "output_type": "stream",
       "stream": "stdout",
       "text": [
        "\n",
        "/home/feurerm/thesis/experiments/2014_05_16_MiniAutoSklearn_meta/did_43_fold2\n",
        "Skipping dataset /home/feurerm/thesis/datasets/openml/datasets/did137.xml because no task is specified"
       ]
      },
      {
       "output_type": "stream",
       "stream": "stdout",
       "text": [
        "\n",
        "/home/feurerm/thesis/experiments/2014_05_16_MiniAutoSklearn_meta/did_20_fold0\n",
        "/home/feurerm/thesis/experiments/2014_05_16_MiniAutoSklearn_meta/did_20_fold1\n",
        "/home/feurerm/thesis/experiments/2014_05_16_MiniAutoSklearn_meta/did_20_fold2"
       ]
      },
      {
       "output_type": "stream",
       "stream": "stdout",
       "text": [
        "\n",
        "Skipping dataset /home/feurerm/thesis/datasets/openml/datasets/did78.xml because no task is specified\n",
        "Skipping dataset /home/feurerm/thesis/datasets/openml/datasets/did165.xml because no task is specified\n",
        "Skipping dataset /home/feurerm/thesis/datasets/openml/datasets/did142.xml because no task is specified\n",
        "Skipping dataset /home/feurerm/thesis/datasets/openml/datasets/did148.xml because no task is specified\n",
        "Skipping dataset /home/feurerm/thesis/datasets/openml/datasets/did185.xml because no task is specified"
       ]
      },
      {
       "output_type": "stream",
       "stream": "stdout",
       "text": [
        "\n",
        "Skipping dataset /home/feurerm/thesis/datasets/openml/datasets/did124.xml because no task is specified\n",
        "Skipping dataset /home/feurerm/thesis/datasets/openml/datasets/did149.xml because no task is specified\n",
        "Skipping dataset /home/feurerm/thesis/datasets/openml/datasets/did143.xml because no task is specified\n",
        "Skipping dataset /home/feurerm/thesis/datasets/openml/datasets/did19.xml because no task is specified\n",
        "/home/feurerm/thesis/experiments/2014_05_16_MiniAutoSklearn_meta/did_28_fold0\n",
        "/home/feurerm/thesis/experiments/2014_05_16_MiniAutoSklearn_meta/did_28_fold1"
       ]
      },
      {
       "output_type": "stream",
       "stream": "stdout",
       "text": [
        "\n",
        "/home/feurerm/thesis/experiments/2014_05_16_MiniAutoSklearn_meta/did_28_fold2\n",
        "/home/feurerm/thesis/experiments/2014_05_16_MiniAutoSklearn_meta/did_12_fold0"
       ]
      },
      {
       "output_type": "stream",
       "stream": "stdout",
       "text": [
        "\n",
        "/home/feurerm/thesis/experiments/2014_05_16_MiniAutoSklearn_meta/did_12_fold1\n",
        "/home/feurerm/thesis/experiments/2014_05_16_MiniAutoSklearn_meta/did_12_fold2"
       ]
      },
      {
       "output_type": "stream",
       "stream": "stdout",
       "text": [
        "\n",
        "Skipping dataset /home/feurerm/thesis/datasets/openml/datasets/did173.xml because no task is specified\n",
        "Skipping dataset /home/feurerm/thesis/datasets/openml/datasets/did140.xml because no task is specified\n",
        "Skipping dataset /home/feurerm/thesis/datasets/openml/datasets/did52.xml because no task is specified\n",
        "/home/feurerm/thesis/experiments/2014_05_16_MiniAutoSklearn_meta/did_182_fold0"
       ]
      },
      {
       "output_type": "stream",
       "stream": "stdout",
       "text": [
        "\n",
        "/home/feurerm/thesis/experiments/2014_05_16_MiniAutoSklearn_meta/did_182_fold1"
       ]
      },
      {
       "output_type": "stream",
       "stream": "stdout",
       "text": [
        "\n",
        "/home/feurerm/thesis/experiments/2014_05_16_MiniAutoSklearn_meta/did_182_fold2"
       ]
      },
      {
       "output_type": "stream",
       "stream": "stdout",
       "text": [
        "\n",
        "Skipping dataset /home/feurerm/thesis/datasets/openml/datasets/did139.xml because no task is specified"
       ]
      },
      {
       "output_type": "stream",
       "stream": "stdout",
       "text": [
        "\n",
        "/home/feurerm/thesis/experiments/2014_05_16_MiniAutoSklearn_meta/did_10_fold0\n",
        "/home/feurerm/thesis/experiments/2014_05_16_MiniAutoSklearn_meta/did_10_fold1\n",
        "/home/feurerm/thesis/experiments/2014_05_16_MiniAutoSklearn_meta/did_10_fold2"
       ]
      },
      {
       "output_type": "stream",
       "stream": "stdout",
       "text": [
        "\n",
        "Skipping dataset /home/feurerm/thesis/datasets/openml/datasets/did169.xml because no task is specified\n",
        "Skipping dataset /home/feurerm/thesis/datasets/openml/datasets/did127.xml because no task is specified\n",
        "/home/feurerm/thesis/experiments/2014_05_16_MiniAutoSklearn_meta/did_7_fold0\n",
        "/home/feurerm/thesis/experiments/2014_05_16_MiniAutoSklearn_meta/did_7_fold1"
       ]
      },
      {
       "output_type": "stream",
       "stream": "stdout",
       "text": [
        "\n",
        "/home/feurerm/thesis/experiments/2014_05_16_MiniAutoSklearn_meta/did_7_fold2\n",
        "Skipping dataset /home/feurerm/thesis/datasets/openml/datasets/did119.xml because no task is specified"
       ]
      },
      {
       "output_type": "stream",
       "stream": "stdout",
       "text": [
        "\n",
        "Skipping dataset /home/feurerm/thesis/datasets/openml/datasets/did73.xml because no task is specified\n",
        "Skipping dataset /home/feurerm/thesis/datasets/openml/datasets/did115.xml because no task is specified\n",
        "Skipping dataset /home/feurerm/thesis/datasets/openml/datasets/did123.xml because no task is specified\n",
        "Skipping dataset /home/feurerm/thesis/datasets/openml/datasets/did136.xml because no task is specified\n",
        "/home/feurerm/thesis/experiments/2014_05_16_MiniAutoSklearn_meta/did_39_fold0\n",
        "/home/feurerm/thesis/experiments/2014_05_16_MiniAutoSklearn_meta/did_39_fold1\n",
        "/home/feurerm/thesis/experiments/2014_05_16_MiniAutoSklearn_meta/did_39_fold2"
       ]
      },
      {
       "output_type": "stream",
       "stream": "stdout",
       "text": [
        "\n",
        "/home/feurerm/thesis/experiments/2014_05_16_MiniAutoSklearn_meta/did_50_fold0"
       ]
      },
      {
       "output_type": "stream",
       "stream": "stdout",
       "text": [
        "\n",
        "/home/feurerm/thesis/experiments/2014_05_16_MiniAutoSklearn_meta/did_50_fold1"
       ]
      },
      {
       "output_type": "stream",
       "stream": "stdout",
       "text": [
        "\n",
        "/home/feurerm/thesis/experiments/2014_05_16_MiniAutoSklearn_meta/did_50_fold2"
       ]
      },
      {
       "output_type": "stream",
       "stream": "stdout",
       "text": [
        "\n",
        "/home/feurerm/thesis/experiments/2014_05_16_MiniAutoSklearn_meta/did_44_fold0"
       ]
      },
      {
       "output_type": "stream",
       "stream": "stdout",
       "text": [
        "\n",
        "/home/feurerm/thesis/experiments/2014_05_16_MiniAutoSklearn_meta/did_44_fold1"
       ]
      },
      {
       "output_type": "stream",
       "stream": "stdout",
       "text": [
        "\n",
        "/home/feurerm/thesis/experiments/2014_05_16_MiniAutoSklearn_meta/did_44_fold2"
       ]
      },
      {
       "output_type": "stream",
       "stream": "stdout",
       "text": [
        "\n",
        "/home/feurerm/thesis/experiments/2014_05_16_MiniAutoSklearn_meta/did_62_fold0"
       ]
      },
      {
       "output_type": "stream",
       "stream": "stdout",
       "text": [
        "\n",
        "/home/feurerm/thesis/experiments/2014_05_16_MiniAutoSklearn_meta/did_62_fold1"
       ]
      },
      {
       "output_type": "stream",
       "stream": "stdout",
       "text": [
        "\n",
        "/home/feurerm/thesis/experiments/2014_05_16_MiniAutoSklearn_meta/did_62_fold2"
       ]
      },
      {
       "output_type": "stream",
       "stream": "stdout",
       "text": [
        "\n",
        "Skipping dataset /home/feurerm/thesis/datasets/openml/datasets/did134.xml because no task is specified"
       ]
      },
      {
       "output_type": "stream",
       "stream": "stdout",
       "text": [
        "\n",
        "Skipping dataset /home/feurerm/thesis/datasets/openml/datasets/did157.xml because no task is specified\n",
        "Skipping dataset /home/feurerm/thesis/datasets/openml/datasets/did17.xml because no task is specified\n",
        "Skipping dataset /home/feurerm/thesis/datasets/openml/datasets/did145.xml because no task is specified\n",
        "Skipping dataset /home/feurerm/thesis/datasets/openml/datasets/did163.xml because no task is specified\n",
        "Skipping dataset /home/feurerm/thesis/datasets/openml/datasets/did25.xml because no task is specified\n",
        "Skipping dataset /home/feurerm/thesis/datasets/openml/datasets/did158.xml because no task is specified\n",
        "Skipping dataset /home/feurerm/thesis/datasets/openml/datasets/did152.xml because no task is specified\n",
        "/home/feurerm/thesis/experiments/2014_05_16_MiniAutoSklearn_meta/did_40_fold0\n",
        "/home/feurerm/thesis/experiments/2014_05_16_MiniAutoSklearn_meta/did_40_fold1"
       ]
      },
      {
       "output_type": "stream",
       "stream": "stdout",
       "text": [
        "\n",
        "/home/feurerm/thesis/experiments/2014_05_16_MiniAutoSklearn_meta/did_40_fold2\n",
        "Skipping dataset /home/feurerm/thesis/datasets/openml/datasets/did172.xml because no task is specified"
       ]
      },
      {
       "output_type": "stream",
       "stream": "stdout",
       "text": [
        "\n",
        "Skipping dataset /home/feurerm/thesis/datasets/openml/datasets/did170.xml because no task is specified\n",
        "/home/feurerm/thesis/experiments/2014_05_16_MiniAutoSklearn_meta/did_22_fold0\n",
        "/home/feurerm/thesis/experiments/2014_05_16_MiniAutoSklearn_meta/did_22_fold1"
       ]
      },
      {
       "output_type": "stream",
       "stream": "stdout",
       "text": [
        "\n",
        "/home/feurerm/thesis/experiments/2014_05_16_MiniAutoSklearn_meta/did_22_fold2"
       ]
      },
      {
       "output_type": "stream",
       "stream": "stdout",
       "text": [
        "\n",
        "Skipping dataset /home/feurerm/thesis/datasets/openml/datasets/did27.xml because no task is specified"
       ]
      },
      {
       "output_type": "stream",
       "stream": "stdout",
       "text": [
        "\n",
        "Skipping dataset /home/feurerm/thesis/datasets/openml/datasets/did141.xml because no task is specified\n",
        "Skipping dataset /home/feurerm/thesis/datasets/openml/datasets/did162.xml because no task is specified\n",
        "/home/feurerm/thesis/experiments/2014_05_16_MiniAutoSklearn_meta/did_3_fold0\n",
        "/home/feurerm/thesis/experiments/2014_05_16_MiniAutoSklearn_meta/did_3_fold1"
       ]
      },
      {
       "output_type": "stream",
       "stream": "stdout",
       "text": [
        "\n",
        "/home/feurerm/thesis/experiments/2014_05_16_MiniAutoSklearn_meta/did_3_fold2"
       ]
      },
      {
       "output_type": "stream",
       "stream": "stdout",
       "text": [
        "\n",
        "Skipping dataset /home/feurerm/thesis/datasets/openml/datasets/did133.xml because no task is specified"
       ]
      },
      {
       "output_type": "stream",
       "stream": "stdout",
       "text": [
        "\n"
       ]
      }
     ],
     "prompt_number": 7
    },
    {
     "cell_type": "code",
     "collapsed": false,
     "input": [
      "for fold in range(3):\n",
      "    for optimizer in commands[fold]:\n",
      "        sge_commands_file = os.path.join(target_directory, \"sklearn_%s_fold%d.txt\" % (optimizer, fold))\n",
      "        commands[fold][optimizer].sort()\n",
      "        with open(sge_commands_file, \"a\") as fh:\n",
      "            for command in commands[fold][optimizer]:\n",
      "                fh.write(command)\n"
     ],
     "language": "python",
     "metadata": {},
     "outputs": [],
     "prompt_number": 16
    },
    {
     "cell_type": "code",
     "collapsed": false,
     "input": [
      "with open(os.path.join(target_directory, \"init_experiment.sh\"), \"w\") as fh:\n",
      "    fh.write(\"\"\"source /home/feurerm/.bashrc\n",
      "\n",
      "cp /home/feurerm/thesis/datasets/openml.tar.gz /tmp/${JOB_ID}.${SGE_TASK_ID}.aad_core.q/\n",
      "tar -xf /tmp/${JOB_ID}.${SGE_TASK_ID}.aad_core.q/openml.tar.gz --directory=/tmp/${JOB_ID}.${SGE_TASK_ID}.aad_core.q/\n",
      "\n",
      "virtualenv /tmp/${JOB_ID}.${SGE_TASK_ID}.aad_core.q/virtualenv/\n",
      "source /tmp/${JOB_ID}.${SGE_TASK_ID}.aad_core.q/virtualenv/bin/activate\n",
      "\n",
      "ln -s /usr/lib/python2.7/dist-packages/numpy /tmp/${JOB_ID}.${SGE_TASK_ID}.aad_core.q/virtualenv/lib/python2.7/site-packages/numpy\n",
      "ln -s /usr/lib/python2.7/dist-packages/numpy-1.6.1.egg-info /tmp/${JOB_ID}.${SGE_TASK_ID}.aad_core.q/virtualenv/lib/python2.7/site-packages/numpy-1.6.1.egg-info\n",
      "ln -s /usr/lib/python2.7/dist-packages/scipy /tmp/${JOB_ID}.${SGE_TASK_ID}.aad_core.q/virtualenv/lib/python2.7/site-packages/scipy\n",
      "ln -s /usr/lib/python2.7/dist-packages/scipy-0.9.0.egg-info /tmp/${JOB_ID}.${SGE_TASK_ID}.aad_core.q/virtualenv/lib/python2.7/site-packages/scipy-0.9.0.egg-info\n",
      "\n",
      "requirements=\"/home/feurerm/thesis/experiments/2014_05_16_MiniAutoSklearn_meta/requirements.txt\"\n",
      "for req in `cat $requirements`\n",
      "do\n",
      "  pip install $req --no-index -f \"/home/feurerm/Software/installation_files/python_packages4HPOlib/\"\n",
      "done\n",
      "\n",
      "export PYTHONPATH=$PYTHONPATH:/home/feurerm/thesis/Software\n",
      "export PYTHONPATH=$PYTHONPATH:/home/feurerm/thesis/Software/AutoSklearn\n",
      "\n",
      "line=`echo ${line} | sed -e 's/${JOB_ID}/'${JOB_ID}'/g'`\n",
      "line=`echo ${line} | sed -e 's/${SGE_TASK_ID}/'${SGE_TASK_ID}'/g'`\"\"\")\n"
     ],
     "language": "python",
     "metadata": {},
     "outputs": [],
     "prompt_number": 17
    },
    {
     "cell_type": "code",
     "collapsed": false,
     "input": [
      "with open(os.path.join(target_directory, \"requirements.txt\"), \"w\") as fh:\n",
      "    fh.write(\"\"\"MarkupSafe==0.19\n",
      "Pillow==2.4.0\n",
      "Theano==0.6.0\n",
      "argparse==1.2.1\n",
      "astroid==1.0.1\n",
      "backports.ssl-match-hostname==3.4.0.2\n",
      "cgen==2013.1.2\n",
      "codepy==2013.1.2\n",
      "coverage==3.7.1\n",
      "decorator==3.4.0\n",
      "ipython==2.0.0\n",
      "jinja2==2.7.2\n",
      "joblib==0.7.1\n",
      "liac-arff==2.0.1\n",
      "lockfile==0.9.1\n",
      "logilab-common==0.61.0\n",
      "matplotlib==1.0.1\n",
      "networkx==1.8.1\n",
      "nose==1.3.0\n",
      "pandas==0.13.1\n",
      "protobuf==2.5.0\n",
      "psutil==2.1.1\n",
      "pydot2==1.0.33\n",
      "pylint==1.1.0\n",
      "pymongo==2.6.3\n",
      "pyparsing==2.0.1\n",
      "python-dateutil==2.2\n",
      "pytools==2014.1.2\n",
      "pytz==2013.9\n",
      "pyzmq==14.3.0\n",
      "scikit-learn==0.14.1\n",
      "shovel==0.3.0\n",
      "six==1.5.2\n",
      "tornado==3.2\n",
      "virtualenv==1.10.1\n",
      "wsgiref==0.1.2\n",
      "xmltodict==0.9\n",
      "hyperopt==0.0.2\n",
      "HPOlib==0.2.0dev\"\"\")"
     ],
     "language": "python",
     "metadata": {},
     "outputs": [],
     "prompt_number": 18
    },
    {
     "cell_type": "code",
     "collapsed": false,
     "input": [],
     "language": "python",
     "metadata": {},
     "outputs": []
    }
   ],
   "metadata": {}
  }
 ]
}