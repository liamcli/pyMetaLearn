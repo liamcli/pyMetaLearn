{
 "metadata": {
  "name": "",
  "signature": "sha256:09b881554c283abbadb003aeabb386eb46b26e1a57670e8ab76b0bb2f486e843"
 },
 "nbformat": 3,
 "nbformat_minor": 0,
 "worksheets": [
  {
   "cells": [
    {
     "cell_type": "code",
     "collapsed": false,
     "input": [
      "import cPickle\n",
      "from collections import defaultdict\n",
      "import glob\n",
      "import os\n",
      "\n",
      "import pyMetaLearn.openml.manage_openml_data\n",
      "from pyMetaLearn.openml.openml_task import OpenMLTask as Task"
     ],
     "language": "python",
     "metadata": {},
     "outputs": [],
     "prompt_number": 13
    },
    {
     "cell_type": "code",
     "collapsed": false,
     "input": [
      "ground_truth_dir = \"/home/feurerm/thesis/experiments/2014_05_16_MiniAutoSklearn_meta\"\n",
      "experiments_directory = \"/home/feurerm/thesis/experiments/2014_06_01_AutoSklearn_metalearning/\"\n",
      "pyMetaLearn.openml.manage_openml_data.set_local_directory(\"/home/feurerm/thesis/datasets/openml/\")\n",
      "local_directory = pyMetaLearn.openml.manage_openml_data.get_local_directory()\n",
      "dataset_dir = os.path.join(local_directory, \"datasets\")"
     ],
     "language": "python",
     "metadata": {},
     "outputs": [],
     "prompt_number": 14
    },
    {
     "cell_type": "code",
     "collapsed": false,
     "input": [
      "commands = defaultdict(list)\n",
      "metalearning_commands = defaultdict(list)\n",
      "bootstrap_commands = defaultdict(list)"
     ],
     "language": "python",
     "metadata": {},
     "outputs": [],
     "prompt_number": 15
    },
    {
     "cell_type": "code",
     "collapsed": false,
     "input": [
      "dataset_list = glob.glob(os.path.join(dataset_dir, \"did*.xml\"))\n",
      "dataset_list.sort()\n",
      "used_datasets = set()"
     ],
     "language": "python",
     "metadata": {},
     "outputs": [],
     "prompt_number": 16
    },
    {
     "cell_type": "code",
     "collapsed": false,
     "input": [
      "optimizers = {\"metalearning_optimizer\": \"/home/feurerm/thesis/Software/pyMetaLearn/optimizers/metalearn_optimizer/\",\n",
      "              \"smac_warmstart\": \"/home/feurerm/thesis/Software/pyMetaLearn/optimizers/smac_warmstart\",\n",
      "              \"smac_2_06_01-dev\": \"/home/feurerm/HPOlib/Software/HPOlib/optimizers/smac/\",\n",
      "              \"hyperopt_august2013_mod\": \"/home/feurerm/HPOlib/Software/HPOlib/optimizers/tpe/hyperopt\",\n",
      "              \"random_hyperopt_august2013_mod\": \"/home/feurerm/HPOlib/Software/HPOlib/optimizers/tpe/random\"}"
     ],
     "language": "python",
     "metadata": {},
     "outputs": [],
     "prompt_number": 17
    },
    {
     "cell_type": "code",
     "collapsed": true,
     "input": [
      "for dataset_filename in dataset_list:\n",
      "    did = os.path.split(dataset_filename)[1]\n",
      "    did = int(did.replace(\"did\", \"\").replace(\".xml\", \"\"))\n",
      "\n",
      "    task_file = os.path.join(pyMetaLearn\n",
      "                .openml.manage_openml_data.get_local_directory(),\n",
      "                \"custom_tasks\", \"did_%d.pkl\" % did)\n",
      "    if not os.path.exists(task_file):\n",
      "        print \"Skipping dataset %s\" % dataset_filename\n",
      "        continue\n",
      "\n",
      "    for fold in range(3):\n",
      "        experiment_dir = os.path.join(experiments_directory, \"did_%d_fold%s\" % (did, fold))\n",
      "        \n",
      "        # Find the ground truth\n",
      "        glob_string = os.path.join(ground_truth_dir,\n",
      "                                   \"did_%d_fold%s\" % (did, fold),\n",
      "                                   \"sequential_optimization_*_\")\n",
      "        glob_results = glob.glob(glob_string)\n",
      "        if len(glob_results) > 1:\n",
      "            raise Exception(\"There must be only one sequential search directory for \"\n",
      "                            \"dataset %s and fold %d: %s\" % (dataset, fold,\n",
      "                                                            str(glob_results)))\n",
      "        elif len(glob_results) == 0:\n",
      "            print \"Found no ground truth directory in %s, skip this dataset\" % \\\n",
      "                (ground_truth_dir + \"did_%d_fold%s/\" % (did, fold))\n",
      "            continue\n",
      "            \n",
      "        # Now we know that we are actually working with this dataset\n",
      "        used_datasets.add(did)\n",
      "            \n",
      "        ground_truth = os.path.join(glob_results[0], \"sequential.pkl\")\n",
      "\n",
      "        # Allows me to run this script again, adding new datasets\n",
      "        if os.path.exists(experiment_dir):\n",
      "            print \"Skipping %s\" % experiment_dir\n",
      "            continue\n",
      "\n",
      "        print experiment_dir\n",
      "        os.mkdir(experiment_dir)\n",
      "\n",
      "        ########################################################################\n",
      "        # Pre-calculate the meta-features for this task...\n",
      "        with open(task_file) as fh:\n",
      "            task_args = cPickle.load(fh)\n",
      "        task = Task(**task_args)\n",
      "        dataset = pyMetaLearn.openml.manage_openml_data.get_local_dataset(\n",
      "            task.dataset_id)\n",
      "        X, Y = task.get_dataset()\n",
      "        train_splits, test_splits = task._get_fold(X, Y, fold=fold, folds=3)\n",
      "        dataset.get_metafeatures(subset_indices=tuple(train_splits))\n",
      "\n",
      "        # Uncomment this to also calculate the metafeatures of the underlying\n",
      "        #  10fold CV:\n",
      "        # WARNING: this can take very long\n",
      "        for inner_fold in range(10):\n",
      "            inner_train, inner_test = task._get_fold(X[train_splits],\n",
      "                Y[train_splits], fold=inner_fold, folds=10)\n",
      "            dataset.get_metafeatures(subset_indices=tuple(inner_train))\n",
      "\n",
      "        ########################################################################\n",
      "        # Create all directories for the search spaces\n",
      "        directories = dict()\n",
      "        for optimizer in optimizers:\n",
      "            directories[optimizer] = os.path.join(experiment_dir, optimizer)\n",
      "            os.mkdir(directories[optimizer])\n",
      "\n",
      "        # SMAC\n",
      "        with open(os.path.join(directories[\"smac_2_06_01-dev\"], \"params.pcs\"),\n",
      "                  \"w\") as fh:\n",
      "            with open(\"mini_autosklearn_params.pcs\") as fh2:\n",
      "                for line in fh2:\n",
      "                    fh.write(line)\n",
      "                    \n",
      "        # warmstart SMAC\n",
      "        with open(os.path.join(directories[\"smac_warmstart\"], \"params.pcs\"),\n",
      "                  \"w\") as fh:\n",
      "            with open(\"mini_autosklearn_params.pcs\") as fh2:\n",
      "                for line in fh2:\n",
      "                    fh.write(line)\n",
      "\n",
      "        # Hyperopt\n",
      "        with open(os.path.join(directories[\"hyperopt_august2013_mod\"],\n",
      "                  \"space.py\"), \"w\") as fh:\n",
      "            with open(\"mini_autosklearn_params.py\") as fh2:\n",
      "                for line in fh2:\n",
      "                    fh.write(line)\n",
      "        with open(os.path.join(directories[\"hyperopt_august2013_mod\"],\n",
      "                  \"__init__.py\"), \"w\") as fh:\n",
      "            pass\n",
      "\n",
      "        # Random search\n",
      "        with open(os.path.join(directories[\"random_hyperopt_august2013_mod\"],\n",
      "                  \"space.py\"), \"w\") as fh:\n",
      "            with open(\"mini_autosklearn_params.py\") as fh2:\n",
      "                for line in fh2:\n",
      "                    fh.write(line)\n",
      "        with open(os.path.join(directories[\"random_hyperopt_august2013_mod\"],\n",
      "                  \"__init__.py\"), \"w\") as fh:\n",
      "            pass\n",
      "\n",
      "        ########################################################################\n",
      "        # Write the config\n",
      "\n",
      "        with open(os.path.join(experiment_dir, \"config.cfg\"), \"w\") as fh:\n",
      "            content = \"[HPOLIB]\\n\"\n",
      "            content += \"function = python -m pyMetaLearn.target_algorithm.reuse_results\\n\"\n",
      "            content += \"number_of_jobs = 50\\n\"\n",
      "            content += \"result_on_terminate = 1\\n\"\n",
      "            content += \"number_cv = 1\\n\"\n",
      "            content += \"[EXPERIMENT]\\n\"\n",
      "            content += \"test_fold = %s\\n\" % fold\n",
      "            content += \"test_folds = 3\\n\"\n",
      "            content += \"ground_truth = %s\\n\" % ground_truth\n",
      "            content += \"task_args_pkl = %s\\n\" % task_file\n",
      "            content += \"openml_data_dir = %s\\n\" % local_directory\n",
      "            content += \"[METALEARNING]\\n\"\n",
      "            content += \"distance_measure = l1\\n\"\n",
      "            content += \"metafeatures_subset = all\\n\"\n",
      "            content += \"datasets = %s\\n\" % os.path.join(experiments_directory, \"dataset.txt\")\n",
      "            content += \"experiments = %s\" % os.path.join(experiments_directory, \"experiments_fold%d.txt\\n\" % fold)\n",
      "            content += \"distance_learner_params = {'n_estimators': 100, 'max_features': 1.0, 'n_jobs': 2, 'min_samples_split': 2, 'min_samples_leaf': 1}\\n\"\n",
      "            content += \"distance_eliminate_features = {}\\n\"\n",
      "            content += \"\\n\"\n",
      "            fh.write(content)\n",
      "\n",
      "        ########################################################################\n",
      "        # Prepare SGE commands for a file\n",
      "\n",
      "        for optimizer in optimizers:\n",
      "            if optimizer not in (\"metalearning_optimizer\",\n",
      "                                 \"smac_warmstart\"):\n",
      "                for seed in range(1000, 10001, 1000):\n",
      "                    commands[fold].append(\"HPOlib-run -o %s -s %d --cwd %s \"\n",
      "                      \"--HPOLIB:temporary_output_directory /tmp/${JOB_ID}.${SGE_TASK_ID}.${queue}\\n\"\n",
      "                      % (optimizers[optimizer], seed, experiment_dir))\n",
      "\n",
      "            elif optimizer == \"smac_warmstart\":\n",
      "                for seed in range(1000, 10001, 1000):\n",
      "                    bootstrap_commands[fold].append(\"HPOlib-run -o %s -s %d \"\n",
      "                        \"--SMAC:path_to_optimizer %s --cwd %s \"\n",
      "                        \"--HPOLIB:temporary_output_directory /tmp/${JOB_ID}.${SGE_TASK_ID}.${queue} \"\n",
      "                        % (optimizers[optimizer], seed,\n",
      "                         \"/home/feurerm/HPOlib/Software/HPOlib/optimizers/smac/smac_2_06_01-dev_src\",\n",
      "                         experiment_dir))\n",
      "\n",
      "            elif optimizer == \"metalearning_optimizer\":   # Metalearner\n",
      "                metalearning_commands[fold].append(\"HPOlib-run -o %s --cwd %s \"\n",
      "                      \"--HPOLIB:temporary_output_directory /tmp/${JOB_ID}.${SGE_TASK_ID}.${queue} \"\n",
      "                     % (optimizers[optimizer], experiment_dir))\n",
      "\n",
      "            else:\n",
      "                raise ValueError(\"Unknown optimizer %s\" % optimizer)"
     ],
     "language": "python",
     "metadata": {},
     "outputs": [
      {
       "output_type": "stream",
       "stream": "stdout",
       "text": [
        "Skipping dataset /home/feurerm/thesis/datasets/openml/datasets/did1.xml\n",
        "/home/feurerm/thesis/experiments/2014_06_01_AutoSklearn_metalearning/did_10_fold0\n",
        "Found no ground truth directory in /home/feurerm/thesis/experiments/2014_05_16_MiniAutoSklearn_metadid_10_fold1/, skip this dataset"
       ]
      },
      {
       "output_type": "stream",
       "stream": "stdout",
       "text": [
        "\n",
        "Found no ground truth directory in /home/feurerm/thesis/experiments/2014_05_16_MiniAutoSklearn_metadid_10_fold2/, skip this dataset\n",
        "/home/feurerm/thesis/experiments/2014_06_01_AutoSklearn_metalearning/did_11_fold0\n",
        "Found no ground truth directory in /home/feurerm/thesis/experiments/2014_05_16_MiniAutoSklearn_metadid_11_fold1/, skip this dataset"
       ]
      },
      {
       "output_type": "stream",
       "stream": "stdout",
       "text": [
        "\n",
        "Found no ground truth directory in /home/feurerm/thesis/experiments/2014_05_16_MiniAutoSklearn_metadid_11_fold2/, skip this dataset\n",
        "Skipping dataset /home/feurerm/thesis/datasets/openml/datasets/did115.xml\n",
        "Skipping dataset /home/feurerm/thesis/datasets/openml/datasets/did116.xml\n",
        "Skipping dataset /home/feurerm/thesis/datasets/openml/datasets/did117.xml\n",
        "Skipping dataset /home/feurerm/thesis/datasets/openml/datasets/did118.xml\n",
        "Skipping dataset /home/feurerm/thesis/datasets/openml/datasets/did119.xml\n",
        "/home/feurerm/thesis/experiments/2014_06_01_AutoSklearn_metalearning/did_12_fold0\n",
        "Found no ground truth directory in /home/feurerm/thesis/experiments/2014_05_16_MiniAutoSklearn_metadid_12_fold1/, skip this dataset"
       ]
      },
      {
       "output_type": "stream",
       "stream": "stdout",
       "text": [
        "\n",
        "Found no ground truth directory in /home/feurerm/thesis/experiments/2014_05_16_MiniAutoSklearn_metadid_12_fold2/, skip this dataset\n",
        "Skipping dataset /home/feurerm/thesis/datasets/openml/datasets/did120.xml\n",
        "Skipping dataset /home/feurerm/thesis/datasets/openml/datasets/did121.xml\n",
        "Skipping dataset /home/feurerm/thesis/datasets/openml/datasets/did122.xml\n",
        "Skipping dataset /home/feurerm/thesis/datasets/openml/datasets/did123.xml\n",
        "Skipping dataset /home/feurerm/thesis/datasets/openml/datasets/did124.xml\n",
        "Skipping dataset /home/feurerm/thesis/datasets/openml/datasets/did125.xml\n",
        "Skipping dataset /home/feurerm/thesis/datasets/openml/datasets/did126.xml\n",
        "Skipping dataset /home/feurerm/thesis/datasets/openml/datasets/did127.xml\n",
        "Skipping dataset /home/feurerm/thesis/datasets/openml/datasets/did128.xml\n",
        "Skipping dataset /home/feurerm/thesis/datasets/openml/datasets/did129.xml\n",
        "/home/feurerm/thesis/experiments/2014_06_01_AutoSklearn_metalearning/did_13_fold0\n",
        "Found no ground truth directory in /home/feurerm/thesis/experiments/2014_05_16_MiniAutoSklearn_metadid_13_fold1/, skip this dataset"
       ]
      },
      {
       "output_type": "stream",
       "stream": "stdout",
       "text": [
        "\n",
        "Found no ground truth directory in /home/feurerm/thesis/experiments/2014_05_16_MiniAutoSklearn_metadid_13_fold2/, skip this dataset\n",
        "Skipping dataset /home/feurerm/thesis/datasets/openml/datasets/did130.xml\n",
        "Skipping dataset /home/feurerm/thesis/datasets/openml/datasets/did131.xml\n",
        "Skipping dataset /home/feurerm/thesis/datasets/openml/datasets/did132.xml\n",
        "Skipping dataset /home/feurerm/thesis/datasets/openml/datasets/did133.xml\n",
        "Skipping dataset /home/feurerm/thesis/datasets/openml/datasets/did134.xml\n",
        "Skipping dataset /home/feurerm/thesis/datasets/openml/datasets/did135.xml\n",
        "Skipping dataset /home/feurerm/thesis/datasets/openml/datasets/did136.xml\n",
        "Skipping dataset /home/feurerm/thesis/datasets/openml/datasets/did137.xml\n",
        "Skipping dataset /home/feurerm/thesis/datasets/openml/datasets/did138.xml\n",
        "Skipping dataset /home/feurerm/thesis/datasets/openml/datasets/did139.xml\n",
        "/home/feurerm/thesis/experiments/2014_06_01_AutoSklearn_metalearning/did_14_fold0\n",
        "Found no ground truth directory in /home/feurerm/thesis/experiments/2014_05_16_MiniAutoSklearn_metadid_14_fold1/, skip this dataset"
       ]
      },
      {
       "output_type": "stream",
       "stream": "stdout",
       "text": [
        "\n",
        "Found no ground truth directory in /home/feurerm/thesis/experiments/2014_05_16_MiniAutoSklearn_metadid_14_fold2/, skip this dataset\n",
        "Skipping dataset /home/feurerm/thesis/datasets/openml/datasets/did140.xml\n",
        "Skipping dataset /home/feurerm/thesis/datasets/openml/datasets/did141.xml\n",
        "Skipping dataset /home/feurerm/thesis/datasets/openml/datasets/did142.xml\n",
        "Skipping dataset /home/feurerm/thesis/datasets/openml/datasets/did143.xml\n",
        "Skipping dataset /home/feurerm/thesis/datasets/openml/datasets/did144.xml\n",
        "Skipping dataset /home/feurerm/thesis/datasets/openml/datasets/did145.xml\n",
        "Skipping dataset /home/feurerm/thesis/datasets/openml/datasets/did146.xml\n",
        "Skipping dataset /home/feurerm/thesis/datasets/openml/datasets/did147.xml\n",
        "Skipping dataset /home/feurerm/thesis/datasets/openml/datasets/did148.xml\n",
        "Skipping dataset /home/feurerm/thesis/datasets/openml/datasets/did149.xml\n",
        "/home/feurerm/thesis/experiments/2014_06_01_AutoSklearn_metalearning/did_15_fold0\n",
        "Found no ground truth directory in /home/feurerm/thesis/experiments/2014_05_16_MiniAutoSklearn_metadid_15_fold1/, skip this dataset"
       ]
      },
      {
       "output_type": "stream",
       "stream": "stdout",
       "text": [
        "\n",
        "Found no ground truth directory in /home/feurerm/thesis/experiments/2014_05_16_MiniAutoSklearn_metadid_15_fold2/, skip this dataset\n",
        "Skipping dataset /home/feurerm/thesis/datasets/openml/datasets/did150.xml\n",
        "Skipping dataset /home/feurerm/thesis/datasets/openml/datasets/did151.xml\n",
        "Skipping dataset /home/feurerm/thesis/datasets/openml/datasets/did152.xml\n",
        "Skipping dataset /home/feurerm/thesis/datasets/openml/datasets/did153.xml\n",
        "Skipping dataset /home/feurerm/thesis/datasets/openml/datasets/did154.xml\n",
        "Skipping dataset /home/feurerm/thesis/datasets/openml/datasets/did155.xml\n",
        "Skipping dataset /home/feurerm/thesis/datasets/openml/datasets/did156.xml\n",
        "Skipping dataset /home/feurerm/thesis/datasets/openml/datasets/did157.xml\n",
        "Skipping dataset /home/feurerm/thesis/datasets/openml/datasets/did158.xml\n",
        "Skipping dataset /home/feurerm/thesis/datasets/openml/datasets/did159.xml\n",
        "/home/feurerm/thesis/experiments/2014_06_01_AutoSklearn_metalearning/did_16_fold0\n",
        "Found no ground truth directory in /home/feurerm/thesis/experiments/2014_05_16_MiniAutoSklearn_metadid_16_fold1/, skip this dataset"
       ]
      },
      {
       "output_type": "stream",
       "stream": "stdout",
       "text": [
        "\n",
        "Found no ground truth directory in /home/feurerm/thesis/experiments/2014_05_16_MiniAutoSklearn_metadid_16_fold2/, skip this dataset\n",
        "Skipping dataset /home/feurerm/thesis/datasets/openml/datasets/did160.xml\n",
        "Skipping dataset /home/feurerm/thesis/datasets/openml/datasets/did161.xml\n",
        "Skipping dataset /home/feurerm/thesis/datasets/openml/datasets/did162.xml\n",
        "Skipping dataset /home/feurerm/thesis/datasets/openml/datasets/did163.xml\n",
        "Skipping dataset /home/feurerm/thesis/datasets/openml/datasets/did164.xml\n",
        "Skipping dataset /home/feurerm/thesis/datasets/openml/datasets/did165.xml\n",
        "Skipping dataset /home/feurerm/thesis/datasets/openml/datasets/did166.xml\n",
        "Skipping dataset /home/feurerm/thesis/datasets/openml/datasets/did167.xml\n",
        "Skipping dataset /home/feurerm/thesis/datasets/openml/datasets/did168.xml\n",
        "Skipping dataset /home/feurerm/thesis/datasets/openml/datasets/did169.xml\n",
        "Skipping dataset /home/feurerm/thesis/datasets/openml/datasets/did17.xml\n",
        "Skipping dataset /home/feurerm/thesis/datasets/openml/datasets/did170.xml\n",
        "/home/feurerm/thesis/experiments/2014_06_01_AutoSklearn_metalearning/did_171_fold0\n",
        "Found no ground truth directory in /home/feurerm/thesis/experiments/2014_05_16_MiniAutoSklearn_metadid_171_fold1/, skip this dataset"
       ]
      },
      {
       "output_type": "stream",
       "stream": "stdout",
       "text": [
        "\n",
        "Found no ground truth directory in /home/feurerm/thesis/experiments/2014_05_16_MiniAutoSklearn_metadid_171_fold2/, skip this dataset\n",
        "Skipping dataset /home/feurerm/thesis/datasets/openml/datasets/did172.xml\n",
        "Skipping dataset /home/feurerm/thesis/datasets/openml/datasets/did173.xml\n",
        "Skipping dataset /home/feurerm/thesis/datasets/openml/datasets/did174.xml\n",
        "Skipping dataset /home/feurerm/thesis/datasets/openml/datasets/did175.xml\n",
        "Skipping dataset /home/feurerm/thesis/datasets/openml/datasets/did176.xml\n",
        "Skipping dataset /home/feurerm/thesis/datasets/openml/datasets/did179.xml\n",
        "/home/feurerm/thesis/experiments/2014_06_01_AutoSklearn_metalearning/did_18_fold0\n",
        "Found no ground truth directory in /home/feurerm/thesis/experiments/2014_05_16_MiniAutoSklearn_metadid_18_fold1/, skip this dataset"
       ]
      },
      {
       "output_type": "stream",
       "stream": "stdout",
       "text": [
        "\n",
        "Found no ground truth directory in /home/feurerm/thesis/experiments/2014_05_16_MiniAutoSklearn_metadid_18_fold2/, skip this dataset\n",
        "Skipping dataset /home/feurerm/thesis/datasets/openml/datasets/did180.xml\n",
        "/home/feurerm/thesis/experiments/2014_06_01_AutoSklearn_metalearning/did_181_fold0\n",
        "Found no ground truth directory in /home/feurerm/thesis/experiments/2014_05_16_MiniAutoSklearn_metadid_181_fold1/, skip this dataset"
       ]
      },
      {
       "output_type": "stream",
       "stream": "stdout",
       "text": [
        "\n",
        "Found no ground truth directory in /home/feurerm/thesis/experiments/2014_05_16_MiniAutoSklearn_metadid_181_fold2/, skip this dataset\n",
        "/home/feurerm/thesis/experiments/2014_06_01_AutoSklearn_metalearning/did_182_fold0\n",
        "Found no ground truth directory in /home/feurerm/thesis/experiments/2014_05_16_MiniAutoSklearn_metadid_182_fold1/, skip this dataset"
       ]
      },
      {
       "output_type": "stream",
       "stream": "stdout",
       "text": [
        "\n",
        "Found no ground truth directory in /home/feurerm/thesis/experiments/2014_05_16_MiniAutoSklearn_metadid_182_fold2/, skip this dataset\n",
        "/home/feurerm/thesis/experiments/2014_06_01_AutoSklearn_metalearning/did_183_fold0\n",
        "Found no ground truth directory in /home/feurerm/thesis/experiments/2014_05_16_MiniAutoSklearn_metadid_183_fold1/, skip this dataset"
       ]
      },
      {
       "output_type": "stream",
       "stream": "stdout",
       "text": [
        "\n",
        "Found no ground truth directory in /home/feurerm/thesis/experiments/2014_05_16_MiniAutoSklearn_metadid_183_fold2/, skip this dataset\n",
        "Skipping dataset /home/feurerm/thesis/datasets/openml/datasets/did184.xml\n",
        "Skipping dataset /home/feurerm/thesis/datasets/openml/datasets/did185.xml\n",
        "/home/feurerm/thesis/experiments/2014_06_01_AutoSklearn_metalearning/did_186_fold0\n",
        "Found no ground truth directory in /home/feurerm/thesis/experiments/2014_05_16_MiniAutoSklearn_metadid_186_fold1/, skip this dataset"
       ]
      },
      {
       "output_type": "stream",
       "stream": "stdout",
       "text": [
        "\n",
        "Found no ground truth directory in /home/feurerm/thesis/experiments/2014_05_16_MiniAutoSklearn_metadid_186_fold2/, skip this dataset\n",
        "/home/feurerm/thesis/experiments/2014_06_01_AutoSklearn_metalearning/did_188_fold0\n",
        "Found no ground truth directory in /home/feurerm/thesis/experiments/2014_05_16_MiniAutoSklearn_metadid_188_fold1/, skip this dataset"
       ]
      },
      {
       "output_type": "stream",
       "stream": "stdout",
       "text": [
        "\n",
        "Found no ground truth directory in /home/feurerm/thesis/experiments/2014_05_16_MiniAutoSklearn_metadid_188_fold2/, skip this dataset\n",
        "Skipping dataset /home/feurerm/thesis/datasets/openml/datasets/did19.xml\n",
        "/home/feurerm/thesis/experiments/2014_06_01_AutoSklearn_metalearning/did_2_fold0\n",
        "Found no ground truth directory in /home/feurerm/thesis/experiments/2014_05_16_MiniAutoSklearn_metadid_2_fold1/, skip this dataset"
       ]
      },
      {
       "output_type": "stream",
       "stream": "stdout",
       "text": [
        "\n",
        "Found no ground truth directory in /home/feurerm/thesis/experiments/2014_05_16_MiniAutoSklearn_metadid_2_fold2/, skip this dataset\n",
        "/home/feurerm/thesis/experiments/2014_06_01_AutoSklearn_metalearning/did_20_fold0\n",
        "Found no ground truth directory in /home/feurerm/thesis/experiments/2014_05_16_MiniAutoSklearn_metadid_20_fold1/, skip this dataset"
       ]
      },
      {
       "output_type": "stream",
       "stream": "stdout",
       "text": [
        "\n",
        "Found no ground truth directory in /home/feurerm/thesis/experiments/2014_05_16_MiniAutoSklearn_metadid_20_fold2/, skip this dataset\n",
        "/home/feurerm/thesis/experiments/2014_06_01_AutoSklearn_metalearning/did_21_fold0\n",
        "Found no ground truth directory in /home/feurerm/thesis/experiments/2014_05_16_MiniAutoSklearn_metadid_21_fold1/, skip this dataset"
       ]
      },
      {
       "output_type": "stream",
       "stream": "stdout",
       "text": [
        "\n",
        "Found no ground truth directory in /home/feurerm/thesis/experiments/2014_05_16_MiniAutoSklearn_metadid_21_fold2/, skip this dataset\n",
        "/home/feurerm/thesis/experiments/2014_06_01_AutoSklearn_metalearning/did_22_fold0\n",
        "Found no ground truth directory in /home/feurerm/thesis/experiments/2014_05_16_MiniAutoSklearn_metadid_22_fold1/, skip this dataset"
       ]
      },
      {
       "output_type": "stream",
       "stream": "stdout",
       "text": [
        "\n",
        "Found no ground truth directory in /home/feurerm/thesis/experiments/2014_05_16_MiniAutoSklearn_metadid_22_fold2/, skip this dataset\n",
        "/home/feurerm/thesis/experiments/2014_06_01_AutoSklearn_metalearning/did_23_fold0\n",
        "Found no ground truth directory in /home/feurerm/thesis/experiments/2014_05_16_MiniAutoSklearn_metadid_23_fold1/, skip this dataset"
       ]
      },
      {
       "output_type": "stream",
       "stream": "stdout",
       "text": [
        "\n",
        "Found no ground truth directory in /home/feurerm/thesis/experiments/2014_05_16_MiniAutoSklearn_metadid_23_fold2/, skip this dataset\n",
        "/home/feurerm/thesis/experiments/2014_06_01_AutoSklearn_metalearning/did_24_fold0\n",
        "Found no ground truth directory in /home/feurerm/thesis/experiments/2014_05_16_MiniAutoSklearn_metadid_24_fold1/, skip this dataset"
       ]
      },
      {
       "output_type": "stream",
       "stream": "stdout",
       "text": [
        "\n",
        "Found no ground truth directory in /home/feurerm/thesis/experiments/2014_05_16_MiniAutoSklearn_metadid_24_fold2/, skip this dataset\n",
        "Skipping dataset /home/feurerm/thesis/datasets/openml/datasets/did25.xml\n",
        "/home/feurerm/thesis/experiments/2014_06_01_AutoSklearn_metalearning/did_26_fold0\n",
        "Found no ground truth directory in /home/feurerm/thesis/experiments/2014_05_16_MiniAutoSklearn_metadid_26_fold1/, skip this dataset"
       ]
      },
      {
       "output_type": "stream",
       "stream": "stdout",
       "text": [
        "\n",
        "Found no ground truth directory in /home/feurerm/thesis/experiments/2014_05_16_MiniAutoSklearn_metadid_26_fold2/, skip this dataset\n",
        "Skipping dataset /home/feurerm/thesis/datasets/openml/datasets/did27.xml\n",
        "/home/feurerm/thesis/experiments/2014_06_01_AutoSklearn_metalearning/did_28_fold0\n",
        "Found no ground truth directory in /home/feurerm/thesis/experiments/2014_05_16_MiniAutoSklearn_metadid_28_fold1/, skip this dataset"
       ]
      },
      {
       "output_type": "stream",
       "stream": "stdout",
       "text": [
        "\n",
        "Found no ground truth directory in /home/feurerm/thesis/experiments/2014_05_16_MiniAutoSklearn_metadid_28_fold2/, skip this dataset\n",
        "/home/feurerm/thesis/experiments/2014_06_01_AutoSklearn_metalearning/did_29_fold0\n",
        "Found no ground truth directory in /home/feurerm/thesis/experiments/2014_05_16_MiniAutoSklearn_metadid_29_fold1/, skip this dataset"
       ]
      },
      {
       "output_type": "stream",
       "stream": "stdout",
       "text": [
        "\n",
        "Found no ground truth directory in /home/feurerm/thesis/experiments/2014_05_16_MiniAutoSklearn_metadid_29_fold2/, skip this dataset\n",
        "/home/feurerm/thesis/experiments/2014_06_01_AutoSklearn_metalearning/did_3_fold0\n",
        "Found no ground truth directory in /home/feurerm/thesis/experiments/2014_05_16_MiniAutoSklearn_metadid_3_fold1/, skip this dataset"
       ]
      },
      {
       "output_type": "stream",
       "stream": "stdout",
       "text": [
        "\n",
        "Found no ground truth directory in /home/feurerm/thesis/experiments/2014_05_16_MiniAutoSklearn_metadid_3_fold2/, skip this dataset\n",
        "/home/feurerm/thesis/experiments/2014_06_01_AutoSklearn_metalearning/did_30_fold0\n",
        "Found no ground truth directory in /home/feurerm/thesis/experiments/2014_05_16_MiniAutoSklearn_metadid_30_fold1/, skip this dataset"
       ]
      },
      {
       "output_type": "stream",
       "stream": "stdout",
       "text": [
        "\n",
        "Found no ground truth directory in /home/feurerm/thesis/experiments/2014_05_16_MiniAutoSklearn_metadid_30_fold2/, skip this dataset\n",
        "/home/feurerm/thesis/experiments/2014_06_01_AutoSklearn_metalearning/did_31_fold0\n",
        "Found no ground truth directory in /home/feurerm/thesis/experiments/2014_05_16_MiniAutoSklearn_metadid_31_fold1/, skip this dataset"
       ]
      },
      {
       "output_type": "stream",
       "stream": "stdout",
       "text": [
        "\n",
        "Found no ground truth directory in /home/feurerm/thesis/experiments/2014_05_16_MiniAutoSklearn_metadid_31_fold2/, skip this dataset\n",
        "/home/feurerm/thesis/experiments/2014_06_01_AutoSklearn_metalearning/did_32_fold0\n",
        "Found no ground truth directory in /home/feurerm/thesis/experiments/2014_05_16_MiniAutoSklearn_metadid_32_fold1/, skip this dataset"
       ]
      },
      {
       "output_type": "stream",
       "stream": "stdout",
       "text": [
        "\n",
        "Found no ground truth directory in /home/feurerm/thesis/experiments/2014_05_16_MiniAutoSklearn_metadid_32_fold2/, skip this dataset\n",
        "/home/feurerm/thesis/experiments/2014_06_01_AutoSklearn_metalearning/did_33_fold0\n",
        "Found no ground truth directory in /home/feurerm/thesis/experiments/2014_05_16_MiniAutoSklearn_metadid_33_fold1/, skip this dataset"
       ]
      },
      {
       "output_type": "stream",
       "stream": "stdout",
       "text": [
        "\n",
        "Found no ground truth directory in /home/feurerm/thesis/experiments/2014_05_16_MiniAutoSklearn_metadid_33_fold2/, skip this dataset\n",
        "/home/feurerm/thesis/experiments/2014_06_01_AutoSklearn_metalearning/did_34_fold0\n",
        "Found no ground truth directory in /home/feurerm/thesis/experiments/2014_05_16_MiniAutoSklearn_metadid_34_fold1/, skip this dataset"
       ]
      },
      {
       "output_type": "stream",
       "stream": "stdout",
       "text": [
        "\n",
        "Found no ground truth directory in /home/feurerm/thesis/experiments/2014_05_16_MiniAutoSklearn_metadid_34_fold2/, skip this dataset\n",
        "/home/feurerm/thesis/experiments/2014_06_01_AutoSklearn_metalearning/did_35_fold0\n",
        "Found no ground truth directory in /home/feurerm/thesis/experiments/2014_05_16_MiniAutoSklearn_metadid_35_fold1/, skip this dataset"
       ]
      },
      {
       "output_type": "stream",
       "stream": "stdout",
       "text": [
        "\n",
        "Found no ground truth directory in /home/feurerm/thesis/experiments/2014_05_16_MiniAutoSklearn_metadid_35_fold2/, skip this dataset\n",
        "/home/feurerm/thesis/experiments/2014_06_01_AutoSklearn_metalearning/did_36_fold0\n",
        "Found no ground truth directory in /home/feurerm/thesis/experiments/2014_05_16_MiniAutoSklearn_metadid_36_fold1/, skip this dataset"
       ]
      },
      {
       "output_type": "stream",
       "stream": "stdout",
       "text": [
        "\n",
        "Found no ground truth directory in /home/feurerm/thesis/experiments/2014_05_16_MiniAutoSklearn_metadid_36_fold2/, skip this dataset\n",
        "/home/feurerm/thesis/experiments/2014_06_01_AutoSklearn_metalearning/did_37_fold0\n",
        "Found no ground truth directory in /home/feurerm/thesis/experiments/2014_05_16_MiniAutoSklearn_metadid_37_fold1/, skip this dataset"
       ]
      },
      {
       "output_type": "stream",
       "stream": "stdout",
       "text": [
        "\n",
        "Found no ground truth directory in /home/feurerm/thesis/experiments/2014_05_16_MiniAutoSklearn_metadid_37_fold2/, skip this dataset\n",
        "/home/feurerm/thesis/experiments/2014_06_01_AutoSklearn_metalearning/did_39_fold0\n",
        "Found no ground truth directory in /home/feurerm/thesis/experiments/2014_05_16_MiniAutoSklearn_metadid_39_fold1/, skip this dataset"
       ]
      },
      {
       "output_type": "stream",
       "stream": "stdout",
       "text": [
        "\n",
        "Found no ground truth directory in /home/feurerm/thesis/experiments/2014_05_16_MiniAutoSklearn_metadid_39_fold2/, skip this dataset\n",
        "/home/feurerm/thesis/experiments/2014_06_01_AutoSklearn_metalearning/did_4_fold0\n",
        "Found no ground truth directory in /home/feurerm/thesis/experiments/2014_05_16_MiniAutoSklearn_metadid_4_fold1/, skip this dataset"
       ]
      },
      {
       "output_type": "stream",
       "stream": "stdout",
       "text": [
        "\n",
        "Found no ground truth directory in /home/feurerm/thesis/experiments/2014_05_16_MiniAutoSklearn_metadid_4_fold2/, skip this dataset\n",
        "/home/feurerm/thesis/experiments/2014_06_01_AutoSklearn_metalearning/did_40_fold0\n",
        "Found no ground truth directory in /home/feurerm/thesis/experiments/2014_05_16_MiniAutoSklearn_metadid_40_fold1/, skip this dataset"
       ]
      },
      {
       "output_type": "stream",
       "stream": "stdout",
       "text": [
        "\n",
        "Found no ground truth directory in /home/feurerm/thesis/experiments/2014_05_16_MiniAutoSklearn_metadid_40_fold2/, skip this dataset\n",
        "/home/feurerm/thesis/experiments/2014_06_01_AutoSklearn_metalearning/did_41_fold0\n",
        "Found no ground truth directory in /home/feurerm/thesis/experiments/2014_05_16_MiniAutoSklearn_metadid_41_fold1/, skip this dataset"
       ]
      },
      {
       "output_type": "stream",
       "stream": "stdout",
       "text": [
        "\n",
        "Found no ground truth directory in /home/feurerm/thesis/experiments/2014_05_16_MiniAutoSklearn_metadid_41_fold2/, skip this dataset\n",
        "/home/feurerm/thesis/experiments/2014_06_01_AutoSklearn_metalearning/did_42_fold0\n",
        "Found no ground truth directory in /home/feurerm/thesis/experiments/2014_05_16_MiniAutoSklearn_metadid_42_fold1/, skip this dataset"
       ]
      },
      {
       "output_type": "stream",
       "stream": "stdout",
       "text": [
        "\n",
        "Found no ground truth directory in /home/feurerm/thesis/experiments/2014_05_16_MiniAutoSklearn_metadid_42_fold2/, skip this dataset\n",
        "/home/feurerm/thesis/experiments/2014_06_01_AutoSklearn_metalearning/did_43_fold0\n",
        "Found no ground truth directory in /home/feurerm/thesis/experiments/2014_05_16_MiniAutoSklearn_metadid_43_fold1/, skip this dataset"
       ]
      },
      {
       "output_type": "stream",
       "stream": "stdout",
       "text": [
        "\n",
        "Found no ground truth directory in /home/feurerm/thesis/experiments/2014_05_16_MiniAutoSklearn_metadid_43_fold2/, skip this dataset\n",
        "/home/feurerm/thesis/experiments/2014_06_01_AutoSklearn_metalearning/did_44_fold0\n",
        "Found no ground truth directory in /home/feurerm/thesis/experiments/2014_05_16_MiniAutoSklearn_metadid_44_fold1/, skip this dataset"
       ]
      },
      {
       "output_type": "stream",
       "stream": "stdout",
       "text": [
        "\n",
        "Found no ground truth directory in /home/feurerm/thesis/experiments/2014_05_16_MiniAutoSklearn_metadid_44_fold2/, skip this dataset\n",
        "Skipping dataset /home/feurerm/thesis/datasets/openml/datasets/did45.xml\n",
        "Skipping dataset /home/feurerm/thesis/datasets/openml/datasets/did46.xml\n",
        "Skipping dataset /home/feurerm/thesis/datasets/openml/datasets/did47.xml\n",
        "/home/feurerm/thesis/experiments/2014_06_01_AutoSklearn_metalearning/did_48_fold0\n",
        "Found no ground truth directory in /home/feurerm/thesis/experiments/2014_05_16_MiniAutoSklearn_metadid_48_fold1/, skip this dataset"
       ]
      },
      {
       "output_type": "stream",
       "stream": "stdout",
       "text": [
        "\n",
        "Found no ground truth directory in /home/feurerm/thesis/experiments/2014_05_16_MiniAutoSklearn_metadid_48_fold2/, skip this dataset\n",
        "/home/feurerm/thesis/experiments/2014_06_01_AutoSklearn_metalearning/did_49_fold0\n",
        "Found no ground truth directory in /home/feurerm/thesis/experiments/2014_05_16_MiniAutoSklearn_metadid_49_fold1/, skip this dataset"
       ]
      },
      {
       "output_type": "stream",
       "stream": "stdout",
       "text": [
        "\n",
        "Found no ground truth directory in /home/feurerm/thesis/experiments/2014_05_16_MiniAutoSklearn_metadid_49_fold2/, skip this dataset\n",
        "/home/feurerm/thesis/experiments/2014_06_01_AutoSklearn_metalearning/did_5_fold0\n",
        "Found no ground truth directory in /home/feurerm/thesis/experiments/2014_05_16_MiniAutoSklearn_metadid_5_fold1/, skip this dataset"
       ]
      },
      {
       "output_type": "stream",
       "stream": "stdout",
       "text": [
        "\n",
        "Found no ground truth directory in /home/feurerm/thesis/experiments/2014_05_16_MiniAutoSklearn_metadid_5_fold2/, skip this dataset\n",
        "/home/feurerm/thesis/experiments/2014_06_01_AutoSklearn_metalearning/did_50_fold0\n",
        "Found no ground truth directory in /home/feurerm/thesis/experiments/2014_05_16_MiniAutoSklearn_metadid_50_fold1/, skip this dataset"
       ]
      },
      {
       "output_type": "stream",
       "stream": "stdout",
       "text": [
        "\n",
        "Found no ground truth directory in /home/feurerm/thesis/experiments/2014_05_16_MiniAutoSklearn_metadid_50_fold2/, skip this dataset\n",
        "/home/feurerm/thesis/experiments/2014_06_01_AutoSklearn_metalearning/did_51_fold0\n",
        "Found no ground truth directory in /home/feurerm/thesis/experiments/2014_05_16_MiniAutoSklearn_metadid_51_fold1/, skip this dataset"
       ]
      },
      {
       "output_type": "stream",
       "stream": "stdout",
       "text": [
        "\n",
        "Found no ground truth directory in /home/feurerm/thesis/experiments/2014_05_16_MiniAutoSklearn_metadid_51_fold2/, skip this dataset\n",
        "Skipping dataset /home/feurerm/thesis/datasets/openml/datasets/did52.xml\n",
        "/home/feurerm/thesis/experiments/2014_06_01_AutoSklearn_metalearning/did_53_fold0\n",
        "Found no ground truth directory in /home/feurerm/thesis/experiments/2014_05_16_MiniAutoSklearn_metadid_53_fold1/, skip this dataset"
       ]
      },
      {
       "output_type": "stream",
       "stream": "stdout",
       "text": [
        "\n",
        "Found no ground truth directory in /home/feurerm/thesis/experiments/2014_05_16_MiniAutoSklearn_metadid_53_fold2/, skip this dataset\n",
        "/home/feurerm/thesis/experiments/2014_06_01_AutoSklearn_metalearning/did_54_fold0\n",
        "Found no ground truth directory in /home/feurerm/thesis/experiments/2014_05_16_MiniAutoSklearn_metadid_54_fold1/, skip this dataset"
       ]
      },
      {
       "output_type": "stream",
       "stream": "stdout",
       "text": [
        "\n",
        "Found no ground truth directory in /home/feurerm/thesis/experiments/2014_05_16_MiniAutoSklearn_metadid_54_fold2/, skip this dataset\n",
        "/home/feurerm/thesis/experiments/2014_06_01_AutoSklearn_metalearning/did_55_fold0\n",
        "Found no ground truth directory in /home/feurerm/thesis/experiments/2014_05_16_MiniAutoSklearn_metadid_55_fold1/, skip this dataset"
       ]
      },
      {
       "output_type": "stream",
       "stream": "stdout",
       "text": [
        "\n",
        "Found no ground truth directory in /home/feurerm/thesis/experiments/2014_05_16_MiniAutoSklearn_metadid_55_fold2/, skip this dataset\n",
        "/home/feurerm/thesis/experiments/2014_06_01_AutoSklearn_metalearning/did_56_fold0\n",
        "Found no ground truth directory in /home/feurerm/thesis/experiments/2014_05_16_MiniAutoSklearn_metadid_56_fold1/, skip this dataset"
       ]
      },
      {
       "output_type": "stream",
       "stream": "stdout",
       "text": [
        "\n",
        "Found no ground truth directory in /home/feurerm/thesis/experiments/2014_05_16_MiniAutoSklearn_metadid_56_fold2/, skip this dataset\n",
        "/home/feurerm/thesis/experiments/2014_06_01_AutoSklearn_metalearning/did_58_fold0\n",
        "Found no ground truth directory in /home/feurerm/thesis/experiments/2014_05_16_MiniAutoSklearn_metadid_58_fold1/, skip this dataset"
       ]
      },
      {
       "output_type": "stream",
       "stream": "stdout",
       "text": [
        "\n",
        "Found no ground truth directory in /home/feurerm/thesis/experiments/2014_05_16_MiniAutoSklearn_metadid_58_fold2/, skip this dataset\n",
        "/home/feurerm/thesis/experiments/2014_06_01_AutoSklearn_metalearning/did_59_fold0\n",
        "Found no ground truth directory in /home/feurerm/thesis/experiments/2014_05_16_MiniAutoSklearn_metadid_59_fold1/, skip this dataset"
       ]
      },
      {
       "output_type": "stream",
       "stream": "stdout",
       "text": [
        "\n",
        "Found no ground truth directory in /home/feurerm/thesis/experiments/2014_05_16_MiniAutoSklearn_metadid_59_fold2/, skip this dataset\n",
        "/home/feurerm/thesis/experiments/2014_06_01_AutoSklearn_metalearning/did_6_fold0\n",
        "Found no ground truth directory in /home/feurerm/thesis/experiments/2014_05_16_MiniAutoSklearn_metadid_6_fold1/, skip this dataset"
       ]
      },
      {
       "output_type": "stream",
       "stream": "stdout",
       "text": [
        "\n",
        "Found no ground truth directory in /home/feurerm/thesis/experiments/2014_05_16_MiniAutoSklearn_metadid_6_fold2/, skip this dataset\n",
        "/home/feurerm/thesis/experiments/2014_06_01_AutoSklearn_metalearning/did_60_fold0\n",
        "Found no ground truth directory in /home/feurerm/thesis/experiments/2014_05_16_MiniAutoSklearn_metadid_60_fold1/, skip this dataset"
       ]
      },
      {
       "output_type": "stream",
       "stream": "stdout",
       "text": [
        "\n",
        "Found no ground truth directory in /home/feurerm/thesis/experiments/2014_05_16_MiniAutoSklearn_metadid_60_fold2/, skip this dataset\n",
        "/home/feurerm/thesis/experiments/2014_06_01_AutoSklearn_metalearning/did_61_fold0\n",
        "Found no ground truth directory in /home/feurerm/thesis/experiments/2014_05_16_MiniAutoSklearn_metadid_61_fold1/, skip this dataset"
       ]
      },
      {
       "output_type": "stream",
       "stream": "stdout",
       "text": [
        "\n",
        "Found no ground truth directory in /home/feurerm/thesis/experiments/2014_05_16_MiniAutoSklearn_metadid_61_fold2/, skip this dataset\n",
        "/home/feurerm/thesis/experiments/2014_06_01_AutoSklearn_metalearning/did_62_fold0\n",
        "Found no ground truth directory in /home/feurerm/thesis/experiments/2014_05_16_MiniAutoSklearn_metadid_62_fold1/, skip this dataset"
       ]
      },
      {
       "output_type": "stream",
       "stream": "stdout",
       "text": [
        "\n",
        "Found no ground truth directory in /home/feurerm/thesis/experiments/2014_05_16_MiniAutoSklearn_metadid_62_fold2/, skip this dataset\n",
        "/home/feurerm/thesis/experiments/2014_06_01_AutoSklearn_metalearning/did_7_fold0\n",
        "Found no ground truth directory in /home/feurerm/thesis/experiments/2014_05_16_MiniAutoSklearn_metadid_7_fold1/, skip this dataset"
       ]
      },
      {
       "output_type": "stream",
       "stream": "stdout",
       "text": [
        "\n",
        "Found no ground truth directory in /home/feurerm/thesis/experiments/2014_05_16_MiniAutoSklearn_metadid_7_fold2/, skip this dataset\n",
        "Skipping dataset /home/feurerm/thesis/datasets/openml/datasets/did70.xml\n",
        "Skipping dataset /home/feurerm/thesis/datasets/openml/datasets/did71.xml\n",
        "Skipping dataset /home/feurerm/thesis/datasets/openml/datasets/did72.xml\n",
        "Skipping dataset /home/feurerm/thesis/datasets/openml/datasets/did73.xml\n",
        "Skipping dataset /home/feurerm/thesis/datasets/openml/datasets/did74.xml\n",
        "Skipping dataset /home/feurerm/thesis/datasets/openml/datasets/did75.xml\n",
        "Skipping dataset /home/feurerm/thesis/datasets/openml/datasets/did76.xml\n",
        "Skipping dataset /home/feurerm/thesis/datasets/openml/datasets/did77.xml\n",
        "Skipping dataset /home/feurerm/thesis/datasets/openml/datasets/did78.xml\n",
        "/home/feurerm/thesis/experiments/2014_06_01_AutoSklearn_metalearning/did_8_fold0\n",
        "Found no ground truth directory in /home/feurerm/thesis/experiments/2014_05_16_MiniAutoSklearn_metadid_8_fold1/, skip this dataset"
       ]
      },
      {
       "output_type": "stream",
       "stream": "stdout",
       "text": [
        "\n",
        "Found no ground truth directory in /home/feurerm/thesis/experiments/2014_05_16_MiniAutoSklearn_metadid_8_fold2/, skip this dataset\n",
        "/home/feurerm/thesis/experiments/2014_06_01_AutoSklearn_metalearning/did_9_fold0\n",
        "Found no ground truth directory in /home/feurerm/thesis/experiments/2014_05_16_MiniAutoSklearn_metadid_9_fold1/, skip this dataset"
       ]
      },
      {
       "output_type": "stream",
       "stream": "stdout",
       "text": [
        "\n",
        "Found no ground truth directory in /home/feurerm/thesis/experiments/2014_05_16_MiniAutoSklearn_metadid_9_fold2/, skip this dataset\n"
       ]
      }
     ],
     "prompt_number": 18
    },
    {
     "cell_type": "code",
     "collapsed": false,
     "input": [
      "################################################################################\n",
      "# Write the actual SGE files\n",
      "test_commands = []\n",
      "\n",
      "\n",
      "smbo_on_grid_file = os.path.join(experiments_directory,\n",
      "                                 \"smbo_on_grid_testfold%d.txt\")\n",
      "for fold in range(3):\n",
      "    commands[fold].sort()\n",
      "    with open(smbo_on_grid_file % fold, \"a\") as fh:\n",
      "        for command in commands[fold]:\n",
      "            fh.write(command)\n",
      "\n",
      "# Add one command per optimizer to the test commands\n",
      "step_size = len(commands[0]) / (len(optimizers) - 2)\n",
      "command_indices = [i * step_size for i in range((len(optimizers) - 2))]\n",
      "for command_idx in command_indices:\n",
      "    test_commands.append(commands[0][command_idx])"
     ],
     "language": "python",
     "metadata": {},
     "outputs": [],
     "prompt_number": 19
    },
    {
     "cell_type": "code",
     "collapsed": false,
     "input": [
      "instantiations = {\"all\": \"--METALEARNING:metafeatures_subset all\",\n",
      "                  \"pfahringer_2000_experiment1\": \"--METALEARNING:metafeatures_subset pfahringer_2000_experiment1\",\n",
      "                  # \"pfahringer_2\": \"--METALEARNING:metafeatures_subset pfahringer_2000_experiment2\",\n",
      "                  \"yogotama_2014\": \"--METALEARNING:metafeatures_subset yogotama_2014\",\n",
      "                  \"bardenet_2013_boost\": \"--METALEARNING:metafeatures_subset bardenet_2013_boost\",\n",
      "                  \"bardenet_2013_nn\": \"--METALEARNING:metafeatures_subset bardenet_2013_nn\",}\n",
      "distance_measures = [\"l1\", \"l2\", \"learned_distance\"]"
     ],
     "language": "python",
     "metadata": {},
     "outputs": [],
     "prompt_number": 20
    },
    {
     "cell_type": "code",
     "collapsed": false,
     "input": [
      "for fold in range(3):\n",
      "    metalearning_commands[fold].sort()\n",
      "    for instance in instantiations:\n",
      "        for measure in distance_measures:\n",
      "            metal_on_grid_file = os.path.join(experiments_directory,\n",
      "                \"metal_on_grid_%s-distance_%s-features_testfold%d.txt\" %\n",
      "                    (measure, instance, fold))\n",
      "            with open(metal_on_grid_file, \"a\") as fh:\n",
      "                for command in metalearning_commands[fold]:\n",
      "                    command = \"%s --METALEARNING:distance_measure %s  \" \\\n",
      "                             \"--METALEARNING:metafeatures_subset %s \" \\\n",
      "                             \"--HPOLIB:experiment_directory_prefix \" \\\n",
      "                             \"%s_%s\\n\" % \\\n",
      "                             (command, measure, instance, measure, instance)\n",
      "                    fh.write(command)\n",
      "                test_commands.append(command)"
     ],
     "language": "python",
     "metadata": {},
     "outputs": [],
     "prompt_number": 21
    },
    {
     "cell_type": "code",
     "collapsed": false,
     "input": [
      "bootstrap_samples = (2, 5, 10)\n",
      "for fold in range(3):\n",
      "    bootstrap_commands[fold].sort()\n",
      "    for instance in instantiations:\n",
      "        for measure in distance_measures:\n",
      "            for samples in bootstrap_samples:\n",
      "                bootstrap_on_grid_file = os.path.join(experiments_directory,\n",
      "                    \"bootstrap_%dsamples_%s-dist_%s-metafeatures_testfold%d.txt\" %\n",
      "                    (samples, measure, instance, fold))\n",
      "                with open(bootstrap_on_grid_file, \"a\") as fh:\n",
      "                    for command in bootstrap_commands[fold]:\n",
      "                        command = \"%s --METALEARNING:metafeatures_subset %s \" \\\n",
      "                                 \"--METALEARNING:distance_measure %s \" \\\n",
      "                                 \"--METALEARNING:num_bootstrap_examples %d \" \\\n",
      "                                 \"--HPOLIB:experiment_directory_prefix \" \\\n",
      "                                 \"bootstrapped%d_%s_%s\\n\"\\\n",
      "                                 % (command, instance, measure, samples,\n",
      "                                    samples, measure, instance)\n",
      "                        fh.write(command)\n",
      "                    test_commands.append(command)"
     ],
     "language": "python",
     "metadata": {},
     "outputs": [],
     "prompt_number": 22
    },
    {
     "cell_type": "code",
     "collapsed": false,
     "input": [
      "# Also write a file with test commands - one command per kind of configuration\n",
      "test_commands_file = os.path.join(experiments_directory, \"test_commands.txt\")\n",
      "if not os.path.exists(test_commands_file):\n",
      "    with open(test_commands_file, \"w\") as fh:\n",
      "        for command in test_commands:\n",
      "            fh.write(command)\n",
      "\n",
      "with open(os.path.join(experiments_directory, \"init_experiment.sh\"), \"w\") as fh:\n",
      "    fh.write(\"\"\"source /home/feurerm/.bashrc\n",
      "\n",
      "if [ -d \"/tmp/${JOB_ID}.${SGE_TASK_ID}.aad_core.q/\" ]; then \n",
      "  queue=\"aad_core.q\"\n",
      "else\n",
      "  queue=\"meta_core.q\"\n",
      "fi\n",
      "\n",
      "cp /home/feurerm/thesis/datasets/openml.tar.gz /tmp/${JOB_ID}.${SGE_TASK_ID}.${queue}/\n",
      "tar -xf /tmp/${JOB_ID}.${SGE_TASK_ID}.${queue}/openml.tar.gz --directory=/tmp/${JOB_ID}.${SGE_TASK_ID}.${queue}/\n",
      "\n",
      "virtualenv /tmp/${JOB_ID}.${SGE_TASK_ID}.${queue}/virtualenv/\n",
      "source /tmp/${JOB_ID}.${SGE_TASK_ID}.${queue}/virtualenv/bin/activate\n",
      "\n",
      "ln -s /usr/lib/python2.7/dist-packages/numpy /tmp/${JOB_ID}.${SGE_TASK_ID}.${queue}/virtualenv/lib/python2.7/site-packages/numpy\n",
      "ln -s /usr/lib/python2.7/dist-packages/numpy-1.8.1.egg-info /tmp/${JOB_ID}.${SGE_TASK_ID}.${queue}/virtualenv/lib/python2.7/site-packages/numpy-1.8.1.egg-info\n",
      "ln -s /usr/lib/python2.7/dist-packages/scipy /tmp/${JOB_ID}.${SGE_TASK_ID}.${queue}/virtualenv/lib/python2.7/site-packages/scipy\n",
      "ln -s /usr/lib/python2.7/dist-packages/scipy-0.13.3.egg-info /tmp/${JOB_ID}.${SGE_TASK_ID}.${queue}/virtualenv/lib/python2.7/site-packages/scipy-0.13.3.egg-info\n",
      "ln -s /usr/lib/pyshared/python2.7/matplotlib/matplotlib /tmp/${JOB_ID}.${SGE_TASK_ID}.${queue}/virtualenv/lib/python2.7/site-packages/matplotlib\n",
      "ln -s /usr/lib/pymodules/python2.7/matplotlib-1.3.1.egg-info /tmp/${JOB_ID}.${SGE_TASK_ID}.${queue}/virtualenv/lib/python2.7/site-packages/matplotlib-1.3.1.egg-info\n",
      "\n",
      "export PYTHONPATH=$PYTHONPATH:/home/feurerm/thesis/Software\n",
      "export PYTHONPATH=$PYTHONPATH:/home/feurerm/thesis/Software/AutoSklearn\n",
      "export PATH=$PATH:/home/feurerm/HPOlib/Software/bin_cluster\n",
      "\n",
      "requirements=\"/home/feurerm/thesis/experiments/2014_05_16_MiniAutoSklearn_meta/requirements.txt\"\n",
      "for req in `cat $requirements`\n",
      "do\n",
      "  pip install $req --no-index -f \"/home/feurerm/Software/installation_files/python_packages4HPOlib/\"\n",
      "done\n",
      "\n",
      "line=`echo ${line} | sed -e 's/${JOB_ID}/'${JOB_ID}'/g'`\n",
      "line=`echo ${line} | sed -e 's/${SGE_TASK_ID}/'${SGE_TASK_ID}'/g'`\n",
      "line=`echo ${line} | sed -e 's/${queue}/'${queue}'/g'`\n",
      "\n",
      "echo \"Runsolver: \"`which runsolver`\"\"\")"
     ],
     "language": "python",
     "metadata": {},
     "outputs": [],
     "prompt_number": 23
    },
    {
     "cell_type": "code",
     "collapsed": false,
     "input": [
      "########################################################################\n",
      "# Write the datasets and experiments file...\n",
      "with open(os.path.join(experiments_directory, \"datasets.txt\"),\n",
      "          \"w\") as fh:\n",
      "    for ds in used_datasets:\n",
      "        fh.write(\"OPENML:%d\\n\" % ds)\n",
      "\n",
      "for fold in range(3):\n",
      "    with open(os.path.join(experiments_directory, \"experiments_fold%d.txt\" % fold),\n",
      "              \"w\") as fh:\n",
      "        for ds in used_datasets:\n",
      "            # Find the ground truth\n",
      "            glob_string = os.path.join(ground_truth_dir,\n",
      "                                       \"did_%d_fold%s\" % (ds, fold),\n",
      "                                       \"sequential_optimization_*_\")\n",
      "            glob_results = glob.glob(glob_string)\n",
      "            if len(glob_results) > 1:\n",
      "                raise Exception(\"There must be only one sequential search directory for \"\n",
      "                                \"dataset %s and fold %d: %s\" % (ds, fold,\n",
      "                                                                str(glob_results)))\n",
      "            elif len(glob_results) == 0:\n",
      "                print \"Found no ground truth for %s, skip this dataset\" % glob_string\n",
      "                continue\n",
      "            exp_pkl = os.path.join(glob_results[0], \"sequential.pkl\")\n",
      "            fh.write(\"%s\\n\" % exp_pkl)"
     ],
     "language": "python",
     "metadata": {},
     "outputs": [
      {
       "output_type": "stream",
       "stream": "stdout",
       "text": [
        "Found no ground truth for /home/feurerm/thesis/experiments/2014_05_16_MiniAutoSklearn_meta/did_2_fold1/sequential_optimization_*_, skip this dataset\n",
        "Found no ground truth for /home/feurerm/thesis/experiments/2014_05_16_MiniAutoSklearn_meta/did_3_fold1/sequential_optimization_*_, skip this dataset\n",
        "Found no ground truth for /home/feurerm/thesis/experiments/2014_05_16_MiniAutoSklearn_meta/did_4_fold1/sequential_optimization_*_, skip this dataset\n",
        "Found no ground truth for /home/feurerm/thesis/experiments/2014_05_16_MiniAutoSklearn_meta/did_5_fold1/sequential_optimization_*_, skip this dataset\n",
        "Found no ground truth for /home/feurerm/thesis/experiments/2014_05_16_MiniAutoSklearn_meta/did_6_fold1/sequential_optimization_*_, skip this dataset\n",
        "Found no ground truth for /home/feurerm/thesis/experiments/2014_05_16_MiniAutoSklearn_meta/did_7_fold1/sequential_optimization_*_, skip this dataset\n",
        "Found no ground truth for /home/feurerm/thesis/experiments/2014_05_16_MiniAutoSklearn_meta/did_8_fold1/sequential_optimization_*_, skip this dataset\n",
        "Found no ground truth for /home/feurerm/thesis/experiments/2014_05_16_MiniAutoSklearn_meta/did_9_fold1/sequential_optimization_*_, skip this dataset\n",
        "Found no ground truth for /home/feurerm/thesis/experiments/2014_05_16_MiniAutoSklearn_meta/did_10_fold1/sequential_optimization_*_, skip this dataset\n",
        "Found no ground truth for /home/feurerm/thesis/experiments/2014_05_16_MiniAutoSklearn_meta/did_11_fold1/sequential_optimization_*_, skip this dataset\n",
        "Found no ground truth for /home/feurerm/thesis/experiments/2014_05_16_MiniAutoSklearn_meta/did_12_fold1/sequential_optimization_*_, skip this dataset\n",
        "Found no ground truth for /home/feurerm/thesis/experiments/2014_05_16_MiniAutoSklearn_meta/did_13_fold1/sequential_optimization_*_, skip this dataset\n",
        "Found no ground truth for /home/feurerm/thesis/experiments/2014_05_16_MiniAutoSklearn_meta/did_14_fold1/sequential_optimization_*_, skip this dataset\n",
        "Found no ground truth for /home/feurerm/thesis/experiments/2014_05_16_MiniAutoSklearn_meta/did_15_fold1/sequential_optimization_*_, skip this dataset\n",
        "Found no ground truth for /home/feurerm/thesis/experiments/2014_05_16_MiniAutoSklearn_meta/did_16_fold1/sequential_optimization_*_, skip this dataset\n",
        "Found no ground truth for /home/feurerm/thesis/experiments/2014_05_16_MiniAutoSklearn_meta/did_43_fold1/sequential_optimization_*_, skip this dataset\n",
        "Found no ground truth for /home/feurerm/thesis/experiments/2014_05_16_MiniAutoSklearn_meta/did_18_fold1/sequential_optimization_*_, skip this dataset\n",
        "Found no ground truth for /home/feurerm/thesis/experiments/2014_05_16_MiniAutoSklearn_meta/did_20_fold1/sequential_optimization_*_, skip this dataset\n",
        "Found no ground truth for /home/feurerm/thesis/experiments/2014_05_16_MiniAutoSklearn_meta/did_21_fold1/sequential_optimization_*_, skip this dataset\n",
        "Found no ground truth for /home/feurerm/thesis/experiments/2014_05_16_MiniAutoSklearn_meta/did_22_fold1/sequential_optimization_*_, skip this dataset\n",
        "Found no ground truth for /home/feurerm/thesis/experiments/2014_05_16_MiniAutoSklearn_meta/did_23_fold1/sequential_optimization_*_, skip this dataset\n",
        "Found no ground truth for /home/feurerm/thesis/experiments/2014_05_16_MiniAutoSklearn_meta/did_24_fold1/sequential_optimization_*_, skip this dataset\n",
        "Found no ground truth for /home/feurerm/thesis/experiments/2014_05_16_MiniAutoSklearn_meta/did_26_fold1/sequential_optimization_*_, skip this dataset\n",
        "Found no ground truth for /home/feurerm/thesis/experiments/2014_05_16_MiniAutoSklearn_meta/did_28_fold1/sequential_optimization_*_, skip this dataset\n",
        "Found no ground truth for /home/feurerm/thesis/experiments/2014_05_16_MiniAutoSklearn_meta/did_29_fold1/sequential_optimization_*_, skip this dataset\n",
        "Found no ground truth for /home/feurerm/thesis/experiments/2014_05_16_MiniAutoSklearn_meta/did_30_fold1/sequential_optimization_*_, skip this dataset\n",
        "Found no ground truth for /home/feurerm/thesis/experiments/2014_05_16_MiniAutoSklearn_meta/did_31_fold1/sequential_optimization_*_, skip this dataset\n",
        "Found no ground truth for /home/feurerm/thesis/experiments/2014_05_16_MiniAutoSklearn_meta/did_32_fold1/sequential_optimization_*_, skip this dataset\n",
        "Found no ground truth for /home/feurerm/thesis/experiments/2014_05_16_MiniAutoSklearn_meta/did_33_fold1/sequential_optimization_*_, skip this dataset\n",
        "Found no ground truth for /home/feurerm/thesis/experiments/2014_05_16_MiniAutoSklearn_meta/did_34_fold1/sequential_optimization_*_, skip this dataset\n",
        "Found no ground truth for /home/feurerm/thesis/experiments/2014_05_16_MiniAutoSklearn_meta/did_35_fold1/sequential_optimization_*_, skip this dataset\n",
        "Found no ground truth for /home/feurerm/thesis/experiments/2014_05_16_MiniAutoSklearn_meta/did_36_fold1/sequential_optimization_*_, skip this dataset\n",
        "Found no ground truth for /home/feurerm/thesis/experiments/2014_05_16_MiniAutoSklearn_meta/did_37_fold1/sequential_optimization_*_, skip this dataset\n",
        "Found no ground truth for /home/feurerm/thesis/experiments/2014_05_16_MiniAutoSklearn_meta/did_39_fold1/sequential_optimization_*_, skip this dataset\n",
        "Found no ground truth for /home/feurerm/thesis/experiments/2014_05_16_MiniAutoSklearn_meta/did_40_fold1/sequential_optimization_*_, skip this dataset\n",
        "Found no ground truth for /home/feurerm/thesis/experiments/2014_05_16_MiniAutoSklearn_meta/did_41_fold1/sequential_optimization_*_, skip this dataset\n",
        "Found no ground truth for /home/feurerm/thesis/experiments/2014_05_16_MiniAutoSklearn_meta/did_42_fold1/sequential_optimization_*_, skip this dataset\n",
        "Found no ground truth for /home/feurerm/thesis/experiments/2014_05_16_MiniAutoSklearn_meta/did_171_fold1/sequential_optimization_*_, skip this dataset\n",
        "Found no ground truth for /home/feurerm/thesis/experiments/2014_05_16_MiniAutoSklearn_meta/did_44_fold1/sequential_optimization_*_, skip this dataset\n",
        "Found no ground truth for /home/feurerm/thesis/experiments/2014_05_16_MiniAutoSklearn_meta/did_48_fold1/sequential_optimization_*_, skip this dataset\n",
        "Found no ground truth for /home/feurerm/thesis/experiments/2014_05_16_MiniAutoSklearn_meta/did_49_fold1/sequential_optimization_*_, skip this dataset\n",
        "Found no ground truth for /home/feurerm/thesis/experiments/2014_05_16_MiniAutoSklearn_meta/did_50_fold1/sequential_optimization_*_, skip this dataset\n",
        "Found no ground truth for /home/feurerm/thesis/experiments/2014_05_16_MiniAutoSklearn_meta/did_51_fold1/sequential_optimization_*_, skip this dataset\n",
        "Found no ground truth for /home/feurerm/thesis/experiments/2014_05_16_MiniAutoSklearn_meta/did_181_fold1/sequential_optimization_*_, skip this dataset\n",
        "Found no ground truth for /home/feurerm/thesis/experiments/2014_05_16_MiniAutoSklearn_meta/did_182_fold1/sequential_optimization_*_, skip this dataset\n",
        "Found no ground truth for /home/feurerm/thesis/experiments/2014_05_16_MiniAutoSklearn_meta/did_183_fold1/sequential_optimization_*_, skip this dataset\n",
        "Found no ground truth for /home/feurerm/thesis/experiments/2014_05_16_MiniAutoSklearn_meta/did_56_fold1/sequential_optimization_*_, skip this dataset\n",
        "Found no ground truth for /home/feurerm/thesis/experiments/2014_05_16_MiniAutoSklearn_meta/did_186_fold1/sequential_optimization_*_, skip this dataset\n",
        "Found no ground truth for /home/feurerm/thesis/experiments/2014_05_16_MiniAutoSklearn_meta/did_59_fold1/sequential_optimization_*_, skip this dataset\n",
        "Found no ground truth for /home/feurerm/thesis/experiments/2014_05_16_MiniAutoSklearn_meta/did_188_fold1/sequential_optimization_*_, skip this dataset\n",
        "Found no ground truth for /home/feurerm/thesis/experiments/2014_05_16_MiniAutoSklearn_meta/did_61_fold1/sequential_optimization_*_, skip this dataset\n",
        "Found no ground truth for /home/feurerm/thesis/experiments/2014_05_16_MiniAutoSklearn_meta/did_62_fold1/sequential_optimization_*_, skip this dataset\n",
        "Found no ground truth for /home/feurerm/thesis/experiments/2014_05_16_MiniAutoSklearn_meta/did_53_fold1/sequential_optimization_*_, skip this dataset\n",
        "Found no ground truth for /home/feurerm/thesis/experiments/2014_05_16_MiniAutoSklearn_meta/did_54_fold1/sequential_optimization_*_, skip this dataset\n",
        "Found no ground truth for /home/feurerm/thesis/experiments/2014_05_16_MiniAutoSklearn_meta/did_55_fold1/sequential_optimization_*_, skip this dataset\n",
        "Found no ground truth for /home/feurerm/thesis/experiments/2014_05_16_MiniAutoSklearn_meta/did_58_fold1/sequential_optimization_*_, skip this dataset\n",
        "Found no ground truth for /home/feurerm/thesis/experiments/2014_05_16_MiniAutoSklearn_meta/did_60_fold1/sequential_optimization_*_, skip this dataset\n",
        "Found no ground truth for /home/feurerm/thesis/experiments/2014_05_16_MiniAutoSklearn_meta/did_2_fold2/sequential_optimization_*_, skip this dataset\n",
        "Found no ground truth for /home/feurerm/thesis/experiments/2014_05_16_MiniAutoSklearn_meta/did_3_fold2/sequential_optimization_*_, skip this dataset\n",
        "Found no ground truth for /home/feurerm/thesis/experiments/2014_05_16_MiniAutoSklearn_meta/did_4_fold2/sequential_optimization_*_, skip this dataset\n",
        "Found no ground truth for /home/feurerm/thesis/experiments/2014_05_16_MiniAutoSklearn_meta/did_5_fold2/sequential_optimization_*_, skip this dataset\n",
        "Found no ground truth for /home/feurerm/thesis/experiments/2014_05_16_MiniAutoSklearn_meta/did_6_fold2/sequential_optimization_*_, skip this dataset\n",
        "Found no ground truth for /home/feurerm/thesis/experiments/2014_05_16_MiniAutoSklearn_meta/did_7_fold2/sequential_optimization_*_, skip this dataset\n",
        "Found no ground truth for /home/feurerm/thesis/experiments/2014_05_16_MiniAutoSklearn_meta/did_8_fold2/sequential_optimization_*_, skip this dataset\n",
        "Found no ground truth for /home/feurerm/thesis/experiments/2014_05_16_MiniAutoSklearn_meta/did_9_fold2/sequential_optimization_*_, skip this dataset\n",
        "Found no ground truth for /home/feurerm/thesis/experiments/2014_05_16_MiniAutoSklearn_meta/did_10_fold2/sequential_optimization_*_, skip this dataset\n",
        "Found no ground truth for /home/feurerm/thesis/experiments/2014_05_16_MiniAutoSklearn_meta/did_11_fold2/sequential_optimization_*_, skip this dataset\n",
        "Found no ground truth for /home/feurerm/thesis/experiments/2014_05_16_MiniAutoSklearn_meta/did_12_fold2/sequential_optimization_*_, skip this dataset"
       ]
      },
      {
       "output_type": "stream",
       "stream": "stdout",
       "text": [
        "\n",
        "Found no ground truth for /home/feurerm/thesis/experiments/2014_05_16_MiniAutoSklearn_meta/did_13_fold2/sequential_optimization_*_, skip this dataset\n",
        "Found no ground truth for /home/feurerm/thesis/experiments/2014_05_16_MiniAutoSklearn_meta/did_14_fold2/sequential_optimization_*_, skip this dataset\n",
        "Found no ground truth for /home/feurerm/thesis/experiments/2014_05_16_MiniAutoSklearn_meta/did_15_fold2/sequential_optimization_*_, skip this dataset\n",
        "Found no ground truth for /home/feurerm/thesis/experiments/2014_05_16_MiniAutoSklearn_meta/did_16_fold2/sequential_optimization_*_, skip this dataset\n",
        "Found no ground truth for /home/feurerm/thesis/experiments/2014_05_16_MiniAutoSklearn_meta/did_43_fold2/sequential_optimization_*_, skip this dataset\n",
        "Found no ground truth for /home/feurerm/thesis/experiments/2014_05_16_MiniAutoSklearn_meta/did_18_fold2/sequential_optimization_*_, skip this dataset\n",
        "Found no ground truth for /home/feurerm/thesis/experiments/2014_05_16_MiniAutoSklearn_meta/did_20_fold2/sequential_optimization_*_, skip this dataset\n",
        "Found no ground truth for /home/feurerm/thesis/experiments/2014_05_16_MiniAutoSklearn_meta/did_21_fold2/sequential_optimization_*_, skip this dataset\n",
        "Found no ground truth for /home/feurerm/thesis/experiments/2014_05_16_MiniAutoSklearn_meta/did_22_fold2/sequential_optimization_*_, skip this dataset\n",
        "Found no ground truth for /home/feurerm/thesis/experiments/2014_05_16_MiniAutoSklearn_meta/did_23_fold2/sequential_optimization_*_, skip this dataset\n",
        "Found no ground truth for /home/feurerm/thesis/experiments/2014_05_16_MiniAutoSklearn_meta/did_24_fold2/sequential_optimization_*_, skip this dataset\n",
        "Found no ground truth for /home/feurerm/thesis/experiments/2014_05_16_MiniAutoSklearn_meta/did_26_fold2/sequential_optimization_*_, skip this dataset\n",
        "Found no ground truth for /home/feurerm/thesis/experiments/2014_05_16_MiniAutoSklearn_meta/did_28_fold2/sequential_optimization_*_, skip this dataset\n",
        "Found no ground truth for /home/feurerm/thesis/experiments/2014_05_16_MiniAutoSklearn_meta/did_29_fold2/sequential_optimization_*_, skip this dataset\n",
        "Found no ground truth for /home/feurerm/thesis/experiments/2014_05_16_MiniAutoSklearn_meta/did_30_fold2/sequential_optimization_*_, skip this dataset\n",
        "Found no ground truth for /home/feurerm/thesis/experiments/2014_05_16_MiniAutoSklearn_meta/did_31_fold2/sequential_optimization_*_, skip this dataset\n",
        "Found no ground truth for /home/feurerm/thesis/experiments/2014_05_16_MiniAutoSklearn_meta/did_32_fold2/sequential_optimization_*_, skip this dataset\n",
        "Found no ground truth for /home/feurerm/thesis/experiments/2014_05_16_MiniAutoSklearn_meta/did_33_fold2/sequential_optimization_*_, skip this dataset\n",
        "Found no ground truth for /home/feurerm/thesis/experiments/2014_05_16_MiniAutoSklearn_meta/did_34_fold2/sequential_optimization_*_, skip this dataset\n",
        "Found no ground truth for /home/feurerm/thesis/experiments/2014_05_16_MiniAutoSklearn_meta/did_35_fold2/sequential_optimization_*_, skip this dataset\n",
        "Found no ground truth for /home/feurerm/thesis/experiments/2014_05_16_MiniAutoSklearn_meta/did_36_fold2/sequential_optimization_*_, skip this dataset\n",
        "Found no ground truth for /home/feurerm/thesis/experiments/2014_05_16_MiniAutoSklearn_meta/did_37_fold2/sequential_optimization_*_, skip this dataset\n",
        "Found no ground truth for /home/feurerm/thesis/experiments/2014_05_16_MiniAutoSklearn_meta/did_39_fold2/sequential_optimization_*_, skip this dataset\n",
        "Found no ground truth for /home/feurerm/thesis/experiments/2014_05_16_MiniAutoSklearn_meta/did_40_fold2/sequential_optimization_*_, skip this dataset\n",
        "Found no ground truth for /home/feurerm/thesis/experiments/2014_05_16_MiniAutoSklearn_meta/did_41_fold2/sequential_optimization_*_, skip this dataset\n",
        "Found no ground truth for /home/feurerm/thesis/experiments/2014_05_16_MiniAutoSklearn_meta/did_42_fold2/sequential_optimization_*_, skip this dataset\n",
        "Found no ground truth for /home/feurerm/thesis/experiments/2014_05_16_MiniAutoSklearn_meta/did_171_fold2/sequential_optimization_*_, skip this dataset\n",
        "Found no ground truth for /home/feurerm/thesis/experiments/2014_05_16_MiniAutoSklearn_meta/did_44_fold2/sequential_optimization_*_, skip this dataset\n",
        "Found no ground truth for /home/feurerm/thesis/experiments/2014_05_16_MiniAutoSklearn_meta/did_48_fold2/sequential_optimization_*_, skip this dataset\n",
        "Found no ground truth for /home/feurerm/thesis/experiments/2014_05_16_MiniAutoSklearn_meta/did_49_fold2/sequential_optimization_*_, skip this dataset\n",
        "Found no ground truth for /home/feurerm/thesis/experiments/2014_05_16_MiniAutoSklearn_meta/did_50_fold2/sequential_optimization_*_, skip this dataset\n",
        "Found no ground truth for /home/feurerm/thesis/experiments/2014_05_16_MiniAutoSklearn_meta/did_51_fold2/sequential_optimization_*_, skip this dataset\n",
        "Found no ground truth for /home/feurerm/thesis/experiments/2014_05_16_MiniAutoSklearn_meta/did_181_fold2/sequential_optimization_*_, skip this dataset\n",
        "Found no ground truth for /home/feurerm/thesis/experiments/2014_05_16_MiniAutoSklearn_meta/did_182_fold2/sequential_optimization_*_, skip this dataset\n",
        "Found no ground truth for /home/feurerm/thesis/experiments/2014_05_16_MiniAutoSklearn_meta/did_183_fold2/sequential_optimization_*_, skip this dataset\n",
        "Found no ground truth for /home/feurerm/thesis/experiments/2014_05_16_MiniAutoSklearn_meta/did_56_fold2/sequential_optimization_*_, skip this dataset\n",
        "Found no ground truth for /home/feurerm/thesis/experiments/2014_05_16_MiniAutoSklearn_meta/did_186_fold2/sequential_optimization_*_, skip this dataset\n",
        "Found no ground truth for /home/feurerm/thesis/experiments/2014_05_16_MiniAutoSklearn_meta/did_59_fold2/sequential_optimization_*_, skip this dataset\n",
        "Found no ground truth for /home/feurerm/thesis/experiments/2014_05_16_MiniAutoSklearn_meta/did_188_fold2/sequential_optimization_*_, skip this dataset\n",
        "Found no ground truth for /home/feurerm/thesis/experiments/2014_05_16_MiniAutoSklearn_meta/did_61_fold2/sequential_optimization_*_, skip this dataset\n",
        "Found no ground truth for /home/feurerm/thesis/experiments/2014_05_16_MiniAutoSklearn_meta/did_62_fold2/sequential_optimization_*_, skip this dataset\n",
        "Found no ground truth for /home/feurerm/thesis/experiments/2014_05_16_MiniAutoSklearn_meta/did_53_fold2/sequential_optimization_*_, skip this dataset\n",
        "Found no ground truth for /home/feurerm/thesis/experiments/2014_05_16_MiniAutoSklearn_meta/did_54_fold2/sequential_optimization_*_, skip this dataset\n",
        "Found no ground truth for /home/feurerm/thesis/experiments/2014_05_16_MiniAutoSklearn_meta/did_55_fold2/sequential_optimization_*_, skip this dataset\n",
        "Found no ground truth for /home/feurerm/thesis/experiments/2014_05_16_MiniAutoSklearn_meta/did_58_fold2/sequential_optimization_*_, skip this dataset\n",
        "Found no ground truth for /home/feurerm/thesis/experiments/2014_05_16_MiniAutoSklearn_meta/did_60_fold2/sequential_optimization_*_, skip this dataset\n"
       ]
      }
     ],
     "prompt_number": 24
    },
    {
     "cell_type": "code",
     "collapsed": false,
     "input": [],
     "language": "python",
     "metadata": {},
     "outputs": [],
     "prompt_number": 24
    },
    {
     "cell_type": "code",
     "collapsed": false,
     "input": [],
     "language": "python",
     "metadata": {},
     "outputs": []
    }
   ],
   "metadata": {}
  }
 ]
}