{
 "metadata": {
  "name": "",
  "signature": "sha256:b08f111e46dfafeb5760dd9c965c2d3b1a21cde081ab7fd0ca0058265d78143e"
 },
 "nbformat": 3,
 "nbformat_minor": 0,
 "worksheets": [
  {
   "cells": [
    {
     "cell_type": "code",
     "collapsed": false,
     "input": [
      "from argparse import ArgumentParser\n",
      "from collections import OrderedDict\n",
      "import cPickle\n",
      "import glob\n",
      "import itertools\n",
      "import numpy as np\n",
      "import os\n",
      "import re\n",
      "import scipy.stats\n",
      "import sys\n",
      "                                                                                                                                                                                                                                                                                                                                            \n",
      "%matplotlib inline\n",
      "from matplotlib import pyplot as plt\n",
      "from matplotlib import rc\n",
      "rc('text', usetex=True)\n",
      "\n",
      "import HPOlib.Plotting.plot_util as plot_util\n",
      "import HPOlib.Plotting.generateTexTable as generate_tex_table\n",
      "import HPOlib.Plotting.plotTraceWithStd_perEval as plotTraceWithStd_perEval\n",
      "import HPOlib.Plotting.statistics as statistics\n",
      "\n",
      "import pyMetaLearn.openml.manage_openml_data\n",
      "import pyMetaLearn.metafeatures.metafeatures as mf_module\n",
      "from pyMetaLearn.openml.openml_task import OpenMLTask\n",
      "import pyMetaLearn.workflows.plot_utils as meta_plot_util"
     ],
     "language": "python",
     "metadata": {},
     "outputs": [],
     "prompt_number": 1
    },
    {
     "cell_type": "code",
     "collapsed": false,
     "input": [
      "ground_truth_dir = \"/home/feurerm/thesis/experiments/2014_04_17_gather_new_metadata_from_openml/\"\n",
      "experiments_directory = \"/home/feurerm/thesis/experiments/2014_04_23_simple_metalearning/\"\n",
      "plot_dir = os.path.join(experiments_directory, \"plots\")\n",
      "pyMetaLearn.openml.manage_openml_data.set_local_directory(\n",
      "    \"/home/feurerm/thesis/datasets/openml/\")\n",
      "local_directory = pyMetaLearn.openml.manage_openml_data.get_local_directory()\n",
      "openml_dataset_dir = os.path.join(local_directory, \"datasets\")\n",
      "    \n",
      "num_folds = 3\n",
      "try:\n",
      "    os.mkdir(plot_dir)\n",
      "except:\n",
      "    pass"
     ],
     "language": "python",
     "metadata": {},
     "outputs": [],
     "prompt_number": 2
    },
    {
     "cell_type": "code",
     "collapsed": false,
     "input": [
      "dataset_list = glob.glob(os.path.join(openml_dataset_dir, \"did*.xml\"))\n",
      "datasets = []\n",
      "dataset_names = []\n",
      "for dataset_filename in dataset_list:\n",
      "    did = os.path.split(dataset_filename)[1]\n",
      "    did = int(did.replace(\"did\", \"\").replace(\".xml\", \"\"))\n",
      "\n",
      "    task_file = os.path.join(pyMetaLearn\n",
      "                .openml.manage_openml_data.get_local_directory(),\n",
      "                \"custom_tasks\", \"did_%d.pkl\" % did)\n",
      "    if not os.path.exists(task_file):\n",
      "        # print \"Skipping dataset %s\" % dataset_filename\n",
      "        continue\n",
      "        \n",
      "    with open(task_file) as fh:\n",
      "        task_dict = cPickle.load(fh)\n",
      "        \n",
      "    dataset = pyMetaLearn.openml.manage_openml_data.get_local_dataset(task_dict['data_set_id'])\n",
      "    dataset_names.append(dataset._name)\n",
      "    \n",
      "    datasets.append(did)\n",
      "datasets = datasets\n",
      "datasets.sort()\n",
      "\n",
      "print datasets, len(datasets)\n",
      "print dataset_names"
     ],
     "language": "python",
     "metadata": {},
     "outputs": [
      {
       "output_type": "stream",
       "stream": "stdout",
       "text": [
        "[2, 3, 4, 5, 6, 7, 8, 9, 10, 11, 12, 13, 14, 15, 16, 18, 20, 21, 22, 23, 24, 26, 28, 29, 30, 31, 32, 33, 34, 35, 36, 37, 39, 40, 41, 42, 43, 44, 48, 49, 50, 51, 53, 54, 55, 56, 58, 59, 60, 61, 62, 171, 181, 182, 183, 186, 188] 57\n",
        "[u'vehicle', u'anneal.ORIG', u'segment', u'pendigits', u'mushroom', u'labor', u'abalone', u'diabetes', u'car', u'autos', u'mfeat-fourier', u'primary-tumor', u'waveform-5000', u'credit-a', u'letter', u'postoperative-patient-data', u'vowel', u'eucalyptus', u'cylinder-bands', u'ionosphere', u'mfeat-karhunen', u'balance-scale', u'mfeat-morphological', u'liver-disorders', u'dermatology', u'vote', u'breast-cancer', u'credit-g', u'soybean', u'arrhythmia', u'nursery', u'hepatitis', u'cmc', u'heart-c', u'glass', u'braziltourism', u'iris', u'heart-statlog', u'page-blocks', u'breast-w', u'heart-h', u'yeast', u'tae', u'haberman', u'mfeat-pixel', u'optdigits', u'mfeat-factors', u'satimage', u'lymph', u'audiology', u'ecoli', u'tic-tac-toe', u'spambase', u'zoo', u'sonar', u'mfeat-zernike', u'kr-vs-kp']\n"
       ]
      }
     ],
     "prompt_number": 3
    },
    {
     "cell_type": "code",
     "collapsed": false,
     "input": [
      "# Assemble the list of optimizers\n",
      "bootstraps =  (2,) # 5) #, 10)\n",
      "distance = (\"l1\", \"l2\")# \"learned\")\n",
      "metafeature_subset = mf_module.subsets\n",
      "\n",
      "# Maybe some characters must be escaped\n",
      "optimizers = OrderedDict([\n",
      "    (\"SMAC\", \"%s/smac_2_06_01-dev_*/smac_2_06_01-dev.pkl\"),\n",
      "    (\"random\", \"%s/random_hyperopt_august2013_mod*/random_hyperopt_august2013_mod.pkl\"),\n",
      "    (\"TPE\", \"%s/hyperopt_august2013_mod_*/hyperopt_august2013_mod.pkl\"),\n",
      "    (\"Spearmint(Grid)\", \"%s/spearmint_gitfork_mod_*/spearmint_gitfork_mod.pkl\"),\n",
      "    #(\"MI-Spearmint(WS5,l1,landmarking)\", \"%s/bootstrapped5_l1_pfahringer_2000_experiment1spearmint_gitfork_mod_*/*spearmint_gitfork_mod.pkl\"), \n",
      "    #(\"MI-Spearmint(WS5,l1,all)\", \"%s/bootstrapped5_l1_allspearmint_gitfork_mod_*/*spearmint_gitfork_mod.pkl\"),\n",
      "    (\"MI-Spearmint(10,$L_1$,landmarking)\", \"%s/bootstrapped10_l1_pfahringer_2000_experiment1spearmint_gitfork_mod_*/*spearmint_gitfork_mod.pkl\"), \n",
      "    (\"MI-Spearmint(10,$L_1$,all)\", \"%s/bootstrapped10_l1_allspearmint_gitfork_mod_*/*spearmint_gitfork_mod.pkl\"),\n",
      "    (\"MI-Spearmint(15,$L_1$,landmarking)\", \"%s/bootstrapped15_l1_pfahringer_2000_experiment1spearmint_gitfork_mod_*/*spearmint_gitfork_mod.pkl\"), \n",
      "    (\"MI-Spearmint(15,$L_1$,all)\", \"%s/bootstrapped15_l1_allspearmint_gitfork_mod_*/*spearmint_gitfork_mod.pkl\"),\n",
      "    (\"MI-Spearmint(20,$L_1$,landmarking)\", \"%s/bootstrapped20_l1_pfahringer_2000_experiment1spearmint_gitfork_mod_*/*spearmint_gitfork_mod.pkl\"), \n",
      "    (\"MI-Spearmint(20,$L_1$,all)\", \"%s/bootstrapped20_l1_allspearmint_gitfork_mod_*/*spearmint_gitfork_mod.pkl\"),\n",
      "    (\"MI-Spearmint(25,$L_1$,landmarking)\", \"%s/bootstrapped25_l1_pfahringer_2000_experiment1spearmint_gitfork_mod_*/*spearmint_gitfork_mod.pkl\"), \n",
      "    (\"MI-Spearmint(25,$L_1$,all)\", \"%s/bootstrapped25_l1_allspearmint_gitfork_mod_*/*spearmint_gitfork_mod.pkl\"),\n",
      "    (\"MI-Spearmint(30,$L_1$,landmarking)\", \"%s/bootstrapped30_l1_pfahringer_2000_experiment1spearmint_gitfork_mod_*/*spearmint_gitfork_mod.pkl\"), \n",
      "    (\"MI-Spearmint(30,$L_1$,all)\", \"%s/bootstrapped30_l1_allspearmint_gitfork_mod_*/*spearmint_gitfork_mod.pkl\")])\n",
      "\n",
      "#for dist, subset in itertools.product(distance, metafeature_subset, repeat=1):\n",
      "#    optimizers[\"ML_%s_%s\" % (dist, subset)] = \\\n",
      "#        \"%s\" + \"/%s_%smetalearn_optimizer*/*metalearn_optimizer.pkl\" % (dist, subset)"
     ],
     "language": "python",
     "metadata": {},
     "outputs": [],
     "prompt_number": 6
    },
    {
     "cell_type": "code",
     "collapsed": false,
     "input": [
      "num_folds = 1 # 3"
     ],
     "language": "python",
     "metadata": {},
     "outputs": [],
     "prompt_number": 7
    },
    {
     "cell_type": "code",
     "collapsed": false,
     "input": [
      "# Plot the error trace over all experiments\n",
      "include_in_plots = {\"\": optimizers,\n",
      "                    \"smbo\": [\"SMAC\", \"TPE\", \"random\", \"Spearmint(Grid)\"],\n",
      "                    \"bs\": [\"Spearmint(Grid)\", \"MI-Spearmint(10,$L_1$,landmarking)\", \"MI-Spearmint(10,$L_1$,all)\"]}\n",
      "\n",
      "for iip in include_in_plots:\n",
      "    try:\n",
      "        print os.path.join(\"%s\" % plot_dir, \"%s\" % iip)\n",
      "        os.makedirs(os.path.join(\"%s\" % plot_dir, \"%s\" % iip))\n",
      "    except Exception as e:\n",
      "        print e\n",
      "        \n",
      "    gigantic_pickle_list = [[] for optimizer in include_in_plots[iip]]\n",
      "    for idx, dataset in enumerate(datasets):\n",
      "        dataset_rankings = np.zeros((50, len(include_in_plots[iip])), dtype=np.float64)\n",
      "        for fold in range(num_folds):\n",
      "            dataset_dir = \"did_%d_fold%d\" % (dataset, fold)\n",
      "            exp_dir = os.path.join(experiments_directory, dataset_dir)\n",
      "            argument_list = []\n",
      "            for optimizer in include_in_plots[iip]:\n",
      "                pkls = glob.glob(optimizers[optimizer] % exp_dir)\n",
      "                argument_list.append(optimizer)\n",
      "                argument_list.extend(pkls)\n",
      "            try:\n",
      "                pkl_list_main, name_list_main = plot_util.get_pkl_and_name_list(argument_list)\n",
      "            except ValueError as e:\n",
      "                print \"Value Error in dataset directory %s\" % dataset_dir\n",
      "                raise ValueError\n",
      "            for i, optimizer in enumerate(include_in_plots[iip]):\n",
      "                gigantic_pickle_list[i].extend(pkl_list_main[i])\n",
      "        \n",
      "    for file_suffix in [\"png\", \"pdf\"]:\n",
      "        plotTraceWithStd_perEval.main(gigantic_pickle_list, name_list_main, True,\n",
      "                                      save=\"%s/%s/all_datasets_error.%s\" % (plot_dir, iip, file_suffix),\n",
      "                                      markers=False, linewidth=1, linestyle=True, y_max=0.4)\n",
      "        plotTraceWithStd_perEval.main(gigantic_pickle_list, name_list_main, True,\n",
      "                                      save=\"%s/%s/all_datasets_log_error.%s\" % (plot_dir, iip, file_suffix),\n",
      "                                      log=True, markers=False, linewidth=1, linestyle=True, y_max=-0.5, y_min=-0.9)"
     ],
     "language": "python",
     "metadata": {},
     "outputs": [
      {
       "output_type": "stream",
       "stream": "stdout",
       "text": [
        "/home/feurerm/thesis/experiments/2014_04_23_simple_metalearning/plots/\n",
        "[Errno 17] File exists: '/home/feurerm/thesis/experiments/2014_04_23_simple_metalearning/plots/'\n"
       ]
      },
      {
       "ename": "IndexError",
       "evalue": "list index out of range",
       "output_type": "pyerr",
       "traceback": [
        "\u001b[1;31m---------------------------------------------------------------------------\u001b[0m\n\u001b[1;31mIndexError\u001b[0m                                Traceback (most recent call last)",
        "\u001b[1;32m<ipython-input-8-9262ff38298f>\u001b[0m in \u001b[0;36m<module>\u001b[1;34m()\u001b[0m\n\u001b[0;32m     33\u001b[0m         plotTraceWithStd_perEval.main(gigantic_pickle_list, name_list_main, True,\n\u001b[0;32m     34\u001b[0m                                       \u001b[0msave\u001b[0m\u001b[1;33m=\u001b[0m\u001b[1;34m\"%s/%s/all_datasets_error.%s\"\u001b[0m \u001b[1;33m%\u001b[0m \u001b[1;33m(\u001b[0m\u001b[0mplot_dir\u001b[0m\u001b[1;33m,\u001b[0m \u001b[0miip\u001b[0m\u001b[1;33m,\u001b[0m \u001b[0mfile_suffix\u001b[0m\u001b[1;33m)\u001b[0m\u001b[1;33m,\u001b[0m\u001b[1;33m\u001b[0m\u001b[0m\n\u001b[1;32m---> 35\u001b[1;33m                                       markers=False, linewidth=1, linestyle=True, y_max=0.4)\n\u001b[0m\u001b[0;32m     36\u001b[0m         plotTraceWithStd_perEval.main(gigantic_pickle_list, name_list_main, True,\n\u001b[0;32m     37\u001b[0m                                       \u001b[0msave\u001b[0m\u001b[1;33m=\u001b[0m\u001b[1;34m\"%s/%s/all_datasets_log_error.%s\"\u001b[0m \u001b[1;33m%\u001b[0m \u001b[1;33m(\u001b[0m\u001b[0mplot_dir\u001b[0m\u001b[1;33m,\u001b[0m \u001b[0miip\u001b[0m\u001b[1;33m,\u001b[0m \u001b[0mfile_suffix\u001b[0m\u001b[1;33m)\u001b[0m\u001b[1;33m,\u001b[0m\u001b[1;33m\u001b[0m\u001b[0m\n",
        "\u001b[1;32m/home/feurerm/HPOlib/Software/HPOlib/HPOlib/Plotting/plotTraceWithStd_perEval.pyc\u001b[0m in \u001b[0;36mmain\u001b[1;34m(pkl_list, name_list, autofill, optimum, save, title, log, y_min, y_max, scale_std, cut, linewidth, linestyle, markers)\u001b[0m\n\u001b[0;32m    143\u001b[0m             \u001b[0mfh\u001b[0m\u001b[1;33m.\u001b[0m\u001b[0mclose\u001b[0m\u001b[1;33m(\u001b[0m\u001b[1;33m)\u001b[0m\u001b[1;33m\u001b[0m\u001b[0m\n\u001b[0;32m    144\u001b[0m \u001b[1;33m\u001b[0m\u001b[0m\n\u001b[1;32m--> 145\u001b[1;33m             \u001b[0mtrace\u001b[0m \u001b[1;33m=\u001b[0m \u001b[0mplot_util\u001b[0m\u001b[1;33m.\u001b[0m\u001b[0mextract_trajectory\u001b[0m\u001b[1;33m(\u001b[0m\u001b[0mtrials\u001b[0m\u001b[1;33m,\u001b[0m \u001b[0mcut\u001b[0m\u001b[1;33m=\u001b[0m\u001b[0mcut\u001b[0m\u001b[1;33m)\u001b[0m\u001b[1;33m\u001b[0m\u001b[0m\n\u001b[0m\u001b[0;32m    146\u001b[0m             \u001b[0mtrial_list\u001b[0m\u001b[1;33m[\u001b[0m\u001b[1;33m-\u001b[0m\u001b[1;36m1\u001b[0m\u001b[1;33m]\u001b[0m\u001b[1;33m.\u001b[0m\u001b[0mappend\u001b[0m\u001b[1;33m(\u001b[0m\u001b[0mnp\u001b[0m\u001b[1;33m.\u001b[0m\u001b[0marray\u001b[0m\u001b[1;33m(\u001b[0m\u001b[0mtrace\u001b[0m\u001b[1;33m)\u001b[0m\u001b[1;33m)\u001b[0m\u001b[1;33m\u001b[0m\u001b[0m\n\u001b[0;32m    147\u001b[0m \u001b[1;33m\u001b[0m\u001b[0m\n",
        "\u001b[1;32m/home/feurerm/HPOlib/Software/HPOlib/HPOlib/Plotting/plot_util.pyc\u001b[0m in \u001b[0;36mextract_trajectory\u001b[1;34m(trials, cut)\u001b[0m\n\u001b[0;32m    129\u001b[0m \u001b[1;32mdef\u001b[0m \u001b[0mextract_trajectory\u001b[0m\u001b[1;33m(\u001b[0m\u001b[0mtrials\u001b[0m\u001b[1;33m,\u001b[0m \u001b[0mcut\u001b[0m\u001b[1;33m=\u001b[0m\u001b[0msys\u001b[0m\u001b[1;33m.\u001b[0m\u001b[0mmaxint\u001b[0m\u001b[1;33m)\u001b[0m\u001b[1;33m:\u001b[0m\u001b[1;33m\u001b[0m\u001b[0m\n\u001b[0;32m    130\u001b[0m     \u001b[0mtrace\u001b[0m \u001b[1;33m=\u001b[0m \u001b[0mlist\u001b[0m\u001b[1;33m(\u001b[0m\u001b[1;33m)\u001b[0m\u001b[1;33m\u001b[0m\u001b[0m\n\u001b[1;32m--> 131\u001b[1;33m     \u001b[0mcurrentbest\u001b[0m \u001b[1;33m=\u001b[0m \u001b[0mtrials\u001b[0m\u001b[1;33m[\u001b[0m\u001b[1;34m'trials'\u001b[0m\u001b[1;33m]\u001b[0m\u001b[1;33m[\u001b[0m\u001b[1;36m0\u001b[0m\u001b[1;33m]\u001b[0m\u001b[1;33m[\u001b[0m\u001b[1;34m\"result\"\u001b[0m\u001b[1;33m]\u001b[0m\u001b[1;33m\u001b[0m\u001b[0m\n\u001b[0m\u001b[0;32m    132\u001b[0m     \u001b[1;32mif\u001b[0m \u001b[1;32mnot\u001b[0m \u001b[0mnp\u001b[0m\u001b[1;33m.\u001b[0m\u001b[0misfinite\u001b[0m\u001b[1;33m(\u001b[0m\u001b[0mcurrentbest\u001b[0m\u001b[1;33m)\u001b[0m\u001b[1;33m:\u001b[0m\u001b[1;33m\u001b[0m\u001b[0m\n\u001b[0;32m    133\u001b[0m         \u001b[0mcurrentbest\u001b[0m \u001b[1;33m=\u001b[0m \u001b[0msys\u001b[0m\u001b[1;33m.\u001b[0m\u001b[0mmaxint\u001b[0m\u001b[1;33m\u001b[0m\u001b[0m\n",
        "\u001b[1;31mIndexError\u001b[0m: list index out of range"
       ]
      }
     ],
     "prompt_number": 8
    },
    {
     "cell_type": "code",
     "collapsed": false,
     "input": [
      "# Plot the per-dataset error traces\n",
      "best_parameters = dict()\n",
      "\n",
      "include_in_plots = {\"\": optimizers,\n",
      "                    \"smbo\": [\"SMAC\", \"TPE\", \"random\", \"Spearmint(Grid)\"],\n",
      "                    \"bs\": [\"Spearmint(Grid)\", \"MI-Spearmint(10,$L_1$,landmarking)\", \"MI-Spearmint(10,$L_1$,all)\"]}\n",
      "\n",
      "for iip in include_in_plots:\n",
      "    try:\n",
      "        print os.path.join(\"%s\" % plot_dir, \"%s\" % iip)\n",
      "        os.makedirs(os.path.join(\"%s\" % plot_dir, \"%s\" % iip))\n",
      "    except Exception as e:\n",
      "        print e\n",
      "    \n",
      "    for idx, dataset in enumerate(datasets):\n",
      "        for fold in range(num_folds):\n",
      "            dataset_dir = \"%s/did_%d_fold%d\" % (experiments_directory, dataset, fold)\n",
      "            plot_suffix = \"did_%d_fold%d\" % (dataset, fold)\n",
      "            if not os.path.isdir(dataset_dir) or \"did\" not in dataset_dir:\n",
      "                continue\n",
      "\n",
      "            argument_list = []\n",
      "            for optimizer in optimizers:\n",
      "                if optimizer in include_in_plots[iip]:\n",
      "                    pkls = glob.glob(optimizers[optimizer] % dataset_dir)\n",
      "                    argument_list.append(optimizer)\n",
      "                    argument_list.extend(pkls)\n",
      "\n",
      "            pkl_list_main, name_list_main = plot_util.get_pkl_and_name_list(argument_list)\n",
      "\n",
      "            ground_truth = meta_plot_util.find_ground_truth(os.path.join(ground_truth_dir,\n",
      "                                                            \"did_%d_fold%s\" % (dataset, fold),\n",
      "                                                            \"gridsearch_*\",\n",
      "                                                            \"gridsearch.pkl\"))\n",
      "            if not ground_truth:\n",
      "                continue\n",
      "\n",
      "            ########################################################################\n",
      "            # Plot error traces for one dataset\n",
      "            optimum, trial_index = plot_util.get_best_value_and_index(ground_truth)\n",
      "            best_parameters[dataset] = ground_truth['trials'][trial_index]['params']\n",
      "\n",
      "            for file_suffix in [\"png\"]:#, \"pdf\"]:\n",
      "                plotTraceWithStd_perEval.main(pkl_list_main, name_list_main, True, \n",
      "                                          save=\"%s/%s/error_trace_%s.%s\" % (plot_dir, iip, plot_suffix, file_suffix),\n",
      "                                          markers=False, linewidth=1, linestyle=True);\n",
      "                \"\"\"\n",
      "                plotTraceWithStd_perEval.main(pkl_list_main, name_list_main, True, log=True, \n",
      "                                          save=\"%s/%s/error_trace_log_%s.%s\" % (plot_dir, iip, plot_suffix, file_suffix),\n",
      "                                          markers=False, linewidth=1, linestyle=True);\n",
      "\n",
      "                plotTraceWithStd_perEval.main(pkl_list_main, name_list_main, True, optimum=optimum,\n",
      "                                          save=\"%s/%s/optimum_error_trace_%s.%s\" % (plot_dir, iip, plot_suffix, file_suffix),\n",
      "                                          markers=False, linewidth=1, linestyle=True);\n",
      "                \n",
      "                plotTraceWithStd_perEval.main(pkl_list_main, name_list_main, True, optimum=optimum, log=True,\n",
      "                                          save=\"%s/%s/optimum_error_trace_log_%s.%s\" % (plot_dir, iip, plot_suffix, file_suffix),\n",
      "                                          markers=False, linewidth=1, linestyle=True);\n",
      "                \"\"\"\n",
      "# Plot this to a file or something...\n",
      "# for idx, dataset in enumerate(datasets):\n",
      "#     print dataset, dataset_names[idx], best_parameters[dataset]"
     ],
     "language": "python",
     "metadata": {},
     "outputs": [
      {
       "output_type": "stream",
       "stream": "stdout",
       "text": [
        "/home/feurerm/thesis/experiments/2014_04_23_simple_metalearning/plots/\n",
        "[Errno 17] File exists: '/home/feurerm/thesis/experiments/2014_04_23_simple_metalearning/plots/'\n",
        "Saved plot to /home/feurerm/thesis/experiments/2014_04_23_simple_metalearning/plots//error_trace_did_2_fold0.png\n"
       ]
      },
      {
       "output_type": "stream",
       "stream": "stdout",
       "text": [
        "Saved plot to /home/feurerm/thesis/experiments/2014_04_23_simple_metalearning/plots//error_trace_did_3_fold0.png\n",
        "Saved plot to /home/feurerm/thesis/experiments/2014_04_23_simple_metalearning/plots//error_trace_did_4_fold0.png\n"
       ]
      },
      {
       "output_type": "stream",
       "stream": "stdout",
       "text": [
        "Saved plot to /home/feurerm/thesis/experiments/2014_04_23_simple_metalearning/plots//error_trace_did_5_fold0.png\n",
        "Saved plot to /home/feurerm/thesis/experiments/2014_04_23_simple_metalearning/plots//error_trace_did_6_fold0.png\n"
       ]
      },
      {
       "output_type": "stream",
       "stream": "stdout",
       "text": [
        "Saved plot to /home/feurerm/thesis/experiments/2014_04_23_simple_metalearning/plots//error_trace_did_7_fold0.png\n",
        "Saved plot to /home/feurerm/thesis/experiments/2014_04_23_simple_metalearning/plots//error_trace_did_8_fold0.png\n"
       ]
      },
      {
       "output_type": "stream",
       "stream": "stdout",
       "text": [
        "Saved plot to /home/feurerm/thesis/experiments/2014_04_23_simple_metalearning/plots//error_trace_did_9_fold0.png\n",
        "Saved plot to /home/feurerm/thesis/experiments/2014_04_23_simple_metalearning/plots//error_trace_did_10_fold0.png\n"
       ]
      },
      {
       "output_type": "stream",
       "stream": "stdout",
       "text": [
        "Saved plot to /home/feurerm/thesis/experiments/2014_04_23_simple_metalearning/plots//error_trace_did_11_fold0.png\n",
        "Saved plot to /home/feurerm/thesis/experiments/2014_04_23_simple_metalearning/plots//error_trace_did_12_fold0.png\n"
       ]
      },
      {
       "output_type": "stream",
       "stream": "stdout",
       "text": [
        "Saved plot to /home/feurerm/thesis/experiments/2014_04_23_simple_metalearning/plots//error_trace_did_13_fold0.png\n",
        "Saved plot to /home/feurerm/thesis/experiments/2014_04_23_simple_metalearning/plots//error_trace_did_14_fold0.png\n"
       ]
      },
      {
       "output_type": "stream",
       "stream": "stdout",
       "text": [
        "Saved plot to /home/feurerm/thesis/experiments/2014_04_23_simple_metalearning/plots//error_trace_did_15_fold0.png\n",
        "Saved plot to /home/feurerm/thesis/experiments/2014_04_23_simple_metalearning/plots//error_trace_did_16_fold0.png\n"
       ]
      },
      {
       "output_type": "stream",
       "stream": "stdout",
       "text": [
        "Saved plot to /home/feurerm/thesis/experiments/2014_04_23_simple_metalearning/plots//error_trace_did_18_fold0.png\n",
        "Saved plot to /home/feurerm/thesis/experiments/2014_04_23_simple_metalearning/plots//error_trace_did_20_fold0.png\n"
       ]
      },
      {
       "output_type": "stream",
       "stream": "stdout",
       "text": [
        "Saved plot to /home/feurerm/thesis/experiments/2014_04_23_simple_metalearning/plots//error_trace_did_21_fold0.png\n",
        "Saved plot to /home/feurerm/thesis/experiments/2014_04_23_simple_metalearning/plots//error_trace_did_22_fold0.png\n"
       ]
      },
      {
       "output_type": "stream",
       "stream": "stdout",
       "text": [
        "Saved plot to /home/feurerm/thesis/experiments/2014_04_23_simple_metalearning/plots//error_trace_did_23_fold0.png\n",
        "Saved plot to /home/feurerm/thesis/experiments/2014_04_23_simple_metalearning/plots//error_trace_did_24_fold0.png\n"
       ]
      },
      {
       "output_type": "stream",
       "stream": "stdout",
       "text": [
        "Saved plot to /home/feurerm/thesis/experiments/2014_04_23_simple_metalearning/plots//error_trace_did_26_fold0.png\n",
        "Saved plot to /home/feurerm/thesis/experiments/2014_04_23_simple_metalearning/plots//error_trace_did_28_fold0.png\n"
       ]
      },
      {
       "output_type": "stream",
       "stream": "stdout",
       "text": [
        "Saved plot to /home/feurerm/thesis/experiments/2014_04_23_simple_metalearning/plots//error_trace_did_29_fold0.png\n",
        "Saved plot to /home/feurerm/thesis/experiments/2014_04_23_simple_metalearning/plots//error_trace_did_30_fold0.png\n"
       ]
      },
      {
       "output_type": "stream",
       "stream": "stdout",
       "text": [
        "Saved plot to /home/feurerm/thesis/experiments/2014_04_23_simple_metalearning/plots//error_trace_did_31_fold0.png\n",
        "Saved plot to /home/feurerm/thesis/experiments/2014_04_23_simple_metalearning/plots//error_trace_did_32_fold0.png\n"
       ]
      },
      {
       "output_type": "stream",
       "stream": "stdout",
       "text": [
        "Saved plot to /home/feurerm/thesis/experiments/2014_04_23_simple_metalearning/plots//error_trace_did_33_fold0.png\n",
        "Saved plot to /home/feurerm/thesis/experiments/2014_04_23_simple_metalearning/plots//error_trace_did_34_fold0.png\n"
       ]
      },
      {
       "output_type": "stream",
       "stream": "stdout",
       "text": [
        "Saved plot to /home/feurerm/thesis/experiments/2014_04_23_simple_metalearning/plots//error_trace_did_35_fold0.png\n",
        "Saved plot to /home/feurerm/thesis/experiments/2014_04_23_simple_metalearning/plots//error_trace_did_36_fold0.png\n"
       ]
      },
      {
       "output_type": "stream",
       "stream": "stdout",
       "text": [
        "Saved plot to /home/feurerm/thesis/experiments/2014_04_23_simple_metalearning/plots//error_trace_did_37_fold0.png\n",
        "Saved plot to /home/feurerm/thesis/experiments/2014_04_23_simple_metalearning/plots//error_trace_did_39_fold0.png\n"
       ]
      },
      {
       "output_type": "stream",
       "stream": "stdout",
       "text": [
        "Saved plot to /home/feurerm/thesis/experiments/2014_04_23_simple_metalearning/plots//error_trace_did_40_fold0.png\n",
        "Saved plot to /home/feurerm/thesis/experiments/2014_04_23_simple_metalearning/plots//error_trace_did_41_fold0.png\n"
       ]
      },
      {
       "output_type": "stream",
       "stream": "stdout",
       "text": [
        "Saved plot to /home/feurerm/thesis/experiments/2014_04_23_simple_metalearning/plots//error_trace_did_42_fold0.png\n",
        "Saved plot to /home/feurerm/thesis/experiments/2014_04_23_simple_metalearning/plots//error_trace_did_43_fold0.png\n"
       ]
      },
      {
       "output_type": "stream",
       "stream": "stdout",
       "text": [
        "Saved plot to /home/feurerm/thesis/experiments/2014_04_23_simple_metalearning/plots//error_trace_did_44_fold0.png\n",
        "Saved plot to /home/feurerm/thesis/experiments/2014_04_23_simple_metalearning/plots//error_trace_did_48_fold0.png\n"
       ]
      },
      {
       "output_type": "stream",
       "stream": "stdout",
       "text": [
        "Saved plot to /home/feurerm/thesis/experiments/2014_04_23_simple_metalearning/plots//error_trace_did_49_fold0.png\n",
        "Saved plot to /home/feurerm/thesis/experiments/2014_04_23_simple_metalearning/plots//error_trace_did_50_fold0.png\n"
       ]
      },
      {
       "output_type": "stream",
       "stream": "stdout",
       "text": [
        "Saved plot to /home/feurerm/thesis/experiments/2014_04_23_simple_metalearning/plots//error_trace_did_51_fold0.png\n",
        "Saved plot to /home/feurerm/thesis/experiments/2014_04_23_simple_metalearning/plots//error_trace_did_53_fold0.png\n"
       ]
      },
      {
       "output_type": "stream",
       "stream": "stdout",
       "text": [
        "Saved plot to /home/feurerm/thesis/experiments/2014_04_23_simple_metalearning/plots//error_trace_did_54_fold0.png\n",
        "Saved plot to /home/feurerm/thesis/experiments/2014_04_23_simple_metalearning/plots//error_trace_did_55_fold0.png\n"
       ]
      },
      {
       "output_type": "stream",
       "stream": "stdout",
       "text": [
        "Saved plot to /home/feurerm/thesis/experiments/2014_04_23_simple_metalearning/plots//error_trace_did_56_fold0.png\n",
        "Saved plot to /home/feurerm/thesis/experiments/2014_04_23_simple_metalearning/plots//error_trace_did_58_fold0.png\n"
       ]
      },
      {
       "output_type": "stream",
       "stream": "stdout",
       "text": [
        "Saved plot to /home/feurerm/thesis/experiments/2014_04_23_simple_metalearning/plots//error_trace_did_59_fold0.png\n",
        "Saved plot to /home/feurerm/thesis/experiments/2014_04_23_simple_metalearning/plots//error_trace_did_60_fold0.png\n"
       ]
      },
      {
       "output_type": "stream",
       "stream": "stdout",
       "text": [
        "Saved plot to /home/feurerm/thesis/experiments/2014_04_23_simple_metalearning/plots//error_trace_did_61_fold0.png\n",
        "Saved plot to /home/feurerm/thesis/experiments/2014_04_23_simple_metalearning/plots//error_trace_did_62_fold0.png\n"
       ]
      },
      {
       "output_type": "stream",
       "stream": "stdout",
       "text": [
        "Saved plot to /home/feurerm/thesis/experiments/2014_04_23_simple_metalearning/plots//error_trace_did_171_fold0.png\n",
        "Saved plot to /home/feurerm/thesis/experiments/2014_04_23_simple_metalearning/plots//error_trace_did_181_fold0.png\n"
       ]
      },
      {
       "output_type": "stream",
       "stream": "stdout",
       "text": [
        "Saved plot to /home/feurerm/thesis/experiments/2014_04_23_simple_metalearning/plots//error_trace_did_182_fold0.png\n",
        "Saved plot to /home/feurerm/thesis/experiments/2014_04_23_simple_metalearning/plots//error_trace_did_183_fold0.png\n"
       ]
      },
      {
       "output_type": "stream",
       "stream": "stdout",
       "text": [
        "Saved plot to /home/feurerm/thesis/experiments/2014_04_23_simple_metalearning/plots//error_trace_did_186_fold0.png\n",
        "Saved plot to /home/feurerm/thesis/experiments/2014_04_23_simple_metalearning/plots//error_trace_did_188_fold0.png\n"
       ]
      },
      {
       "output_type": "stream",
       "stream": "stdout",
       "text": [
        "/home/feurerm/thesis/experiments/2014_04_23_simple_metalearning/plots/smbo\n",
        "[Errno 17] File exists: '/home/feurerm/thesis/experiments/2014_04_23_simple_metalearning/plots/smbo'\n",
        "Saved plot to /home/feurerm/thesis/experiments/2014_04_23_simple_metalearning/plots/smbo/error_trace_did_2_fold0.png\n"
       ]
      },
      {
       "output_type": "stream",
       "stream": "stdout",
       "text": [
        "Saved plot to /home/feurerm/thesis/experiments/2014_04_23_simple_metalearning/plots/smbo/error_trace_did_3_fold0.png\n",
        "Saved plot to /home/feurerm/thesis/experiments/2014_04_23_simple_metalearning/plots/smbo/error_trace_did_4_fold0.png\n"
       ]
      },
      {
       "output_type": "stream",
       "stream": "stdout",
       "text": [
        "Saved plot to /home/feurerm/thesis/experiments/2014_04_23_simple_metalearning/plots/smbo/error_trace_did_5_fold0.png\n",
        "Saved plot to /home/feurerm/thesis/experiments/2014_04_23_simple_metalearning/plots/smbo/error_trace_did_6_fold0.png\n"
       ]
      },
      {
       "output_type": "stream",
       "stream": "stdout",
       "text": [
        "Saved plot to /home/feurerm/thesis/experiments/2014_04_23_simple_metalearning/plots/smbo/error_trace_did_7_fold0.png\n",
        "Saved plot to /home/feurerm/thesis/experiments/2014_04_23_simple_metalearning/plots/smbo/error_trace_did_8_fold0.png\n"
       ]
      },
      {
       "output_type": "stream",
       "stream": "stdout",
       "text": [
        "Saved plot to /home/feurerm/thesis/experiments/2014_04_23_simple_metalearning/plots/smbo/error_trace_did_9_fold0.png\n",
        "Saved plot to /home/feurerm/thesis/experiments/2014_04_23_simple_metalearning/plots/smbo/error_trace_did_10_fold0.png\n"
       ]
      },
      {
       "output_type": "stream",
       "stream": "stdout",
       "text": [
        "Saved plot to /home/feurerm/thesis/experiments/2014_04_23_simple_metalearning/plots/smbo/error_trace_did_11_fold0.png\n",
        "Saved plot to /home/feurerm/thesis/experiments/2014_04_23_simple_metalearning/plots/smbo/error_trace_did_12_fold0.png\n"
       ]
      },
      {
       "output_type": "stream",
       "stream": "stdout",
       "text": [
        "Saved plot to /home/feurerm/thesis/experiments/2014_04_23_simple_metalearning/plots/smbo/error_trace_did_13_fold0.png\n",
        "Saved plot to /home/feurerm/thesis/experiments/2014_04_23_simple_metalearning/plots/smbo/error_trace_did_14_fold0.png\n"
       ]
      },
      {
       "output_type": "stream",
       "stream": "stdout",
       "text": [
        "Saved plot to /home/feurerm/thesis/experiments/2014_04_23_simple_metalearning/plots/smbo/error_trace_did_15_fold0.png\n",
        "Saved plot to /home/feurerm/thesis/experiments/2014_04_23_simple_metalearning/plots/smbo/error_trace_did_16_fold0.png\n"
       ]
      },
      {
       "output_type": "stream",
       "stream": "stdout",
       "text": [
        "Saved plot to /home/feurerm/thesis/experiments/2014_04_23_simple_metalearning/plots/smbo/error_trace_did_18_fold0.png\n",
        "Saved plot to /home/feurerm/thesis/experiments/2014_04_23_simple_metalearning/plots/smbo/error_trace_did_20_fold0.png\n"
       ]
      },
      {
       "output_type": "stream",
       "stream": "stdout",
       "text": [
        "Saved plot to /home/feurerm/thesis/experiments/2014_04_23_simple_metalearning/plots/smbo/error_trace_did_21_fold0.png\n",
        "Saved plot to /home/feurerm/thesis/experiments/2014_04_23_simple_metalearning/plots/smbo/error_trace_did_22_fold0.png\n"
       ]
      },
      {
       "output_type": "stream",
       "stream": "stdout",
       "text": [
        "Saved plot to /home/feurerm/thesis/experiments/2014_04_23_simple_metalearning/plots/smbo/error_trace_did_23_fold0.png\n",
        "Saved plot to /home/feurerm/thesis/experiments/2014_04_23_simple_metalearning/plots/smbo/error_trace_did_24_fold0.png\n"
       ]
      },
      {
       "output_type": "stream",
       "stream": "stdout",
       "text": [
        "Saved plot to /home/feurerm/thesis/experiments/2014_04_23_simple_metalearning/plots/smbo/error_trace_did_26_fold0.png\n",
        "Saved plot to /home/feurerm/thesis/experiments/2014_04_23_simple_metalearning/plots/smbo/error_trace_did_28_fold0.png\n"
       ]
      },
      {
       "output_type": "stream",
       "stream": "stdout",
       "text": [
        "Saved plot to /home/feurerm/thesis/experiments/2014_04_23_simple_metalearning/plots/smbo/error_trace_did_29_fold0.png\n",
        "Saved plot to /home/feurerm/thesis/experiments/2014_04_23_simple_metalearning/plots/smbo/error_trace_did_30_fold0.png\n"
       ]
      },
      {
       "output_type": "stream",
       "stream": "stdout",
       "text": [
        "Saved plot to /home/feurerm/thesis/experiments/2014_04_23_simple_metalearning/plots/smbo/error_trace_did_31_fold0.png\n",
        "Saved plot to /home/feurerm/thesis/experiments/2014_04_23_simple_metalearning/plots/smbo/error_trace_did_32_fold0.png\n"
       ]
      },
      {
       "output_type": "stream",
       "stream": "stdout",
       "text": [
        "Saved plot to /home/feurerm/thesis/experiments/2014_04_23_simple_metalearning/plots/smbo/error_trace_did_33_fold0.png\n",
        "Saved plot to /home/feurerm/thesis/experiments/2014_04_23_simple_metalearning/plots/smbo/error_trace_did_34_fold0.png\n"
       ]
      },
      {
       "output_type": "stream",
       "stream": "stdout",
       "text": [
        "Saved plot to /home/feurerm/thesis/experiments/2014_04_23_simple_metalearning/plots/smbo/error_trace_did_35_fold0.png\n",
        "Saved plot to /home/feurerm/thesis/experiments/2014_04_23_simple_metalearning/plots/smbo/error_trace_did_36_fold0.png\n"
       ]
      },
      {
       "output_type": "stream",
       "stream": "stdout",
       "text": [
        "Saved plot to /home/feurerm/thesis/experiments/2014_04_23_simple_metalearning/plots/smbo/error_trace_did_37_fold0.png\n",
        "Saved plot to /home/feurerm/thesis/experiments/2014_04_23_simple_metalearning/plots/smbo/error_trace_did_39_fold0.png\n"
       ]
      },
      {
       "output_type": "stream",
       "stream": "stdout",
       "text": [
        "Saved plot to /home/feurerm/thesis/experiments/2014_04_23_simple_metalearning/plots/smbo/error_trace_did_40_fold0.png\n",
        "Saved plot to /home/feurerm/thesis/experiments/2014_04_23_simple_metalearning/plots/smbo/error_trace_did_41_fold0.png\n"
       ]
      },
      {
       "output_type": "stream",
       "stream": "stdout",
       "text": [
        "Saved plot to /home/feurerm/thesis/experiments/2014_04_23_simple_metalearning/plots/smbo/error_trace_did_42_fold0.png\n",
        "Saved plot to /home/feurerm/thesis/experiments/2014_04_23_simple_metalearning/plots/smbo/error_trace_did_43_fold0.png\n"
       ]
      },
      {
       "output_type": "stream",
       "stream": "stdout",
       "text": [
        "Saved plot to /home/feurerm/thesis/experiments/2014_04_23_simple_metalearning/plots/smbo/error_trace_did_44_fold0.png\n",
        "Saved plot to /home/feurerm/thesis/experiments/2014_04_23_simple_metalearning/plots/smbo/error_trace_did_48_fold0.png\n"
       ]
      },
      {
       "output_type": "stream",
       "stream": "stdout",
       "text": [
        "Saved plot to /home/feurerm/thesis/experiments/2014_04_23_simple_metalearning/plots/smbo/error_trace_did_49_fold0.png\n",
        "Saved plot to /home/feurerm/thesis/experiments/2014_04_23_simple_metalearning/plots/smbo/error_trace_did_50_fold0.png\n"
       ]
      },
      {
       "output_type": "stream",
       "stream": "stdout",
       "text": [
        "Saved plot to /home/feurerm/thesis/experiments/2014_04_23_simple_metalearning/plots/smbo/error_trace_did_51_fold0.png\n",
        "Saved plot to /home/feurerm/thesis/experiments/2014_04_23_simple_metalearning/plots/smbo/error_trace_did_53_fold0.png\n"
       ]
      },
      {
       "output_type": "stream",
       "stream": "stdout",
       "text": [
        "Saved plot to /home/feurerm/thesis/experiments/2014_04_23_simple_metalearning/plots/smbo/error_trace_did_54_fold0.png\n",
        "Saved plot to /home/feurerm/thesis/experiments/2014_04_23_simple_metalearning/plots/smbo/error_trace_did_55_fold0.png\n"
       ]
      },
      {
       "output_type": "stream",
       "stream": "stdout",
       "text": [
        "Saved plot to /home/feurerm/thesis/experiments/2014_04_23_simple_metalearning/plots/smbo/error_trace_did_56_fold0.png\n",
        "Saved plot to /home/feurerm/thesis/experiments/2014_04_23_simple_metalearning/plots/smbo/error_trace_did_58_fold0.png\n"
       ]
      },
      {
       "output_type": "stream",
       "stream": "stdout",
       "text": [
        "Saved plot to /home/feurerm/thesis/experiments/2014_04_23_simple_metalearning/plots/smbo/error_trace_did_59_fold0.png\n",
        "Saved plot to /home/feurerm/thesis/experiments/2014_04_23_simple_metalearning/plots/smbo/error_trace_did_60_fold0.png\n"
       ]
      },
      {
       "output_type": "stream",
       "stream": "stdout",
       "text": [
        "Saved plot to /home/feurerm/thesis/experiments/2014_04_23_simple_metalearning/plots/smbo/error_trace_did_61_fold0.png\n",
        "Saved plot to /home/feurerm/thesis/experiments/2014_04_23_simple_metalearning/plots/smbo/error_trace_did_62_fold0.png\n"
       ]
      },
      {
       "output_type": "stream",
       "stream": "stdout",
       "text": [
        "Saved plot to /home/feurerm/thesis/experiments/2014_04_23_simple_metalearning/plots/smbo/error_trace_did_171_fold0.png\n",
        "Saved plot to /home/feurerm/thesis/experiments/2014_04_23_simple_metalearning/plots/smbo/error_trace_did_181_fold0.png\n"
       ]
      },
      {
       "output_type": "stream",
       "stream": "stdout",
       "text": [
        "Saved plot to /home/feurerm/thesis/experiments/2014_04_23_simple_metalearning/plots/smbo/error_trace_did_182_fold0.png\n",
        "Saved plot to /home/feurerm/thesis/experiments/2014_04_23_simple_metalearning/plots/smbo/error_trace_did_183_fold0.png\n"
       ]
      },
      {
       "output_type": "stream",
       "stream": "stdout",
       "text": [
        "Saved plot to /home/feurerm/thesis/experiments/2014_04_23_simple_metalearning/plots/smbo/error_trace_did_186_fold0.png\n",
        "Saved plot to /home/feurerm/thesis/experiments/2014_04_23_simple_metalearning/plots/smbo/error_trace_did_188_fold0.png\n"
       ]
      },
      {
       "output_type": "stream",
       "stream": "stdout",
       "text": [
        "/home/feurerm/thesis/experiments/2014_04_23_simple_metalearning/plots/bs\n",
        "[Errno 17] File exists: '/home/feurerm/thesis/experiments/2014_04_23_simple_metalearning/plots/bs'\n",
        "Saved plot to /home/feurerm/thesis/experiments/2014_04_23_simple_metalearning/plots/bs/error_trace_did_2_fold0.png\n"
       ]
      },
      {
       "output_type": "stream",
       "stream": "stdout",
       "text": [
        "Saved plot to /home/feurerm/thesis/experiments/2014_04_23_simple_metalearning/plots/bs/error_trace_did_3_fold0.png\n",
        "Saved plot to /home/feurerm/thesis/experiments/2014_04_23_simple_metalearning/plots/bs/error_trace_did_4_fold0.png\n"
       ]
      },
      {
       "output_type": "stream",
       "stream": "stdout",
       "text": [
        "Saved plot to /home/feurerm/thesis/experiments/2014_04_23_simple_metalearning/plots/bs/error_trace_did_5_fold0.png\n",
        "Saved plot to /home/feurerm/thesis/experiments/2014_04_23_simple_metalearning/plots/bs/error_trace_did_6_fold0.png\n"
       ]
      },
      {
       "output_type": "stream",
       "stream": "stdout",
       "text": [
        "Saved plot to /home/feurerm/thesis/experiments/2014_04_23_simple_metalearning/plots/bs/error_trace_did_7_fold0.png\n",
        "Saved plot to /home/feurerm/thesis/experiments/2014_04_23_simple_metalearning/plots/bs/error_trace_did_8_fold0.png\n"
       ]
      },
      {
       "output_type": "stream",
       "stream": "stdout",
       "text": [
        "Saved plot to /home/feurerm/thesis/experiments/2014_04_23_simple_metalearning/plots/bs/error_trace_did_9_fold0.png\n",
        "Saved plot to /home/feurerm/thesis/experiments/2014_04_23_simple_metalearning/plots/bs/error_trace_did_10_fold0.png\n"
       ]
      },
      {
       "output_type": "stream",
       "stream": "stdout",
       "text": [
        "Saved plot to /home/feurerm/thesis/experiments/2014_04_23_simple_metalearning/plots/bs/error_trace_did_11_fold0.png\n",
        "Saved plot to /home/feurerm/thesis/experiments/2014_04_23_simple_metalearning/plots/bs/error_trace_did_12_fold0.png\n"
       ]
      },
      {
       "output_type": "stream",
       "stream": "stdout",
       "text": [
        "Saved plot to /home/feurerm/thesis/experiments/2014_04_23_simple_metalearning/plots/bs/error_trace_did_13_fold0.png\n",
        "Saved plot to /home/feurerm/thesis/experiments/2014_04_23_simple_metalearning/plots/bs/error_trace_did_14_fold0.png\n"
       ]
      },
      {
       "output_type": "stream",
       "stream": "stdout",
       "text": [
        "Saved plot to /home/feurerm/thesis/experiments/2014_04_23_simple_metalearning/plots/bs/error_trace_did_15_fold0.png\n",
        "Saved plot to /home/feurerm/thesis/experiments/2014_04_23_simple_metalearning/plots/bs/error_trace_did_16_fold0.png\n"
       ]
      },
      {
       "output_type": "stream",
       "stream": "stdout",
       "text": [
        "Saved plot to /home/feurerm/thesis/experiments/2014_04_23_simple_metalearning/plots/bs/error_trace_did_18_fold0.png\n",
        "Saved plot to /home/feurerm/thesis/experiments/2014_04_23_simple_metalearning/plots/bs/error_trace_did_20_fold0.png\n"
       ]
      },
      {
       "output_type": "stream",
       "stream": "stdout",
       "text": [
        "Saved plot to /home/feurerm/thesis/experiments/2014_04_23_simple_metalearning/plots/bs/error_trace_did_21_fold0.png\n",
        "Saved plot to /home/feurerm/thesis/experiments/2014_04_23_simple_metalearning/plots/bs/error_trace_did_22_fold0.png\n"
       ]
      },
      {
       "output_type": "stream",
       "stream": "stdout",
       "text": [
        "Saved plot to /home/feurerm/thesis/experiments/2014_04_23_simple_metalearning/plots/bs/error_trace_did_23_fold0.png\n",
        "Saved plot to /home/feurerm/thesis/experiments/2014_04_23_simple_metalearning/plots/bs/error_trace_did_24_fold0.png\n"
       ]
      },
      {
       "output_type": "stream",
       "stream": "stdout",
       "text": [
        "Saved plot to /home/feurerm/thesis/experiments/2014_04_23_simple_metalearning/plots/bs/error_trace_did_26_fold0.png\n",
        "Saved plot to /home/feurerm/thesis/experiments/2014_04_23_simple_metalearning/plots/bs/error_trace_did_28_fold0.png\n"
       ]
      },
      {
       "output_type": "stream",
       "stream": "stdout",
       "text": [
        "Saved plot to /home/feurerm/thesis/experiments/2014_04_23_simple_metalearning/plots/bs/error_trace_did_29_fold0.png\n",
        "Saved plot to /home/feurerm/thesis/experiments/2014_04_23_simple_metalearning/plots/bs/error_trace_did_30_fold0.png\n"
       ]
      },
      {
       "output_type": "stream",
       "stream": "stdout",
       "text": [
        "Saved plot to /home/feurerm/thesis/experiments/2014_04_23_simple_metalearning/plots/bs/error_trace_did_31_fold0.png\n",
        "Saved plot to /home/feurerm/thesis/experiments/2014_04_23_simple_metalearning/plots/bs/error_trace_did_32_fold0.png\n"
       ]
      },
      {
       "output_type": "stream",
       "stream": "stdout",
       "text": [
        "Saved plot to /home/feurerm/thesis/experiments/2014_04_23_simple_metalearning/plots/bs/error_trace_did_33_fold0.png\n",
        "Saved plot to /home/feurerm/thesis/experiments/2014_04_23_simple_metalearning/plots/bs/error_trace_did_34_fold0.png\n"
       ]
      },
      {
       "output_type": "stream",
       "stream": "stdout",
       "text": [
        "Saved plot to /home/feurerm/thesis/experiments/2014_04_23_simple_metalearning/plots/bs/error_trace_did_35_fold0.png\n",
        "Saved plot to /home/feurerm/thesis/experiments/2014_04_23_simple_metalearning/plots/bs/error_trace_did_36_fold0.png\n"
       ]
      },
      {
       "output_type": "stream",
       "stream": "stdout",
       "text": [
        "Saved plot to /home/feurerm/thesis/experiments/2014_04_23_simple_metalearning/plots/bs/error_trace_did_37_fold0.png\n",
        "Saved plot to /home/feurerm/thesis/experiments/2014_04_23_simple_metalearning/plots/bs/error_trace_did_39_fold0.png\n"
       ]
      },
      {
       "output_type": "stream",
       "stream": "stdout",
       "text": [
        "Saved plot to /home/feurerm/thesis/experiments/2014_04_23_simple_metalearning/plots/bs/error_trace_did_40_fold0.png\n",
        "Saved plot to /home/feurerm/thesis/experiments/2014_04_23_simple_metalearning/plots/bs/error_trace_did_41_fold0.png\n"
       ]
      },
      {
       "output_type": "stream",
       "stream": "stdout",
       "text": [
        "Saved plot to /home/feurerm/thesis/experiments/2014_04_23_simple_metalearning/plots/bs/error_trace_did_42_fold0.png\n",
        "Saved plot to /home/feurerm/thesis/experiments/2014_04_23_simple_metalearning/plots/bs/error_trace_did_43_fold0.png\n"
       ]
      },
      {
       "output_type": "stream",
       "stream": "stdout",
       "text": [
        "Saved plot to /home/feurerm/thesis/experiments/2014_04_23_simple_metalearning/plots/bs/error_trace_did_44_fold0.png\n",
        "Saved plot to /home/feurerm/thesis/experiments/2014_04_23_simple_metalearning/plots/bs/error_trace_did_48_fold0.png\n"
       ]
      },
      {
       "output_type": "stream",
       "stream": "stdout",
       "text": [
        "Saved plot to /home/feurerm/thesis/experiments/2014_04_23_simple_metalearning/plots/bs/error_trace_did_49_fold0.png\n",
        "Saved plot to /home/feurerm/thesis/experiments/2014_04_23_simple_metalearning/plots/bs/error_trace_did_50_fold0.png\n"
       ]
      },
      {
       "output_type": "stream",
       "stream": "stdout",
       "text": [
        "Saved plot to /home/feurerm/thesis/experiments/2014_04_23_simple_metalearning/plots/bs/error_trace_did_51_fold0.png\n",
        "Saved plot to /home/feurerm/thesis/experiments/2014_04_23_simple_metalearning/plots/bs/error_trace_did_53_fold0.png\n"
       ]
      },
      {
       "output_type": "stream",
       "stream": "stdout",
       "text": [
        "Saved plot to /home/feurerm/thesis/experiments/2014_04_23_simple_metalearning/plots/bs/error_trace_did_54_fold0.png\n",
        "Saved plot to /home/feurerm/thesis/experiments/2014_04_23_simple_metalearning/plots/bs/error_trace_did_55_fold0.png\n"
       ]
      },
      {
       "output_type": "stream",
       "stream": "stdout",
       "text": [
        "Saved plot to /home/feurerm/thesis/experiments/2014_04_23_simple_metalearning/plots/bs/error_trace_did_56_fold0.png\n",
        "Saved plot to /home/feurerm/thesis/experiments/2014_04_23_simple_metalearning/plots/bs/error_trace_did_58_fold0.png\n"
       ]
      },
      {
       "output_type": "stream",
       "stream": "stdout",
       "text": [
        "Saved plot to /home/feurerm/thesis/experiments/2014_04_23_simple_metalearning/plots/bs/error_trace_did_59_fold0.png\n",
        "Saved plot to /home/feurerm/thesis/experiments/2014_04_23_simple_metalearning/plots/bs/error_trace_did_60_fold0.png\n"
       ]
      },
      {
       "output_type": "stream",
       "stream": "stdout",
       "text": [
        "Saved plot to /home/feurerm/thesis/experiments/2014_04_23_simple_metalearning/plots/bs/error_trace_did_61_fold0.png\n",
        "Saved plot to /home/feurerm/thesis/experiments/2014_04_23_simple_metalearning/plots/bs/error_trace_did_62_fold0.png\n"
       ]
      },
      {
       "output_type": "stream",
       "stream": "stdout",
       "text": [
        "Saved plot to /home/feurerm/thesis/experiments/2014_04_23_simple_metalearning/plots/bs/error_trace_did_171_fold0.png\n",
        "Saved plot to /home/feurerm/thesis/experiments/2014_04_23_simple_metalearning/plots/bs/error_trace_did_181_fold0.png\n"
       ]
      },
      {
       "output_type": "stream",
       "stream": "stdout",
       "text": [
        "Saved plot to /home/feurerm/thesis/experiments/2014_04_23_simple_metalearning/plots/bs/error_trace_did_182_fold0.png\n",
        "Saved plot to /home/feurerm/thesis/experiments/2014_04_23_simple_metalearning/plots/bs/error_trace_did_183_fold0.png\n"
       ]
      },
      {
       "output_type": "stream",
       "stream": "stdout",
       "text": [
        "Saved plot to /home/feurerm/thesis/experiments/2014_04_23_simple_metalearning/plots/bs/error_trace_did_186_fold0.png\n",
        "Saved plot to /home/feurerm/thesis/experiments/2014_04_23_simple_metalearning/plots/bs/error_trace_did_188_fold0.png\n"
       ]
      },
      {
       "metadata": {},
       "output_type": "display_data",
       "png": "[encoded data removed]",
       "text": [
        "<matplotlib.figure.Figure at 0x7f6b2f15ee90>"
       ]
      }
     ],
     "prompt_number": 10
    },
    {
     "cell_type": "code",
     "collapsed": false,
     "input": [
      "# Do the statistical stuff\n",
      "include_in_plots = {\"\": optimizers,\n",
      "                    \"smbo\": [\"SMAC\", \"TPE\", \"random\", \"Spearmint(Grid)\"],\n",
      "                    \"bs\": [\"Spearmint(Grid)\", \"MI-Spearmint(10,$L_1$,landmarking)\", \"MI-Spearmint(10,$L_1$,all)\"]}\n",
      "reload(meta_plot_util)\n",
      "reload(plotTraceWithStd_perEval)\n",
      "for iip in include_in_plots:\n",
      "    try:\n",
      "        print os.path.join(\"%s\" % plot_dir, \"%s\" % iip)\n",
      "        os.makedirs(os.path.join(\"%s\" % plot_dir, \"%s\" % iip))\n",
      "    except Exception as e:\n",
      "        print e\n",
      "    \n",
      "    trial_list_per_dataset = []\n",
      "    trial_list_per_dataset2 = []\n",
      "    for fold in range(num_folds):\n",
      "        for idx, dataset in enumerate(datasets):\n",
      "            dataset_dir = \"%s/did_%d_fold%d\" % (experiments_directory, dataset, fold)\n",
      "            if not os.path.isdir(dataset_dir) or \"did\" not in dataset_dir:\n",
      "                continue\n",
      "\n",
      "            argument_list = []\n",
      "            for optimizer in optimizers:\n",
      "                if optimizer in include_in_plots[iip]:\n",
      "                    pkls = glob.glob(optimizers[optimizer] % dataset_dir)\n",
      "                    argument_list.append(optimizer)\n",
      "                    argument_list.extend(pkls)\n",
      "\n",
      "            pkl_list_main, name_list_main = plot_util.get_pkl_and_name_list(argument_list)\n",
      "            trial_list_per_dataset.append(pkl_list_main)\n",
      "\n",
      "    for file_suffix in [\"png\", \"pdf\"]:\n",
      "        meta_plot_util.plot_summed_wins_of_optimizers(\n",
      "            trial_list_per_dataset, name_list_main, legend_ncols=3, figsize=(16,6),\n",
      "            save=(\"%s/%s/percentage_of_wins_\" % (plot_dir, iip.replace(\"/\", \"_\")) + \"%s.\" + file_suffix))"
     ],
     "language": "python",
     "metadata": {},
     "outputs": [
      {
       "output_type": "stream",
       "stream": "stdout",
       "text": [
        "/home/feurerm/thesis/experiments/2014_04_23_simple_metalearning/plots/\n",
        "[Errno 17] File exists: '/home/feurerm/thesis/experiments/2014_04_23_simple_metalearning/plots/'\n",
        "0.6"
       ]
      },
      {
       "output_type": "stream",
       "stream": "stdout",
       "text": [
        "\n",
        "0.6"
       ]
      },
      {
       "output_type": "stream",
       "stream": "stdout",
       "text": [
        "\n",
        "0.6"
       ]
      },
      {
       "output_type": "stream",
       "stream": "stdout",
       "text": [
        "\n",
        "0.8"
       ]
      },
      {
       "output_type": "stream",
       "stream": "stdout",
       "text": [
        "\n",
        "0.8"
       ]
      },
      {
       "output_type": "stream",
       "stream": "stdout",
       "text": [
        "\n",
        "0.7"
       ]
      },
      {
       "output_type": "stream",
       "stream": "stdout",
       "text": [
        "\n",
        "0.8"
       ]
      },
      {
       "output_type": "stream",
       "stream": "stdout",
       "text": [
        "\n",
        "0.7"
       ]
      },
      {
       "output_type": "stream",
       "stream": "stdout",
       "text": [
        "\n",
        "0.8"
       ]
      },
      {
       "output_type": "stream",
       "stream": "stdout",
       "text": [
        "\n",
        "0.7"
       ]
      },
      {
       "output_type": "stream",
       "stream": "stdout",
       "text": [
        "\n",
        "0.8"
       ]
      },
      {
       "output_type": "stream",
       "stream": "stdout",
       "text": [
        "\n",
        "0.7"
       ]
      },
      {
       "output_type": "stream",
       "stream": "stdout",
       "text": [
        "\n",
        "0.8"
       ]
      },
      {
       "output_type": "stream",
       "stream": "stdout",
       "text": [
        "\n",
        "0.7"
       ]
      },
      {
       "output_type": "stream",
       "stream": "stdout",
       "text": [
        "\n",
        "0.6"
       ]
      },
      {
       "output_type": "stream",
       "stream": "stdout",
       "text": [
        "\n",
        "0.6"
       ]
      },
      {
       "output_type": "stream",
       "stream": "stdout",
       "text": [
        "\n",
        "0.6"
       ]
      },
      {
       "output_type": "stream",
       "stream": "stdout",
       "text": [
        "\n",
        "0.8"
       ]
      },
      {
       "output_type": "stream",
       "stream": "stdout",
       "text": [
        "\n",
        "0.8"
       ]
      },
      {
       "output_type": "stream",
       "stream": "stdout",
       "text": [
        "\n",
        "0.7"
       ]
      },
      {
       "output_type": "stream",
       "stream": "stdout",
       "text": [
        "\n",
        "0.8"
       ]
      },
      {
       "output_type": "stream",
       "stream": "stdout",
       "text": [
        "\n",
        "0.7"
       ]
      },
      {
       "output_type": "stream",
       "stream": "stdout",
       "text": [
        "\n",
        "0.8"
       ]
      },
      {
       "output_type": "stream",
       "stream": "stdout",
       "text": [
        "\n",
        "0.7"
       ]
      },
      {
       "output_type": "stream",
       "stream": "stdout",
       "text": [
        "\n",
        "0.8"
       ]
      },
      {
       "output_type": "stream",
       "stream": "stdout",
       "text": [
        "\n",
        "0.7"
       ]
      },
      {
       "output_type": "stream",
       "stream": "stdout",
       "text": [
        "\n",
        "0.8"
       ]
      },
      {
       "output_type": "stream",
       "stream": "stdout",
       "text": [
        "\n",
        "0.7"
       ]
      },
      {
       "output_type": "stream",
       "stream": "stdout",
       "text": [
        "\n",
        "/home/feurerm/thesis/experiments/2014_04_23_simple_metalearning/plots/smbo"
       ]
      },
      {
       "output_type": "stream",
       "stream": "stdout",
       "text": [
        "\n",
        "[Errno 17] File exists: '/home/feurerm/thesis/experiments/2014_04_23_simple_metalearning/plots/smbo'\n",
        "0.5"
       ]
      },
      {
       "output_type": "stream",
       "stream": "stdout",
       "text": [
        "\n",
        "0.6"
       ]
      },
      {
       "output_type": "stream",
       "stream": "stdout",
       "text": [
        "\n",
        "0.6"
       ]
      },
      {
       "output_type": "stream",
       "stream": "stdout",
       "text": [
        "\n",
        "0.6"
       ]
      },
      {
       "output_type": "stream",
       "stream": "stdout",
       "text": [
        "\n",
        "0.5"
       ]
      },
      {
       "output_type": "stream",
       "stream": "stdout",
       "text": [
        "\n",
        "0.6"
       ]
      },
      {
       "output_type": "stream",
       "stream": "stdout",
       "text": [
        "\n",
        "0.6"
       ]
      },
      {
       "output_type": "stream",
       "stream": "stdout",
       "text": [
        "\n",
        "0.6"
       ]
      },
      {
       "output_type": "stream",
       "stream": "stdout",
       "text": [
        "\n",
        "/home/feurerm/thesis/experiments/2014_04_23_simple_metalearning/plots/bs"
       ]
      },
      {
       "output_type": "stream",
       "stream": "stdout",
       "text": [
        "\n",
        "[Errno 17] File exists: '/home/feurerm/thesis/experiments/2014_04_23_simple_metalearning/plots/bs'\n",
        "0.8"
       ]
      },
      {
       "output_type": "stream",
       "stream": "stdout",
       "text": [
        "\n",
        "0.8"
       ]
      },
      {
       "output_type": "stream",
       "stream": "stdout",
       "text": [
        "\n",
        "0.7"
       ]
      },
      {
       "output_type": "stream",
       "stream": "stdout",
       "text": [
        "\n",
        "0.8"
       ]
      },
      {
       "output_type": "stream",
       "stream": "stdout",
       "text": [
        "\n",
        "0.8"
       ]
      },
      {
       "output_type": "stream",
       "stream": "stdout",
       "text": [
        "\n",
        "0.7"
       ]
      },
      {
       "output_type": "stream",
       "stream": "stdout",
       "text": [
        "\n"
       ]
      }
     ],
     "prompt_number": 11
    },
    {
     "cell_type": "code",
     "collapsed": false,
     "input": [
      "# Plot the rankings\n",
      "num_folds = 1\n",
      "include_in_plots = {\"bs\": [\"Spearmint(Grid)\", \"MI-Spearmint(10,$L_1$,landmarking)\", \"MI-Spearmint(10,$L_1$,all)\"],\n",
      "                    \"smbo\": [\"SMAC\", \"TPE\", \"random\", \"Spearmint(Grid)\"],\n",
      "                    \"\": optimizers}\n",
      "rankings = {}\n",
      "\n",
      "for iip in include_in_plots:\n",
      "    num_datasets = 0\n",
      "    try:\n",
      "        print os.path.join(\"%s\" % plot_dir, \"%s\" % iip)\n",
      "        os.makedirs(os.path.join(\"%s\" % plot_dir, \"%s\" % iip))\n",
      "    except Exception as e:\n",
      "        print e\n",
      "\n",
      "    rankings[iip] = np.zeros((50, len(include_in_plots[iip])), dtype=np.float64)\n",
      "    for idx, dataset in enumerate(datasets):\n",
      "        dataset_rankings = np.zeros((50, len(include_in_plots)), dtype=np.float64)\n",
      "        for fold in range(num_folds):\n",
      "            dataset_dir = \"%s/did_%d_fold%d\" % (experiments_directory, dataset, fold)\n",
      "            plot_suffix = \"did_%d_fold%d\" % (dataset, fold)\n",
      "            if not os.path.isdir(dataset_dir) or \"did\" not in dataset_dir:\n",
      "                continue\n",
      "\n",
      "            print dataset_dir\n",
      "            num_datasets += 1\n",
      "\n",
      "            argument_list = []\n",
      "            for optimizer in include_in_plots[iip]:\n",
      "                pkls = glob.glob(optimizers[optimizer] % dataset_dir)\n",
      "                argument_list.append(optimizer)\n",
      "                argument_list.extend(pkls)\n",
      "\n",
      "            pkl_list_main, name_list_main = plot_util.get_pkl_and_name_list(argument_list)\n",
      "            ranking = meta_plot_util.plot_rankings(pkl_list_main, name_list_main, save=\"%s/%s/ranks_%s.pdf\" % (plot_dir, iip,  plot_suffix), figsize=(16,6))\n",
      "            #ranking = meta_plot_util.plot_rankings(pkl_list_main, name_list_main, save=\"%s/%s/ranks_%s.png\" % (plot_dir, iip,  plot_suffix), figsize=(16,6))\n",
      "            rankings[iip] += ranking\n",
      "\n"
     ],
     "language": "python",
     "metadata": {},
     "outputs": [
      {
       "output_type": "stream",
       "stream": "stdout",
       "text": [
        "/home/feurerm/thesis/experiments/2014_04_23_simple_metalearning/plots/\n",
        "[Errno 17] File exists: '/home/feurerm/thesis/experiments/2014_04_23_simple_metalearning/plots/'\n",
        "/home/feurerm/thesis/experiments/2014_04_23_simple_metalearning//did_2_fold0\n",
        "0.001"
       ]
      },
      {
       "output_type": "stream",
       "stream": "stdout",
       "text": [
        "\n",
        "/home/feurerm/thesis/experiments/2014_04_23_simple_metalearning//did_3_fold0"
       ]
      },
      {
       "output_type": "stream",
       "stream": "stdout",
       "text": [
        "\n",
        "0.001"
       ]
      },
      {
       "output_type": "stream",
       "stream": "stdout",
       "text": [
        "\n",
        "/home/feurerm/thesis/experiments/2014_04_23_simple_metalearning//did_4_fold0"
       ]
      },
      {
       "output_type": "stream",
       "stream": "stdout",
       "text": [
        "\n",
        "0.001"
       ]
      },
      {
       "output_type": "stream",
       "stream": "stdout",
       "text": [
        "\n",
        "/home/feurerm/thesis/experiments/2014_04_23_simple_metalearning//did_5_fold0"
       ]
      },
      {
       "output_type": "stream",
       "stream": "stdout",
       "text": [
        "\n",
        "0.001"
       ]
      },
      {
       "output_type": "stream",
       "stream": "stdout",
       "text": [
        "\n",
        "/home/feurerm/thesis/experiments/2014_04_23_simple_metalearning//did_6_fold0"
       ]
      },
      {
       "output_type": "stream",
       "stream": "stdout",
       "text": [
        "\n",
        "0.001"
       ]
      },
      {
       "output_type": "stream",
       "stream": "stdout",
       "text": [
        "\n",
        "/home/feurerm/thesis/experiments/2014_04_23_simple_metalearning//did_7_fold0"
       ]
      },
      {
       "output_type": "stream",
       "stream": "stdout",
       "text": [
        "\n",
        "0.001"
       ]
      },
      {
       "output_type": "stream",
       "stream": "stdout",
       "text": [
        "\n",
        "/home/feurerm/thesis/experiments/2014_04_23_simple_metalearning//did_8_fold0"
       ]
      },
      {
       "output_type": "stream",
       "stream": "stdout",
       "text": [
        "\n",
        "0.001"
       ]
      },
      {
       "output_type": "stream",
       "stream": "stdout",
       "text": [
        "\n",
        "/home/feurerm/thesis/experiments/2014_04_23_simple_metalearning//did_9_fold0"
       ]
      },
      {
       "output_type": "stream",
       "stream": "stdout",
       "text": [
        "\n",
        "0.001"
       ]
      },
      {
       "output_type": "stream",
       "stream": "stdout",
       "text": [
        "\n",
        "/home/feurerm/thesis/experiments/2014_04_23_simple_metalearning//did_10_fold0"
       ]
      },
      {
       "output_type": "stream",
       "stream": "stdout",
       "text": [
        "\n",
        "0.001"
       ]
      },
      {
       "output_type": "stream",
       "stream": "stdout",
       "text": [
        "\n",
        "/home/feurerm/thesis/experiments/2014_04_23_simple_metalearning//did_11_fold0"
       ]
      },
      {
       "output_type": "stream",
       "stream": "stdout",
       "text": [
        "\n",
        "0.001"
       ]
      },
      {
       "output_type": "stream",
       "stream": "stdout",
       "text": [
        "\n",
        "/home/feurerm/thesis/experiments/2014_04_23_simple_metalearning//did_12_fold0"
       ]
      },
      {
       "output_type": "stream",
       "stream": "stdout",
       "text": [
        "\n",
        "0.001"
       ]
      },
      {
       "output_type": "stream",
       "stream": "stdout",
       "text": [
        "\n",
        "/home/feurerm/thesis/experiments/2014_04_23_simple_metalearning//did_13_fold0"
       ]
      },
      {
       "output_type": "stream",
       "stream": "stdout",
       "text": [
        "\n",
        "0.001"
       ]
      },
      {
       "output_type": "stream",
       "stream": "stdout",
       "text": [
        "\n",
        "/home/feurerm/thesis/experiments/2014_04_23_simple_metalearning//did_14_fold0"
       ]
      },
      {
       "output_type": "stream",
       "stream": "stdout",
       "text": [
        "\n",
        "0.001"
       ]
      },
      {
       "output_type": "stream",
       "stream": "stdout",
       "text": [
        "\n",
        "/home/feurerm/thesis/experiments/2014_04_23_simple_metalearning//did_15_fold0"
       ]
      },
      {
       "output_type": "stream",
       "stream": "stdout",
       "text": [
        "\n",
        "0.001"
       ]
      },
      {
       "output_type": "stream",
       "stream": "stdout",
       "text": [
        "\n",
        "/home/feurerm/thesis/experiments/2014_04_23_simple_metalearning//did_16_fold0"
       ]
      },
      {
       "output_type": "stream",
       "stream": "stdout",
       "text": [
        "\n",
        "0.001"
       ]
      },
      {
       "output_type": "stream",
       "stream": "stdout",
       "text": [
        "\n",
        "/home/feurerm/thesis/experiments/2014_04_23_simple_metalearning//did_18_fold0"
       ]
      },
      {
       "output_type": "stream",
       "stream": "stdout",
       "text": [
        "\n",
        "0.001"
       ]
      },
      {
       "output_type": "stream",
       "stream": "stdout",
       "text": [
        "\n",
        "/home/feurerm/thesis/experiments/2014_04_23_simple_metalearning//did_20_fold0"
       ]
      },
      {
       "output_type": "stream",
       "stream": "stdout",
       "text": [
        "\n",
        "0.001"
       ]
      },
      {
       "output_type": "stream",
       "stream": "stdout",
       "text": [
        "\n",
        "/home/feurerm/thesis/experiments/2014_04_23_simple_metalearning//did_21_fold0"
       ]
      },
      {
       "output_type": "stream",
       "stream": "stdout",
       "text": [
        "\n",
        "0.001"
       ]
      },
      {
       "output_type": "stream",
       "stream": "stdout",
       "text": [
        "\n",
        "/home/feurerm/thesis/experiments/2014_04_23_simple_metalearning//did_22_fold0"
       ]
      },
      {
       "output_type": "stream",
       "stream": "stdout",
       "text": [
        "\n",
        "0.001"
       ]
      },
      {
       "output_type": "stream",
       "stream": "stdout",
       "text": [
        "\n",
        "/home/feurerm/thesis/experiments/2014_04_23_simple_metalearning//did_23_fold0"
       ]
      },
      {
       "output_type": "stream",
       "stream": "stdout",
       "text": [
        "\n",
        "0.001"
       ]
      },
      {
       "output_type": "stream",
       "stream": "stdout",
       "text": [
        "\n",
        "/home/feurerm/thesis/experiments/2014_04_23_simple_metalearning//did_24_fold0"
       ]
      },
      {
       "output_type": "stream",
       "stream": "stdout",
       "text": [
        "\n",
        "0.001"
       ]
      },
      {
       "output_type": "stream",
       "stream": "stdout",
       "text": [
        "\n",
        "/home/feurerm/thesis/experiments/2014_04_23_simple_metalearning//did_26_fold0"
       ]
      },
      {
       "output_type": "stream",
       "stream": "stdout",
       "text": [
        "\n",
        "0.001"
       ]
      },
      {
       "output_type": "stream",
       "stream": "stdout",
       "text": [
        "\n",
        "/home/feurerm/thesis/experiments/2014_04_23_simple_metalearning//did_28_fold0"
       ]
      },
      {
       "output_type": "stream",
       "stream": "stdout",
       "text": [
        "\n",
        "0.001"
       ]
      },
      {
       "output_type": "stream",
       "stream": "stdout",
       "text": [
        "\n",
        "/home/feurerm/thesis/experiments/2014_04_23_simple_metalearning//did_29_fold0"
       ]
      },
      {
       "output_type": "stream",
       "stream": "stdout",
       "text": [
        "\n",
        "0.001"
       ]
      },
      {
       "output_type": "stream",
       "stream": "stdout",
       "text": [
        "\n",
        "/home/feurerm/thesis/experiments/2014_04_23_simple_metalearning//did_30_fold0"
       ]
      },
      {
       "output_type": "stream",
       "stream": "stdout",
       "text": [
        "\n",
        "0.001"
       ]
      },
      {
       "output_type": "stream",
       "stream": "stdout",
       "text": [
        "\n",
        "/home/feurerm/thesis/experiments/2014_04_23_simple_metalearning//did_31_fold0"
       ]
      },
      {
       "output_type": "stream",
       "stream": "stdout",
       "text": [
        "\n",
        "0.001"
       ]
      },
      {
       "output_type": "stream",
       "stream": "stdout",
       "text": [
        "\n",
        "/home/feurerm/thesis/experiments/2014_04_23_simple_metalearning//did_32_fold0"
       ]
      },
      {
       "output_type": "stream",
       "stream": "stdout",
       "text": [
        "\n",
        "0.001"
       ]
      },
      {
       "output_type": "stream",
       "stream": "stdout",
       "text": [
        "\n",
        "/home/feurerm/thesis/experiments/2014_04_23_simple_metalearning//did_33_fold0"
       ]
      },
      {
       "output_type": "stream",
       "stream": "stdout",
       "text": [
        "\n",
        "0.001"
       ]
      },
      {
       "output_type": "stream",
       "stream": "stdout",
       "text": [
        "\n",
        "/home/feurerm/thesis/experiments/2014_04_23_simple_metalearning//did_34_fold0"
       ]
      },
      {
       "output_type": "stream",
       "stream": "stdout",
       "text": [
        "\n",
        "0.001"
       ]
      },
      {
       "output_type": "stream",
       "stream": "stdout",
       "text": [
        "\n",
        "/home/feurerm/thesis/experiments/2014_04_23_simple_metalearning//did_35_fold0"
       ]
      },
      {
       "output_type": "stream",
       "stream": "stdout",
       "text": [
        "\n",
        "0.001"
       ]
      },
      {
       "output_type": "stream",
       "stream": "stdout",
       "text": [
        "\n",
        "/home/feurerm/thesis/experiments/2014_04_23_simple_metalearning//did_36_fold0"
       ]
      },
      {
       "output_type": "stream",
       "stream": "stdout",
       "text": [
        "\n",
        "0.001"
       ]
      },
      {
       "output_type": "stream",
       "stream": "stdout",
       "text": [
        "\n",
        "/home/feurerm/thesis/experiments/2014_04_23_simple_metalearning//did_37_fold0"
       ]
      },
      {
       "output_type": "stream",
       "stream": "stdout",
       "text": [
        "\n",
        "0.001"
       ]
      },
      {
       "output_type": "stream",
       "stream": "stdout",
       "text": [
        "\n",
        "/home/feurerm/thesis/experiments/2014_04_23_simple_metalearning//did_39_fold0"
       ]
      },
      {
       "output_type": "stream",
       "stream": "stdout",
       "text": [
        "\n",
        "0.001"
       ]
      },
      {
       "output_type": "stream",
       "stream": "stdout",
       "text": [
        "\n",
        "/home/feurerm/thesis/experiments/2014_04_23_simple_metalearning//did_40_fold0"
       ]
      },
      {
       "output_type": "stream",
       "stream": "stdout",
       "text": [
        "\n",
        "0.001"
       ]
      },
      {
       "output_type": "stream",
       "stream": "stdout",
       "text": [
        "\n",
        "/home/feurerm/thesis/experiments/2014_04_23_simple_metalearning//did_41_fold0"
       ]
      },
      {
       "output_type": "stream",
       "stream": "stdout",
       "text": [
        "\n",
        "0.001"
       ]
      },
      {
       "output_type": "stream",
       "stream": "stdout",
       "text": [
        "\n",
        "/home/feurerm/thesis/experiments/2014_04_23_simple_metalearning//did_42_fold0"
       ]
      },
      {
       "output_type": "stream",
       "stream": "stdout",
       "text": [
        "\n",
        "0.001"
       ]
      },
      {
       "output_type": "stream",
       "stream": "stdout",
       "text": [
        "\n",
        "/home/feurerm/thesis/experiments/2014_04_23_simple_metalearning//did_43_fold0"
       ]
      },
      {
       "output_type": "stream",
       "stream": "stdout",
       "text": [
        "\n",
        "0.001"
       ]
      },
      {
       "output_type": "stream",
       "stream": "stdout",
       "text": [
        "\n",
        "/home/feurerm/thesis/experiments/2014_04_23_simple_metalearning//did_44_fold0"
       ]
      },
      {
       "output_type": "stream",
       "stream": "stdout",
       "text": [
        "\n",
        "0.001"
       ]
      },
      {
       "output_type": "stream",
       "stream": "stdout",
       "text": [
        "\n",
        "/home/feurerm/thesis/experiments/2014_04_23_simple_metalearning//did_48_fold0"
       ]
      },
      {
       "output_type": "stream",
       "stream": "stdout",
       "text": [
        "\n",
        "0.001"
       ]
      },
      {
       "output_type": "stream",
       "stream": "stdout",
       "text": [
        "\n",
        "/home/feurerm/thesis/experiments/2014_04_23_simple_metalearning//did_49_fold0"
       ]
      },
      {
       "output_type": "stream",
       "stream": "stdout",
       "text": [
        "\n",
        "0.001"
       ]
      },
      {
       "output_type": "stream",
       "stream": "stdout",
       "text": [
        "\n",
        "/home/feurerm/thesis/experiments/2014_04_23_simple_metalearning//did_50_fold0"
       ]
      },
      {
       "output_type": "stream",
       "stream": "stdout",
       "text": [
        "\n",
        "0.001"
       ]
      },
      {
       "output_type": "stream",
       "stream": "stdout",
       "text": [
        "\n",
        "/home/feurerm/thesis/experiments/2014_04_23_simple_metalearning//did_51_fold0"
       ]
      },
      {
       "output_type": "stream",
       "stream": "stdout",
       "text": [
        "\n",
        "0.001"
       ]
      },
      {
       "output_type": "stream",
       "stream": "stdout",
       "text": [
        "\n",
        "/home/feurerm/thesis/experiments/2014_04_23_simple_metalearning//did_53_fold0"
       ]
      },
      {
       "output_type": "stream",
       "stream": "stdout",
       "text": [
        "\n",
        "0.001"
       ]
      },
      {
       "output_type": "stream",
       "stream": "stdout",
       "text": [
        "\n",
        "/home/feurerm/thesis/experiments/2014_04_23_simple_metalearning//did_54_fold0"
       ]
      },
      {
       "output_type": "stream",
       "stream": "stdout",
       "text": [
        "\n",
        "0.001"
       ]
      },
      {
       "output_type": "stream",
       "stream": "stdout",
       "text": [
        "\n",
        "/home/feurerm/thesis/experiments/2014_04_23_simple_metalearning//did_55_fold0"
       ]
      },
      {
       "output_type": "stream",
       "stream": "stdout",
       "text": [
        "\n",
        "0.001"
       ]
      },
      {
       "output_type": "stream",
       "stream": "stdout",
       "text": [
        "\n",
        "/home/feurerm/thesis/experiments/2014_04_23_simple_metalearning//did_56_fold0"
       ]
      },
      {
       "output_type": "stream",
       "stream": "stdout",
       "text": [
        "\n",
        "0.001"
       ]
      },
      {
       "output_type": "stream",
       "stream": "stdout",
       "text": [
        "\n",
        "/home/feurerm/thesis/experiments/2014_04_23_simple_metalearning//did_58_fold0"
       ]
      },
      {
       "output_type": "stream",
       "stream": "stdout",
       "text": [
        "\n",
        "0.001"
       ]
      },
      {
       "output_type": "stream",
       "stream": "stdout",
       "text": [
        "\n",
        "/home/feurerm/thesis/experiments/2014_04_23_simple_metalearning//did_59_fold0"
       ]
      },
      {
       "output_type": "stream",
       "stream": "stdout",
       "text": [
        "\n",
        "0.001"
       ]
      },
      {
       "output_type": "stream",
       "stream": "stdout",
       "text": [
        "\n",
        "/home/feurerm/thesis/experiments/2014_04_23_simple_metalearning//did_60_fold0"
       ]
      },
      {
       "output_type": "stream",
       "stream": "stdout",
       "text": [
        "\n",
        "0.001"
       ]
      },
      {
       "output_type": "stream",
       "stream": "stdout",
       "text": [
        "\n",
        "/home/feurerm/thesis/experiments/2014_04_23_simple_metalearning//did_61_fold0"
       ]
      },
      {
       "output_type": "stream",
       "stream": "stdout",
       "text": [
        "\n",
        "0.001"
       ]
      },
      {
       "output_type": "stream",
       "stream": "stdout",
       "text": [
        "\n",
        "/home/feurerm/thesis/experiments/2014_04_23_simple_metalearning//did_62_fold0"
       ]
      },
      {
       "output_type": "stream",
       "stream": "stdout",
       "text": [
        "\n",
        "0.001"
       ]
      },
      {
       "output_type": "stream",
       "stream": "stdout",
       "text": [
        "\n",
        "/home/feurerm/thesis/experiments/2014_04_23_simple_metalearning//did_171_fold0"
       ]
      },
      {
       "output_type": "stream",
       "stream": "stdout",
       "text": [
        "\n",
        "0.001"
       ]
      },
      {
       "output_type": "stream",
       "stream": "stdout",
       "text": [
        "\n",
        "/home/feurerm/thesis/experiments/2014_04_23_simple_metalearning//did_181_fold0"
       ]
      },
      {
       "output_type": "stream",
       "stream": "stdout",
       "text": [
        "\n",
        "0.001"
       ]
      },
      {
       "output_type": "stream",
       "stream": "stdout",
       "text": [
        "\n",
        "/home/feurerm/thesis/experiments/2014_04_23_simple_metalearning//did_182_fold0"
       ]
      },
      {
       "output_type": "stream",
       "stream": "stdout",
       "text": [
        "\n",
        "0.001"
       ]
      },
      {
       "output_type": "stream",
       "stream": "stdout",
       "text": [
        "\n",
        "/home/feurerm/thesis/experiments/2014_04_23_simple_metalearning//did_183_fold0"
       ]
      },
      {
       "output_type": "stream",
       "stream": "stdout",
       "text": [
        "\n",
        "0.001"
       ]
      },
      {
       "output_type": "stream",
       "stream": "stdout",
       "text": [
        "\n",
        "/home/feurerm/thesis/experiments/2014_04_23_simple_metalearning//did_186_fold0"
       ]
      },
      {
       "output_type": "stream",
       "stream": "stdout",
       "text": [
        "\n",
        "0.001"
       ]
      },
      {
       "output_type": "stream",
       "stream": "stdout",
       "text": [
        "\n",
        "/home/feurerm/thesis/experiments/2014_04_23_simple_metalearning//did_188_fold0"
       ]
      },
      {
       "output_type": "stream",
       "stream": "stdout",
       "text": [
        "\n",
        "0.001"
       ]
      },
      {
       "output_type": "stream",
       "stream": "stdout",
       "text": [
        "\n",
        "/home/feurerm/thesis/experiments/2014_04_23_simple_metalearning/plots/smbo"
       ]
      },
      {
       "output_type": "stream",
       "stream": "stdout",
       "text": [
        "\n",
        "[Errno 17] File exists: '/home/feurerm/thesis/experiments/2014_04_23_simple_metalearning/plots/smbo'\n",
        "/home/feurerm/thesis/experiments/2014_04_23_simple_metalearning//did_2_fold0\n",
        "0.1\n",
        "/home/feurerm/thesis/experiments/2014_04_23_simple_metalearning//did_3_fold0"
       ]
      },
      {
       "output_type": "stream",
       "stream": "stdout",
       "text": [
        "\n",
        "0.1\n",
        "/home/feurerm/thesis/experiments/2014_04_23_simple_metalearning//did_4_fold0"
       ]
      },
      {
       "output_type": "stream",
       "stream": "stdout",
       "text": [
        "\n",
        "0.1\n",
        "/home/feurerm/thesis/experiments/2014_04_23_simple_metalearning//did_5_fold0"
       ]
      },
      {
       "output_type": "stream",
       "stream": "stdout",
       "text": [
        "\n",
        "0.1\n",
        "/home/feurerm/thesis/experiments/2014_04_23_simple_metalearning//did_6_fold0"
       ]
      },
      {
       "output_type": "stream",
       "stream": "stdout",
       "text": [
        "\n",
        "0.1"
       ]
      },
      {
       "output_type": "stream",
       "stream": "stdout",
       "text": [
        "\n",
        "/home/feurerm/thesis/experiments/2014_04_23_simple_metalearning//did_7_fold0"
       ]
      },
      {
       "output_type": "stream",
       "stream": "stdout",
       "text": [
        "\n",
        "0.1"
       ]
      },
      {
       "output_type": "stream",
       "stream": "stdout",
       "text": [
        "\n",
        "/home/feurerm/thesis/experiments/2014_04_23_simple_metalearning//did_8_fold0"
       ]
      },
      {
       "output_type": "stream",
       "stream": "stdout",
       "text": [
        "\n",
        "0.1"
       ]
      },
      {
       "output_type": "stream",
       "stream": "stdout",
       "text": [
        "\n",
        "/home/feurerm/thesis/experiments/2014_04_23_simple_metalearning//did_9_fold0"
       ]
      },
      {
       "output_type": "stream",
       "stream": "stdout",
       "text": [
        "\n",
        "0.1"
       ]
      },
      {
       "output_type": "stream",
       "stream": "stdout",
       "text": [
        "\n",
        "/home/feurerm/thesis/experiments/2014_04_23_simple_metalearning//did_10_fold0"
       ]
      },
      {
       "output_type": "stream",
       "stream": "stdout",
       "text": [
        "\n",
        "0.1\n",
        "/home/feurerm/thesis/experiments/2014_04_23_simple_metalearning//did_11_fold0"
       ]
      },
      {
       "output_type": "stream",
       "stream": "stdout",
       "text": [
        "\n",
        "0.1\n",
        "/home/feurerm/thesis/experiments/2014_04_23_simple_metalearning//did_12_fold0"
       ]
      },
      {
       "output_type": "stream",
       "stream": "stdout",
       "text": [
        "\n",
        "0.1"
       ]
      },
      {
       "output_type": "stream",
       "stream": "stdout",
       "text": [
        "\n",
        "/home/feurerm/thesis/experiments/2014_04_23_simple_metalearning//did_13_fold0"
       ]
      },
      {
       "output_type": "stream",
       "stream": "stdout",
       "text": [
        "\n",
        "0.1\n",
        "/home/feurerm/thesis/experiments/2014_04_23_simple_metalearning//did_14_fold0"
       ]
      },
      {
       "output_type": "stream",
       "stream": "stdout",
       "text": [
        "\n",
        "0.1"
       ]
      },
      {
       "output_type": "stream",
       "stream": "stdout",
       "text": [
        "\n",
        "/home/feurerm/thesis/experiments/2014_04_23_simple_metalearning//did_15_fold0"
       ]
      },
      {
       "output_type": "stream",
       "stream": "stdout",
       "text": [
        "\n",
        "0.1"
       ]
      },
      {
       "output_type": "stream",
       "stream": "stdout",
       "text": [
        "\n",
        "/home/feurerm/thesis/experiments/2014_04_23_simple_metalearning//did_16_fold0"
       ]
      },
      {
       "output_type": "stream",
       "stream": "stdout",
       "text": [
        "\n",
        "0.1"
       ]
      },
      {
       "output_type": "stream",
       "stream": "stdout",
       "text": [
        "\n",
        "/home/feurerm/thesis/experiments/2014_04_23_simple_metalearning//did_18_fold0"
       ]
      },
      {
       "output_type": "stream",
       "stream": "stdout",
       "text": [
        "\n",
        "0.1"
       ]
      },
      {
       "output_type": "stream",
       "stream": "stdout",
       "text": [
        "\n",
        "/home/feurerm/thesis/experiments/2014_04_23_simple_metalearning//did_20_fold0"
       ]
      },
      {
       "output_type": "stream",
       "stream": "stdout",
       "text": [
        "\n",
        "0.1"
       ]
      },
      {
       "output_type": "stream",
       "stream": "stdout",
       "text": [
        "\n",
        "/home/feurerm/thesis/experiments/2014_04_23_simple_metalearning//did_21_fold0"
       ]
      },
      {
       "output_type": "stream",
       "stream": "stdout",
       "text": [
        "\n",
        "0.1"
       ]
      },
      {
       "output_type": "stream",
       "stream": "stdout",
       "text": [
        "\n",
        "/home/feurerm/thesis/experiments/2014_04_23_simple_metalearning//did_22_fold0"
       ]
      },
      {
       "output_type": "stream",
       "stream": "stdout",
       "text": [
        "\n",
        "0.1\n",
        "/home/feurerm/thesis/experiments/2014_04_23_simple_metalearning//did_23_fold0"
       ]
      },
      {
       "output_type": "stream",
       "stream": "stdout",
       "text": [
        "\n",
        "0.1\n",
        "/home/feurerm/thesis/experiments/2014_04_23_simple_metalearning//did_24_fold0"
       ]
      },
      {
       "output_type": "stream",
       "stream": "stdout",
       "text": [
        "\n",
        "0.1"
       ]
      },
      {
       "output_type": "stream",
       "stream": "stdout",
       "text": [
        "\n",
        "/home/feurerm/thesis/experiments/2014_04_23_simple_metalearning//did_26_fold0"
       ]
      },
      {
       "output_type": "stream",
       "stream": "stdout",
       "text": [
        "\n",
        "0.1\n",
        "/home/feurerm/thesis/experiments/2014_04_23_simple_metalearning//did_28_fold0"
       ]
      },
      {
       "output_type": "stream",
       "stream": "stdout",
       "text": [
        "\n",
        "0.1\n",
        "/home/feurerm/thesis/experiments/2014_04_23_simple_metalearning//did_29_fold0"
       ]
      },
      {
       "output_type": "stream",
       "stream": "stdout",
       "text": [
        "\n",
        "0.1"
       ]
      },
      {
       "output_type": "stream",
       "stream": "stdout",
       "text": [
        "\n",
        "/home/feurerm/thesis/experiments/2014_04_23_simple_metalearning//did_30_fold0"
       ]
      },
      {
       "output_type": "stream",
       "stream": "stdout",
       "text": [
        "\n",
        "0.1\n",
        "/home/feurerm/thesis/experiments/2014_04_23_simple_metalearning//did_31_fold0"
       ]
      },
      {
       "output_type": "stream",
       "stream": "stdout",
       "text": [
        "\n",
        "0.1\n",
        "/home/feurerm/thesis/experiments/2014_04_23_simple_metalearning//did_32_fold0"
       ]
      },
      {
       "output_type": "stream",
       "stream": "stdout",
       "text": [
        "\n",
        "0.1\n",
        "/home/feurerm/thesis/experiments/2014_04_23_simple_metalearning//did_33_fold0"
       ]
      },
      {
       "output_type": "stream",
       "stream": "stdout",
       "text": [
        "\n",
        "0.1\n",
        "/home/feurerm/thesis/experiments/2014_04_23_simple_metalearning//did_34_fold0"
       ]
      },
      {
       "output_type": "stream",
       "stream": "stdout",
       "text": [
        "\n",
        "0.1"
       ]
      },
      {
       "output_type": "stream",
       "stream": "stdout",
       "text": [
        "\n",
        "/home/feurerm/thesis/experiments/2014_04_23_simple_metalearning//did_35_fold0"
       ]
      },
      {
       "output_type": "stream",
       "stream": "stdout",
       "text": [
        "\n",
        "0.1"
       ]
      },
      {
       "output_type": "stream",
       "stream": "stdout",
       "text": [
        "\n",
        "/home/feurerm/thesis/experiments/2014_04_23_simple_metalearning//did_36_fold0"
       ]
      },
      {
       "output_type": "stream",
       "stream": "stdout",
       "text": [
        "\n",
        "0.1"
       ]
      },
      {
       "output_type": "stream",
       "stream": "stdout",
       "text": [
        "\n",
        "/home/feurerm/thesis/experiments/2014_04_23_simple_metalearning//did_37_fold0"
       ]
      },
      {
       "output_type": "stream",
       "stream": "stdout",
       "text": [
        "\n",
        "0.1"
       ]
      },
      {
       "output_type": "stream",
       "stream": "stdout",
       "text": [
        "\n",
        "/home/feurerm/thesis/experiments/2014_04_23_simple_metalearning//did_39_fold0"
       ]
      },
      {
       "output_type": "stream",
       "stream": "stdout",
       "text": [
        "\n",
        "0.1\n",
        "/home/feurerm/thesis/experiments/2014_04_23_simple_metalearning//did_40_fold0"
       ]
      },
      {
       "output_type": "stream",
       "stream": "stdout",
       "text": [
        "\n",
        "0.1"
       ]
      },
      {
       "output_type": "stream",
       "stream": "stdout",
       "text": [
        "\n",
        "/home/feurerm/thesis/experiments/2014_04_23_simple_metalearning//did_41_fold0"
       ]
      },
      {
       "output_type": "stream",
       "stream": "stdout",
       "text": [
        "\n",
        "0.1"
       ]
      },
      {
       "output_type": "stream",
       "stream": "stdout",
       "text": [
        "\n",
        "/home/feurerm/thesis/experiments/2014_04_23_simple_metalearning//did_42_fold0"
       ]
      },
      {
       "output_type": "stream",
       "stream": "stdout",
       "text": [
        "\n",
        "0.1"
       ]
      },
      {
       "output_type": "stream",
       "stream": "stdout",
       "text": [
        "\n",
        "/home/feurerm/thesis/experiments/2014_04_23_simple_metalearning//did_43_fold0"
       ]
      },
      {
       "output_type": "stream",
       "stream": "stdout",
       "text": [
        "\n",
        "0.1"
       ]
      },
      {
       "output_type": "stream",
       "stream": "stdout",
       "text": [
        "\n",
        "/home/feurerm/thesis/experiments/2014_04_23_simple_metalearning//did_44_fold0"
       ]
      },
      {
       "output_type": "stream",
       "stream": "stdout",
       "text": [
        "\n",
        "0.1"
       ]
      },
      {
       "output_type": "stream",
       "stream": "stdout",
       "text": [
        "\n",
        "/home/feurerm/thesis/experiments/2014_04_23_simple_metalearning//did_48_fold0"
       ]
      },
      {
       "output_type": "stream",
       "stream": "stdout",
       "text": [
        "\n",
        "0.1"
       ]
      },
      {
       "output_type": "stream",
       "stream": "stdout",
       "text": [
        "\n",
        "/home/feurerm/thesis/experiments/2014_04_23_simple_metalearning//did_49_fold0"
       ]
      },
      {
       "output_type": "stream",
       "stream": "stdout",
       "text": [
        "\n",
        "0.1"
       ]
      },
      {
       "output_type": "stream",
       "stream": "stdout",
       "text": [
        "\n",
        "/home/feurerm/thesis/experiments/2014_04_23_simple_metalearning//did_50_fold0"
       ]
      },
      {
       "output_type": "stream",
       "stream": "stdout",
       "text": [
        "\n",
        "0.1"
       ]
      },
      {
       "output_type": "stream",
       "stream": "stdout",
       "text": [
        "\n",
        "/home/feurerm/thesis/experiments/2014_04_23_simple_metalearning//did_51_fold0"
       ]
      },
      {
       "output_type": "stream",
       "stream": "stdout",
       "text": [
        "\n",
        "0.1"
       ]
      },
      {
       "output_type": "stream",
       "stream": "stdout",
       "text": [
        "\n",
        "/home/feurerm/thesis/experiments/2014_04_23_simple_metalearning//did_53_fold0"
       ]
      },
      {
       "output_type": "stream",
       "stream": "stdout",
       "text": [
        "\n",
        "0.1"
       ]
      },
      {
       "output_type": "stream",
       "stream": "stdout",
       "text": [
        "\n",
        "/home/feurerm/thesis/experiments/2014_04_23_simple_metalearning//did_54_fold0"
       ]
      },
      {
       "output_type": "stream",
       "stream": "stdout",
       "text": [
        "\n",
        "0.1"
       ]
      },
      {
       "output_type": "stream",
       "stream": "stdout",
       "text": [
        "\n",
        "/home/feurerm/thesis/experiments/2014_04_23_simple_metalearning//did_55_fold0"
       ]
      },
      {
       "output_type": "stream",
       "stream": "stdout",
       "text": [
        "\n",
        "0.1"
       ]
      },
      {
       "output_type": "stream",
       "stream": "stdout",
       "text": [
        "\n",
        "/home/feurerm/thesis/experiments/2014_04_23_simple_metalearning//did_56_fold0"
       ]
      },
      {
       "output_type": "stream",
       "stream": "stdout",
       "text": [
        "\n",
        "0.1"
       ]
      },
      {
       "output_type": "stream",
       "stream": "stdout",
       "text": [
        "\n",
        "/home/feurerm/thesis/experiments/2014_04_23_simple_metalearning//did_58_fold0"
       ]
      },
      {
       "output_type": "stream",
       "stream": "stdout",
       "text": [
        "\n",
        "0.1"
       ]
      },
      {
       "output_type": "stream",
       "stream": "stdout",
       "text": [
        "\n",
        "/home/feurerm/thesis/experiments/2014_04_23_simple_metalearning//did_59_fold0"
       ]
      },
      {
       "output_type": "stream",
       "stream": "stdout",
       "text": [
        "\n",
        "0.1"
       ]
      },
      {
       "output_type": "stream",
       "stream": "stdout",
       "text": [
        "\n",
        "/home/feurerm/thesis/experiments/2014_04_23_simple_metalearning//did_60_fold0"
       ]
      },
      {
       "output_type": "stream",
       "stream": "stdout",
       "text": [
        "\n",
        "0.1"
       ]
      },
      {
       "output_type": "stream",
       "stream": "stdout",
       "text": [
        "\n",
        "/home/feurerm/thesis/experiments/2014_04_23_simple_metalearning//did_61_fold0"
       ]
      },
      {
       "output_type": "stream",
       "stream": "stdout",
       "text": [
        "\n",
        "0.1"
       ]
      },
      {
       "output_type": "stream",
       "stream": "stdout",
       "text": [
        "\n",
        "/home/feurerm/thesis/experiments/2014_04_23_simple_metalearning//did_62_fold0"
       ]
      },
      {
       "output_type": "stream",
       "stream": "stdout",
       "text": [
        "\n",
        "0.1"
       ]
      },
      {
       "output_type": "stream",
       "stream": "stdout",
       "text": [
        "\n",
        "/home/feurerm/thesis/experiments/2014_04_23_simple_metalearning//did_171_fold0"
       ]
      },
      {
       "output_type": "stream",
       "stream": "stdout",
       "text": [
        "\n",
        "0.1"
       ]
      },
      {
       "output_type": "stream",
       "stream": "stdout",
       "text": [
        "\n",
        "/home/feurerm/thesis/experiments/2014_04_23_simple_metalearning//did_181_fold0"
       ]
      },
      {
       "output_type": "stream",
       "stream": "stdout",
       "text": [
        "\n",
        "0.1"
       ]
      },
      {
       "output_type": "stream",
       "stream": "stdout",
       "text": [
        "\n",
        "/home/feurerm/thesis/experiments/2014_04_23_simple_metalearning//did_182_fold0"
       ]
      },
      {
       "output_type": "stream",
       "stream": "stdout",
       "text": [
        "\n",
        "0.1"
       ]
      },
      {
       "output_type": "stream",
       "stream": "stdout",
       "text": [
        "\n",
        "/home/feurerm/thesis/experiments/2014_04_23_simple_metalearning//did_183_fold0"
       ]
      },
      {
       "output_type": "stream",
       "stream": "stdout",
       "text": [
        "\n",
        "0.1"
       ]
      },
      {
       "output_type": "stream",
       "stream": "stdout",
       "text": [
        "\n",
        "/home/feurerm/thesis/experiments/2014_04_23_simple_metalearning//did_186_fold0"
       ]
      },
      {
       "output_type": "stream",
       "stream": "stdout",
       "text": [
        "\n",
        "0.1"
       ]
      },
      {
       "output_type": "stream",
       "stream": "stdout",
       "text": [
        "\n",
        "/home/feurerm/thesis/experiments/2014_04_23_simple_metalearning//did_188_fold0"
       ]
      },
      {
       "output_type": "stream",
       "stream": "stdout",
       "text": [
        "\n",
        "0.1"
       ]
      },
      {
       "output_type": "stream",
       "stream": "stdout",
       "text": [
        "\n",
        "/home/feurerm/thesis/experiments/2014_04_23_simple_metalearning/plots/bs"
       ]
      },
      {
       "output_type": "stream",
       "stream": "stdout",
       "text": [
        "\n",
        "[Errno 17] File exists: '/home/feurerm/thesis/experiments/2014_04_23_simple_metalearning/plots/bs'\n",
        "/home/feurerm/thesis/experiments/2014_04_23_simple_metalearning//did_2_fold0\n",
        "1.0"
       ]
      },
      {
       "output_type": "stream",
       "stream": "stdout",
       "text": [
        "\n",
        "/home/feurerm/thesis/experiments/2014_04_23_simple_metalearning//did_3_fold0"
       ]
      },
      {
       "output_type": "stream",
       "stream": "stdout",
       "text": [
        "\n",
        "1.0\n",
        "/home/feurerm/thesis/experiments/2014_04_23_simple_metalearning//did_4_fold0"
       ]
      },
      {
       "output_type": "stream",
       "stream": "stdout",
       "text": [
        "\n",
        "1.0"
       ]
      },
      {
       "output_type": "stream",
       "stream": "stdout",
       "text": [
        "\n",
        "/home/feurerm/thesis/experiments/2014_04_23_simple_metalearning//did_5_fold0"
       ]
      },
      {
       "output_type": "stream",
       "stream": "stdout",
       "text": [
        "\n",
        "1.0"
       ]
      },
      {
       "output_type": "stream",
       "stream": "stdout",
       "text": [
        "\n",
        "/home/feurerm/thesis/experiments/2014_04_23_simple_metalearning//did_6_fold0"
       ]
      },
      {
       "output_type": "stream",
       "stream": "stdout",
       "text": [
        "\n",
        "1.0"
       ]
      },
      {
       "output_type": "stream",
       "stream": "stdout",
       "text": [
        "\n",
        "/home/feurerm/thesis/experiments/2014_04_23_simple_metalearning//did_7_fold0"
       ]
      },
      {
       "output_type": "stream",
       "stream": "stdout",
       "text": [
        "\n",
        "1.0"
       ]
      },
      {
       "output_type": "stream",
       "stream": "stdout",
       "text": [
        "\n",
        "/home/feurerm/thesis/experiments/2014_04_23_simple_metalearning//did_8_fold0"
       ]
      },
      {
       "output_type": "stream",
       "stream": "stdout",
       "text": [
        "\n",
        "1.0"
       ]
      },
      {
       "output_type": "stream",
       "stream": "stdout",
       "text": [
        "\n",
        "/home/feurerm/thesis/experiments/2014_04_23_simple_metalearning//did_9_fold0"
       ]
      },
      {
       "output_type": "stream",
       "stream": "stdout",
       "text": [
        "\n",
        "1.0"
       ]
      },
      {
       "output_type": "stream",
       "stream": "stdout",
       "text": [
        "\n",
        "/home/feurerm/thesis/experiments/2014_04_23_simple_metalearning//did_10_fold0"
       ]
      },
      {
       "output_type": "stream",
       "stream": "stdout",
       "text": [
        "\n",
        "1.0\n",
        "/home/feurerm/thesis/experiments/2014_04_23_simple_metalearning//did_11_fold0"
       ]
      },
      {
       "output_type": "stream",
       "stream": "stdout",
       "text": [
        "\n",
        "1.0"
       ]
      },
      {
       "output_type": "stream",
       "stream": "stdout",
       "text": [
        "\n",
        "/home/feurerm/thesis/experiments/2014_04_23_simple_metalearning//did_12_fold0"
       ]
      },
      {
       "output_type": "stream",
       "stream": "stdout",
       "text": [
        "\n",
        "1.0"
       ]
      },
      {
       "output_type": "stream",
       "stream": "stdout",
       "text": [
        "\n",
        "/home/feurerm/thesis/experiments/2014_04_23_simple_metalearning//did_13_fold0"
       ]
      },
      {
       "output_type": "stream",
       "stream": "stdout",
       "text": [
        "\n",
        "1.0"
       ]
      },
      {
       "output_type": "stream",
       "stream": "stdout",
       "text": [
        "\n",
        "/home/feurerm/thesis/experiments/2014_04_23_simple_metalearning//did_14_fold0"
       ]
      },
      {
       "output_type": "stream",
       "stream": "stdout",
       "text": [
        "\n",
        "1.0"
       ]
      },
      {
       "output_type": "stream",
       "stream": "stdout",
       "text": [
        "\n",
        "/home/feurerm/thesis/experiments/2014_04_23_simple_metalearning//did_15_fold0"
       ]
      },
      {
       "output_type": "stream",
       "stream": "stdout",
       "text": [
        "\n",
        "1.0"
       ]
      },
      {
       "output_type": "stream",
       "stream": "stdout",
       "text": [
        "\n",
        "/home/feurerm/thesis/experiments/2014_04_23_simple_metalearning//did_16_fold0"
       ]
      },
      {
       "output_type": "stream",
       "stream": "stdout",
       "text": [
        "\n",
        "1.0"
       ]
      },
      {
       "output_type": "stream",
       "stream": "stdout",
       "text": [
        "\n",
        "/home/feurerm/thesis/experiments/2014_04_23_simple_metalearning//did_18_fold0"
       ]
      },
      {
       "output_type": "stream",
       "stream": "stdout",
       "text": [
        "\n",
        "1.0"
       ]
      },
      {
       "output_type": "stream",
       "stream": "stdout",
       "text": [
        "\n",
        "/home/feurerm/thesis/experiments/2014_04_23_simple_metalearning//did_20_fold0"
       ]
      },
      {
       "output_type": "stream",
       "stream": "stdout",
       "text": [
        "\n",
        "1.0"
       ]
      },
      {
       "output_type": "stream",
       "stream": "stdout",
       "text": [
        "\n",
        "/home/feurerm/thesis/experiments/2014_04_23_simple_metalearning//did_21_fold0"
       ]
      },
      {
       "output_type": "stream",
       "stream": "stdout",
       "text": [
        "\n",
        "1.0"
       ]
      },
      {
       "output_type": "stream",
       "stream": "stdout",
       "text": [
        "\n",
        "/home/feurerm/thesis/experiments/2014_04_23_simple_metalearning//did_22_fold0"
       ]
      },
      {
       "output_type": "stream",
       "stream": "stdout",
       "text": [
        "\n",
        "1.0"
       ]
      },
      {
       "output_type": "stream",
       "stream": "stdout",
       "text": [
        "\n",
        "/home/feurerm/thesis/experiments/2014_04_23_simple_metalearning//did_23_fold0"
       ]
      },
      {
       "output_type": "stream",
       "stream": "stdout",
       "text": [
        "\n",
        "1.0"
       ]
      },
      {
       "output_type": "stream",
       "stream": "stdout",
       "text": [
        "\n",
        "/home/feurerm/thesis/experiments/2014_04_23_simple_metalearning//did_24_fold0"
       ]
      },
      {
       "output_type": "stream",
       "stream": "stdout",
       "text": [
        "\n",
        "1.0"
       ]
      },
      {
       "output_type": "stream",
       "stream": "stdout",
       "text": [
        "\n",
        "/home/feurerm/thesis/experiments/2014_04_23_simple_metalearning//did_26_fold0"
       ]
      },
      {
       "output_type": "stream",
       "stream": "stdout",
       "text": [
        "\n",
        "1.0"
       ]
      },
      {
       "output_type": "stream",
       "stream": "stdout",
       "text": [
        "\n",
        "/home/feurerm/thesis/experiments/2014_04_23_simple_metalearning//did_28_fold0"
       ]
      },
      {
       "output_type": "stream",
       "stream": "stdout",
       "text": [
        "\n",
        "1.0"
       ]
      },
      {
       "output_type": "stream",
       "stream": "stdout",
       "text": [
        "\n",
        "/home/feurerm/thesis/experiments/2014_04_23_simple_metalearning//did_29_fold0"
       ]
      },
      {
       "output_type": "stream",
       "stream": "stdout",
       "text": [
        "\n",
        "1.0"
       ]
      },
      {
       "output_type": "stream",
       "stream": "stdout",
       "text": [
        "\n",
        "/home/feurerm/thesis/experiments/2014_04_23_simple_metalearning//did_30_fold0"
       ]
      },
      {
       "output_type": "stream",
       "stream": "stdout",
       "text": [
        "\n",
        "1.0"
       ]
      },
      {
       "output_type": "stream",
       "stream": "stdout",
       "text": [
        "\n",
        "/home/feurerm/thesis/experiments/2014_04_23_simple_metalearning//did_31_fold0"
       ]
      },
      {
       "output_type": "stream",
       "stream": "stdout",
       "text": [
        "\n",
        "1.0"
       ]
      },
      {
       "output_type": "stream",
       "stream": "stdout",
       "text": [
        "\n",
        "/home/feurerm/thesis/experiments/2014_04_23_simple_metalearning//did_32_fold0"
       ]
      },
      {
       "output_type": "stream",
       "stream": "stdout",
       "text": [
        "\n",
        "1.0"
       ]
      },
      {
       "output_type": "stream",
       "stream": "stdout",
       "text": [
        "\n",
        "/home/feurerm/thesis/experiments/2014_04_23_simple_metalearning//did_33_fold0"
       ]
      },
      {
       "output_type": "stream",
       "stream": "stdout",
       "text": [
        "\n",
        "1.0"
       ]
      },
      {
       "output_type": "stream",
       "stream": "stdout",
       "text": [
        "\n",
        "/home/feurerm/thesis/experiments/2014_04_23_simple_metalearning//did_34_fold0"
       ]
      },
      {
       "output_type": "stream",
       "stream": "stdout",
       "text": [
        "\n",
        "1.0"
       ]
      },
      {
       "output_type": "stream",
       "stream": "stdout",
       "text": [
        "\n",
        "/home/feurerm/thesis/experiments/2014_04_23_simple_metalearning//did_35_fold0"
       ]
      },
      {
       "output_type": "stream",
       "stream": "stdout",
       "text": [
        "\n",
        "1.0"
       ]
      },
      {
       "output_type": "stream",
       "stream": "stdout",
       "text": [
        "\n",
        "/home/feurerm/thesis/experiments/2014_04_23_simple_metalearning//did_36_fold0"
       ]
      },
      {
       "output_type": "stream",
       "stream": "stdout",
       "text": [
        "\n",
        "1.0"
       ]
      },
      {
       "output_type": "stream",
       "stream": "stdout",
       "text": [
        "\n",
        "/home/feurerm/thesis/experiments/2014_04_23_simple_metalearning//did_37_fold0"
       ]
      },
      {
       "output_type": "stream",
       "stream": "stdout",
       "text": [
        "\n",
        "1.0"
       ]
      },
      {
       "output_type": "stream",
       "stream": "stdout",
       "text": [
        "\n",
        "/home/feurerm/thesis/experiments/2014_04_23_simple_metalearning//did_39_fold0"
       ]
      },
      {
       "output_type": "stream",
       "stream": "stdout",
       "text": [
        "\n",
        "1.0"
       ]
      },
      {
       "output_type": "stream",
       "stream": "stdout",
       "text": [
        "\n",
        "/home/feurerm/thesis/experiments/2014_04_23_simple_metalearning//did_40_fold0"
       ]
      },
      {
       "output_type": "stream",
       "stream": "stdout",
       "text": [
        "\n",
        "1.0"
       ]
      },
      {
       "output_type": "stream",
       "stream": "stdout",
       "text": [
        "\n",
        "/home/feurerm/thesis/experiments/2014_04_23_simple_metalearning//did_41_fold0"
       ]
      },
      {
       "output_type": "stream",
       "stream": "stdout",
       "text": [
        "\n",
        "1.0"
       ]
      },
      {
       "output_type": "stream",
       "stream": "stdout",
       "text": [
        "\n",
        "/home/feurerm/thesis/experiments/2014_04_23_simple_metalearning//did_42_fold0"
       ]
      },
      {
       "output_type": "stream",
       "stream": "stdout",
       "text": [
        "\n",
        "1.0"
       ]
      },
      {
       "output_type": "stream",
       "stream": "stdout",
       "text": [
        "\n",
        "/home/feurerm/thesis/experiments/2014_04_23_simple_metalearning//did_43_fold0"
       ]
      },
      {
       "output_type": "stream",
       "stream": "stdout",
       "text": [
        "\n",
        "1.0"
       ]
      },
      {
       "output_type": "stream",
       "stream": "stdout",
       "text": [
        "\n",
        "/home/feurerm/thesis/experiments/2014_04_23_simple_metalearning//did_44_fold0"
       ]
      },
      {
       "output_type": "stream",
       "stream": "stdout",
       "text": [
        "\n",
        "1.0"
       ]
      },
      {
       "output_type": "stream",
       "stream": "stdout",
       "text": [
        "\n",
        "/home/feurerm/thesis/experiments/2014_04_23_simple_metalearning//did_48_fold0"
       ]
      },
      {
       "output_type": "stream",
       "stream": "stdout",
       "text": [
        "\n",
        "1.0"
       ]
      },
      {
       "output_type": "stream",
       "stream": "stdout",
       "text": [
        "\n",
        "/home/feurerm/thesis/experiments/2014_04_23_simple_metalearning//did_49_fold0"
       ]
      },
      {
       "output_type": "stream",
       "stream": "stdout",
       "text": [
        "\n",
        "1.0"
       ]
      },
      {
       "output_type": "stream",
       "stream": "stdout",
       "text": [
        "\n",
        "/home/feurerm/thesis/experiments/2014_04_23_simple_metalearning//did_50_fold0"
       ]
      },
      {
       "output_type": "stream",
       "stream": "stdout",
       "text": [
        "\n",
        "1.0"
       ]
      },
      {
       "output_type": "stream",
       "stream": "stdout",
       "text": [
        "\n",
        "/home/feurerm/thesis/experiments/2014_04_23_simple_metalearning//did_51_fold0"
       ]
      },
      {
       "output_type": "stream",
       "stream": "stdout",
       "text": [
        "\n",
        "1.0"
       ]
      },
      {
       "output_type": "stream",
       "stream": "stdout",
       "text": [
        "\n",
        "/home/feurerm/thesis/experiments/2014_04_23_simple_metalearning//did_53_fold0"
       ]
      },
      {
       "output_type": "stream",
       "stream": "stdout",
       "text": [
        "\n",
        "1.0"
       ]
      },
      {
       "output_type": "stream",
       "stream": "stdout",
       "text": [
        "\n",
        "/home/feurerm/thesis/experiments/2014_04_23_simple_metalearning//did_54_fold0"
       ]
      },
      {
       "output_type": "stream",
       "stream": "stdout",
       "text": [
        "\n",
        "1.0"
       ]
      },
      {
       "output_type": "stream",
       "stream": "stdout",
       "text": [
        "\n",
        "/home/feurerm/thesis/experiments/2014_04_23_simple_metalearning//did_55_fold0"
       ]
      },
      {
       "output_type": "stream",
       "stream": "stdout",
       "text": [
        "\n",
        "1.0"
       ]
      },
      {
       "output_type": "stream",
       "stream": "stdout",
       "text": [
        "\n",
        "/home/feurerm/thesis/experiments/2014_04_23_simple_metalearning//did_56_fold0"
       ]
      },
      {
       "output_type": "stream",
       "stream": "stdout",
       "text": [
        "\n",
        "1.0"
       ]
      },
      {
       "output_type": "stream",
       "stream": "stdout",
       "text": [
        "\n",
        "/home/feurerm/thesis/experiments/2014_04_23_simple_metalearning//did_58_fold0"
       ]
      },
      {
       "output_type": "stream",
       "stream": "stdout",
       "text": [
        "\n",
        "1.0"
       ]
      },
      {
       "output_type": "stream",
       "stream": "stdout",
       "text": [
        "\n",
        "/home/feurerm/thesis/experiments/2014_04_23_simple_metalearning//did_59_fold0"
       ]
      },
      {
       "output_type": "stream",
       "stream": "stdout",
       "text": [
        "\n",
        "1.0"
       ]
      },
      {
       "output_type": "stream",
       "stream": "stdout",
       "text": [
        "\n",
        "/home/feurerm/thesis/experiments/2014_04_23_simple_metalearning//did_60_fold0"
       ]
      },
      {
       "output_type": "stream",
       "stream": "stdout",
       "text": [
        "\n",
        "1.0"
       ]
      },
      {
       "output_type": "stream",
       "stream": "stdout",
       "text": [
        "\n",
        "/home/feurerm/thesis/experiments/2014_04_23_simple_metalearning//did_61_fold0"
       ]
      },
      {
       "output_type": "stream",
       "stream": "stdout",
       "text": [
        "\n",
        "1.0"
       ]
      },
      {
       "output_type": "stream",
       "stream": "stdout",
       "text": [
        "\n",
        "/home/feurerm/thesis/experiments/2014_04_23_simple_metalearning//did_62_fold0"
       ]
      },
      {
       "output_type": "stream",
       "stream": "stdout",
       "text": [
        "\n",
        "1.0"
       ]
      },
      {
       "output_type": "stream",
       "stream": "stdout",
       "text": [
        "\n",
        "/home/feurerm/thesis/experiments/2014_04_23_simple_metalearning//did_171_fold0"
       ]
      },
      {
       "output_type": "stream",
       "stream": "stdout",
       "text": [
        "\n",
        "1.0"
       ]
      },
      {
       "output_type": "stream",
       "stream": "stdout",
       "text": [
        "\n",
        "/home/feurerm/thesis/experiments/2014_04_23_simple_metalearning//did_181_fold0"
       ]
      },
      {
       "output_type": "stream",
       "stream": "stdout",
       "text": [
        "\n",
        "1.0"
       ]
      },
      {
       "output_type": "stream",
       "stream": "stdout",
       "text": [
        "\n",
        "/home/feurerm/thesis/experiments/2014_04_23_simple_metalearning//did_182_fold0"
       ]
      },
      {
       "output_type": "stream",
       "stream": "stdout",
       "text": [
        "\n",
        "1.0"
       ]
      },
      {
       "output_type": "stream",
       "stream": "stdout",
       "text": [
        "\n",
        "/home/feurerm/thesis/experiments/2014_04_23_simple_metalearning//did_183_fold0"
       ]
      },
      {
       "output_type": "stream",
       "stream": "stdout",
       "text": [
        "\n",
        "1.0"
       ]
      },
      {
       "output_type": "stream",
       "stream": "stdout",
       "text": [
        "\n",
        "/home/feurerm/thesis/experiments/2014_04_23_simple_metalearning//did_186_fold0"
       ]
      },
      {
       "output_type": "stream",
       "stream": "stdout",
       "text": [
        "\n",
        "1.0"
       ]
      },
      {
       "output_type": "stream",
       "stream": "stdout",
       "text": [
        "\n",
        "/home/feurerm/thesis/experiments/2014_04_23_simple_metalearning//did_188_fold0"
       ]
      },
      {
       "output_type": "stream",
       "stream": "stdout",
       "text": [
        "\n",
        "1.0"
       ]
      },
      {
       "output_type": "stream",
       "stream": "stdout",
       "text": [
        "\n"
       ]
      }
     ],
     "prompt_number": 22
    },
    {
     "cell_type": "code",
     "collapsed": false,
     "input": [
      "################################################################################\n",
      "# draw a ranking graph averaged over all datasets\n",
      "\n",
      "for iip in include_in_plots:\n",
      "    \n",
      "    plt.figure(dpi=600, figsize=(9, 6))\n",
      "    ax = plt.subplot(111)\n",
      "    colors = plot_util.get_plot_colors()\n",
      "    ranks = rankings[iip] / float(num_datasets)\n",
      "    for i, optimizer in enumerate(include_in_plots[iip]):\n",
      "            ax.plot(range(1, 51), ranks[:, i], color=colors.next(),\n",
      "            linewidth=3, label=optimizer.replace(\"\\\\\", \"\"))\n",
      "\n",
      "    ax.legend(loc='upper center', bbox_to_anchor=(0.5, -0.05),\n",
      "              fancybox=True, shadow=True, ncol=3, labelspacing=0.25, fontsize=12)\n",
      "    box = ax.get_position()\n",
      "\n",
      "    ax.set_position([box.x0, box.y0 + box.height * 0.1,\n",
      "                 box.width, box.height * 0.9])\n",
      "    for plot_suffix in ['png', 'pdf']:\n",
      "        plt.savefig(\"%s/%s/all_datasets.%s\" % (plot_dir, iip, plot_suffix))"
     ],
     "language": "python",
     "metadata": {},
     "outputs": [
      {
       "metadata": {},
       "output_type": "display_data",
       "png": "[encoded data removed]",
       "text": [
        "<matplotlib.figure.Figure at 0x7fda5f4e8950>"
       ]
      },
      {
       "metadata": {},
       "output_type": "display_data",
       "png": "[encoded data removed]",
       "text": [
        "<matplotlib.figure.Figure at 0x7fda45e859d0>"
       ]
      },
      {
       "metadata": {},
       "output_type": "display_data",
       "png": "[encoded data removed]",
       "text": [
        "<matplotlib.figure.Figure at 0x7fdafb58af10>"
       ]
      }
     ],
     "prompt_number": 23
    },
    {
     "cell_type": "code",
     "collapsed": false,
     "input": [
      "####################################################################\n",
      "# For a dataset, write out which hyperparameters are selected by all\n",
      "# metafeatures and the pfahringer metafeatures\n",
      "plot_dir = \"/home/feurerm/tmp/simple_metalearning_plots/\"\n",
      "num_folds = 1\n",
      "\n",
      "for idx, dataset in enumerate(datasets):\n",
      "    for fold in range(num_folds):\n",
      "        dataset_dir = \"%s/did_%d_fold%d\" % (experiments_directory, dataset, fold)\n",
      "        plot_suffix = \"did_%d_fold%d\" % (dataset, fold)\n",
      "        if not os.path.isdir(dataset_dir) or \"did\" not in dataset_dir:\n",
      "            continue\n",
      "            \n",
      "        ground_truth = meta_plot_util.find_ground_truth(os.path.join(ground_truth_dir,\n",
      "                                                        \"did_%d_fold%s\" % (dataset, fold),\n",
      "                                                        \"gridsearch_*\",\n",
      "                                                        \"gridsearch.pkl\"))\n",
      "        if not ground_truth:\n",
      "            continue\n",
      "        optimum, trial_index = plot_util.get_best_value_and_index(ground_truth)\n",
      "        best_parameters = ground_truth['trials'][trial_index]['params']\n",
      "        \n",
      "        \n",
      "        metafeatures_all_file = glob.glob(\"%s/l1_allmetalearn_optimizer_*/l1_allmetalearn_optimizer.pkl\" % dataset_dir)\n",
      "        assert len(metafeatures_all_file) == 1\n",
      "        with open(metafeatures_all_file[0]) as fh:\n",
      "            metafeatures_all_trials = cPickle.load(fh)\n",
      "            \n",
      "        metafeatures_pfahringer_file = glob.glob(\"%s/l1_pfahringer_2000_experiment1\"\n",
      "            \"metalearn_optimizer_*/l1_pfahringer_2000_experiment1metalearn_optimizer.pkl\" % dataset_dir)\n",
      "        assert len(metafeatures_pfahringer_file) == 1\n",
      "        with open(metafeatures_pfahringer_file[0]) as fh:\n",
      "            metafeatures_pfahringer_trials = cPickle.load(fh)\n",
      "                        \n",
      "        with open(os.path.join(plot_dir, plot_suffix + \".txt\"), \"w\") as fh:\n",
      "            fh.write(str(best_parameters))\n",
      "            fh.write(\"\\n\")\n",
      "            for trial0, trial1 in itertools.izip(metafeatures_all_trials['trials'], metafeatures_pfahringer_trials['trials']):\n",
      "                fh.write(', '.join([str(param) + \": \" + trial0['params'][param] for param in trial0['params']]))\n",
      "                fh.write(\"   \")\n",
      "                fh.write(', '.join([str(param) + \": \" + trial1['params'][param] for param in trial1['params']]))\n",
      "                fh.write(\"\\n\")\n",
      "        "
     ],
     "language": "python",
     "metadata": {},
     "outputs": [],
     "prompt_number": 24
    },
    {
     "cell_type": "code",
     "collapsed": false,
     "input": [],
     "language": "python",
     "metadata": {},
     "outputs": []
    },
    {
     "cell_type": "code",
     "collapsed": false,
     "input": [],
     "language": "python",
     "metadata": {},
     "outputs": []
    }
   ],
   "metadata": {}
  }
 ]
}