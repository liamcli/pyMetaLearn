{
 "metadata": {
  "name": ""
 },
 "nbformat": 3,
 "nbformat_minor": 0,
 "worksheets": [
  {
   "cells": [
    {
     "cell_type": "code",
     "collapsed": false,
     "input": [
      "import numpy as np\n",
      "import scipy\n",
      "import sklearn.tree\n",
      "import sklearn.svm\n",
      "import cPickle"
     ],
     "language": "python",
     "metadata": {},
     "outputs": [],
     "prompt_number": 64
    },
    {
     "cell_type": "code",
     "collapsed": false,
     "input": [
      "input_file = \"/home/feurerm/thesis/experiments/2014_04_25_predict_distances/testfold_0-3_spearman_rank_perm.pkl\"\n",
      "with open(input_file) as fh:\n",
      "    X, Y, metafeatures = cPickle.load(fh) "
     ],
     "language": "python",
     "metadata": {},
     "outputs": [],
     "prompt_number": 65
    },
    {
     "cell_type": "code",
     "collapsed": false,
     "input": [
      "class KendallsTau(sklearn.tree._tree.RegressionCriterion):\n",
      "    def __init__(self, n_outputs):\n",
      "        self.n_outputs = n_outputs\n",
      "        print self, vars(self)\n",
      "        print getattr(self, \"super\")\n",
      "        \n",
      "    def __cinit__(self, **kwargs):\n",
      "        print kwargs\n",
      "        pass\n",
      "    \n",
      "    def reset(self):\n",
      "        pass\n",
      "    \n",
      "    def update(self, new_pos):\n",
      "        print \"Update\"\n",
      "        y = self.y   # cdef DOUBLE_t* \n",
      "        y_stride = self.y_stride # cdef SIZE_t\n",
      "        sample_weight = self.sample_weight # cdef DOUBLE_t*\n",
      "\n",
      "        samples = self.samples # cdef SIZE_t*\n",
      "        pos = self.pos # cdef SIZE_t\n",
      "\n",
      "        n_outputs = self.n_outputs # cdef SIZE_t\n",
      "        mean_left = self.mean_left # cdef double* \n",
      "        mean_right = self.mean_right # cdef double*\n",
      "        sq_sum_left = self.sq_sum_left # cdef double*\n",
      "        sq_sum_right = self.sq_sum_right # cdef double*\n",
      "        var_left = self.var_left # cdef double*\n",
      "        var_right = self.var_right # cdef double*\n",
      "\n",
      "        weighted_n_left = self.weighted_n_left # cdef double\n",
      "        weighted_n_right = self.weighted_n_right # cdef double\n",
      "\n",
      "        # cdef SIZE_t i\n",
      "        # cdef SIZE_t p\n",
      "        # cdef SIZE_t k\n",
      "        w = 1.0 # cdef DOUBLE_t\n",
      "        # cdef DOUBLE_t y_ik, w_y_ik\n",
      "        \n",
      "        # for p from pos <= p < new_pos:\n",
      "        for p in range(pos, new_pos):\n",
      "            i = samples[p]\n",
      "\n",
      "            if sample_weight != NULL:\n",
      "                w = sample_weight[i]\n",
      "\n",
      "            # for k from 0 <= k < n_outputs:\n",
      "            for k in (n_outputs):\n",
      "                y_ik = y[i * y_stride + k]\n",
      "                w_y_ik = w * y_ik\n",
      "\n",
      "                sq_sum_left[k] += w_y_ik * y_ik\n",
      "                sq_sum_right[k] -= w_y_ik * y_ik\n",
      "\n",
      "                mean_left[k] = ((weighted_n_left * mean_left[k] + w_y_ik) /\n",
      "                                (weighted_n_left + w))\n",
      "                mean_right[k] = ((weighted_n_right * mean_right[k] - w_y_ik) /\n",
      "                                 (weighted_n_right - w))\n",
      "\n",
      "            weighted_n_left += w\n",
      "            weighted_n_right -= w\n",
      "\n",
      "        #for k from 0 <= k < n_outputs:\n",
      "        for k in range(n_outputs):\n",
      "            var_left[k] = (sq_sum_left[k] -\n",
      "                           weighted_n_left * (mean_left[k] * mean_left[k]))\n",
      "            var_right[k] = (sq_sum_right[k] -\n",
      "                            weighted_n_right * (mean_right[k] * mean_right[k]))\n",
      "\n",
      "        self.weighted_n_left = weighted_n_left\n",
      "        self.weighted_n_right = weighted_n_right\n",
      "\n",
      "        self.pos = new_pos        \n",
      "        \n",
      "    def node_impurity(self):\n",
      "        print \"Node impurity\"\n",
      "        return self.super.node_impurity()\n",
      "        \n",
      "    def children_impurity(self):\n",
      "        print \"Children impurity\"\n",
      "        return self.super.children_impurity()\n",
      "    \n",
      "    def node_value(self):\n",
      "        pass"
     ],
     "language": "python",
     "metadata": {},
     "outputs": [],
     "prompt_number": 196
    },
    {
     "cell_type": "code",
     "collapsed": false,
     "input": [
      "sklearn.tree.tree.CRITERIA_REG[\"kendalls_tau\"] = KendallsTau\n",
      "print sklearn.tree.tree.CRITERIA_REG"
     ],
     "language": "python",
     "metadata": {},
     "outputs": [
      {
       "output_type": "stream",
       "stream": "stdout",
       "text": [
        "{'kendalls_tau': <class '__main__.KendallsTau'>, 'mse': <type 'sklearn.tree._tree.MSE'>}\n"
       ]
      }
     ],
     "prompt_number": 197
    },
    {
     "cell_type": "code",
     "collapsed": false,
     "input": [
      "model = sklearn.tree.DecisionTreeRegressor(criterion=\"kendalls_tau\", min_samples_split=1)\n",
      "leave_out_dataset = metafeatures.index[0]\n",
      "\n",
      "train = []\n",
      "valid = []\n",
      "for cross in X.index:\n",
      "    if leave_out_dataset in cross:\n",
      "        valid.append(cross)\n",
      "    else:\n",
      "        train.append(cross)\n",
      "\n",
      "X_train = X.loc[train].values\n",
      "Y_train = Y.loc[train].values\n",
      "X_valid = X.loc[valid].values\n",
      "Y_valid = Y.loc[valid].values\n",
      "\n",
      "model.fit(X_train, Y_train)"
     ],
     "language": "python",
     "metadata": {},
     "outputs": [
      {
       "ename": "AttributeError",
       "evalue": "'KendallsTau' object has no attribute 'super'",
       "output_type": "pyerr",
       "traceback": [
        "\u001b[1;31m---------------------------------------------------------------------------\u001b[0m\n\u001b[1;31mAttributeError\u001b[0m                            Traceback (most recent call last)",
        "\u001b[1;32m<ipython-input-198-c5e33018bd7b>\u001b[0m in \u001b[0;36m<module>\u001b[1;34m()\u001b[0m\n\u001b[0;32m     15\u001b[0m \u001b[0mY_valid\u001b[0m \u001b[1;33m=\u001b[0m \u001b[0mY\u001b[0m\u001b[1;33m.\u001b[0m\u001b[0mloc\u001b[0m\u001b[1;33m[\u001b[0m\u001b[0mvalid\u001b[0m\u001b[1;33m]\u001b[0m\u001b[1;33m.\u001b[0m\u001b[0mvalues\u001b[0m\u001b[1;33m\u001b[0m\u001b[0m\n\u001b[0;32m     16\u001b[0m \u001b[1;33m\u001b[0m\u001b[0m\n\u001b[1;32m---> 17\u001b[1;33m \u001b[0mmodel\u001b[0m\u001b[1;33m.\u001b[0m\u001b[0mfit\u001b[0m\u001b[1;33m(\u001b[0m\u001b[0mX_train\u001b[0m\u001b[1;33m,\u001b[0m \u001b[0mY_train\u001b[0m\u001b[1;33m)\u001b[0m\u001b[1;33m\u001b[0m\u001b[0m\n\u001b[0m",
        "\u001b[1;32m/home/feurerm/thesis/virtualenvs/hpolib/local/lib/python2.7/site-packages/sklearn/tree/tree.pyc\u001b[0m in \u001b[0;36mfit\u001b[1;34m(self, X, y, sample_mask, X_argsorted, check_input, sample_weight)\u001b[0m\n\u001b[0;32m    227\u001b[0m                                                          self.n_classes_)\n\u001b[0;32m    228\u001b[0m             \u001b[1;32melse\u001b[0m\u001b[1;33m:\u001b[0m\u001b[1;33m\u001b[0m\u001b[0m\n\u001b[1;32m--> 229\u001b[1;33m                 \u001b[0mcriterion\u001b[0m \u001b[1;33m=\u001b[0m \u001b[0mCRITERIA_REG\u001b[0m\u001b[1;33m[\u001b[0m\u001b[0mself\u001b[0m\u001b[1;33m.\u001b[0m\u001b[0mcriterion\u001b[0m\u001b[1;33m]\u001b[0m\u001b[1;33m(\u001b[0m\u001b[0mself\u001b[0m\u001b[1;33m.\u001b[0m\u001b[0mn_outputs_\u001b[0m\u001b[1;33m)\u001b[0m\u001b[1;33m\u001b[0m\u001b[0m\n\u001b[0m\u001b[0;32m    230\u001b[0m \u001b[1;33m\u001b[0m\u001b[0m\n\u001b[0;32m    231\u001b[0m         \u001b[0msplitter\u001b[0m \u001b[1;33m=\u001b[0m \u001b[0mself\u001b[0m\u001b[1;33m.\u001b[0m\u001b[0msplitter\u001b[0m\u001b[1;33m\u001b[0m\u001b[0m\n",
        "\u001b[1;32m<ipython-input-196-ec8083574d90>\u001b[0m in \u001b[0;36m__init__\u001b[1;34m(self, n_outputs)\u001b[0m\n\u001b[0;32m      3\u001b[0m         \u001b[0mself\u001b[0m\u001b[1;33m.\u001b[0m\u001b[0mn_outputs\u001b[0m \u001b[1;33m=\u001b[0m \u001b[0mn_outputs\u001b[0m\u001b[1;33m\u001b[0m\u001b[0m\n\u001b[0;32m      4\u001b[0m         \u001b[1;32mprint\u001b[0m \u001b[0mself\u001b[0m\u001b[1;33m,\u001b[0m \u001b[0mvars\u001b[0m\u001b[1;33m(\u001b[0m\u001b[0mself\u001b[0m\u001b[1;33m)\u001b[0m\u001b[1;33m\u001b[0m\u001b[0m\n\u001b[1;32m----> 5\u001b[1;33m         \u001b[1;32mprint\u001b[0m \u001b[0mgetattr\u001b[0m\u001b[1;33m(\u001b[0m\u001b[0mself\u001b[0m\u001b[1;33m,\u001b[0m \u001b[1;34m\"super\"\u001b[0m\u001b[1;33m)\u001b[0m\u001b[1;33m\u001b[0m\u001b[0m\n\u001b[0m\u001b[0;32m      6\u001b[0m \u001b[1;33m\u001b[0m\u001b[0m\n\u001b[0;32m      7\u001b[0m     \u001b[1;32mdef\u001b[0m \u001b[0m__cinit__\u001b[0m\u001b[1;33m(\u001b[0m\u001b[0mself\u001b[0m\u001b[1;33m,\u001b[0m \u001b[1;33m**\u001b[0m\u001b[0mkwargs\u001b[0m\u001b[1;33m)\u001b[0m\u001b[1;33m:\u001b[0m\u001b[1;33m\u001b[0m\u001b[0m\n",
        "\u001b[1;31mAttributeError\u001b[0m: 'KendallsTau' object has no attribute 'super'"
       ]
      },
      {
       "output_type": "stream",
       "stream": "stdout",
       "text": [
        "<__main__.KendallsTau object at 0xba57d2c> {'n_outputs': 1}\n"
       ]
      }
     ],
     "prompt_number": 198
    },
    {
     "cell_type": "code",
     "collapsed": false,
     "input": [
      "model.criterion_.n_outputs"
     ],
     "language": "python",
     "metadata": {},
     "outputs": [
      {
       "ename": "AttributeError",
       "evalue": "'DecisionTreeRegressor' object has no attribute 'criterion_'",
       "output_type": "pyerr",
       "traceback": [
        "\u001b[1;31m---------------------------------------------------------------------------\u001b[0m\n\u001b[1;31mAttributeError\u001b[0m                            Traceback (most recent call last)",
        "\u001b[1;32m<ipython-input-199-0f797c1f452e>\u001b[0m in \u001b[0;36m<module>\u001b[1;34m()\u001b[0m\n\u001b[1;32m----> 1\u001b[1;33m \u001b[0mmodel\u001b[0m\u001b[1;33m.\u001b[0m\u001b[0mcriterion_\u001b[0m\u001b[1;33m.\u001b[0m\u001b[0mn_outputs\u001b[0m\u001b[1;33m\u001b[0m\u001b[0m\n\u001b[0m",
        "\u001b[1;31mAttributeError\u001b[0m: 'DecisionTreeRegressor' object has no attribute 'criterion_'"
       ]
      }
     ],
     "prompt_number": 199
    },
    {
     "cell_type": "code",
     "collapsed": false,
     "input": [
      "predictions = model.predict(X_valid)\n",
      "print predictions\n",
      "print \"Rho\", scipy.stats.kendalltau(Y_valid, predictions)[0]\n",
      "print \"MAE\", sklearn.metrics.mean_absolute_error(predictions, Y_valid)"
     ],
     "language": "python",
     "metadata": {},
     "outputs": [
      {
       "output_type": "stream",
       "stream": "stdout",
       "text": [
        "[  3.25046040e-252   3.25046040e-252   3.25046040e-252   3.25046040e-252\n",
        "   3.25046040e-252   3.25046040e-252   3.25046040e-252   3.25046040e-252\n",
        "   3.25046040e-252   3.25046040e-252   3.25046040e-252   3.25046040e-252\n",
        "   3.25046040e-252   3.25046040e-252   3.25046040e-252   3.25046040e-252\n",
        "   3.25046040e-252   3.25046040e-252   3.25046040e-252   3.25046040e-252\n",
        "   3.25046040e-252   3.25046040e-252   3.25046040e-252   3.25046040e-252\n",
        "   3.25046040e-252   3.25046040e-252   3.25046040e-252   3.25046040e-252\n",
        "   3.25046040e-252   3.25046040e-252   3.25046040e-252   3.25046040e-252\n",
        "   3.25046040e-252   3.25046040e-252   3.25046040e-252   3.25046040e-252\n",
        "   3.25046040e-252   3.25046040e-252   3.25046040e-252   3.25046040e-252\n",
        "   3.25046040e-252   3.25046040e-252   3.25046040e-252   3.25046040e-252\n",
        "   3.25046040e-252   3.25046040e-252   3.25046040e-252   3.25046040e-252\n",
        "   3.25046040e-252   3.25046040e-252   3.25046040e-252   3.25046040e-252\n",
        "   3.25046040e-252   3.25046040e-252   3.25046040e-252   3.25046040e-252\n",
        "   3.25046040e-252   3.25046040e-252   3.25046040e-252   3.25046040e-252\n",
        "   3.25046040e-252   3.25046040e-252   3.25046040e-252   3.25046040e-252\n",
        "   3.25046040e-252   3.25046040e-252   3.25046040e-252   3.25046040e-252\n",
        "   3.25046040e-252   3.25046040e-252   3.25046040e-252   3.25046040e-252\n",
        "   3.25046040e-252   3.25046040e-252   3.25046040e-252   3.25046040e-252\n",
        "   3.25046040e-252   3.25046040e-252   3.25046040e-252   3.25046040e-252\n",
        "   3.25046040e-252   3.25046040e-252   3.25046040e-252   3.25046040e-252\n",
        "   3.25046040e-252   3.25046040e-252   3.25046040e-252   3.25046040e-252\n",
        "   3.25046040e-252   3.25046040e-252   3.25046040e-252   3.25046040e-252\n",
        "   3.25046040e-252   3.25046040e-252   3.25046040e-252   3.25046040e-252\n",
        "   3.25046040e-252   3.25046040e-252   3.25046040e-252   3.25046040e-252\n",
        "   3.25046040e-252   3.25046040e-252   3.25046040e-252   3.25046040e-252\n",
        "   3.25046040e-252   3.25046040e-252   3.25046040e-252   3.25046040e-252\n",
        "   3.25046040e-252   3.25046040e-252   3.25046040e-252   3.25046040e-252]\n",
        "Rho nan\n",
        "MAE 0.490125399198\n"
       ]
      }
     ],
     "prompt_number": 180
    },
    {
     "cell_type": "code",
     "collapsed": false,
     "input": [],
     "language": "python",
     "metadata": {},
     "outputs": []
    }
   ],
   "metadata": {}
  }
 ]
}